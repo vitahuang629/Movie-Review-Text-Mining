{
 "cells": [
  {
   "cell_type": "code",
   "execution_count": 805,
   "id": "e79f1951",
   "metadata": {},
   "outputs": [],
   "source": [
    "import pandas as pd\n",
    "import numpy as np\n",
    "import nltk\n",
    "import re\n",
    "from nltk.corpus import stopwords\n",
    "import itertools\n",
    "import numpy as np\n",
    "import matplotlib.pyplot as plt"
   ]
  },
  {
   "cell_type": "code",
   "execution_count": 806,
   "id": "e7a1cdf5",
   "metadata": {},
   "outputs": [],
   "source": [
    "#read two datasets\n",
    "movie = pd.read_csv('rotten_tomatoes_movies.csv')\n",
    "critics = pd.read_csv('rotten_tomatoes_critic_reviews.csv')"
   ]
  },
  {
   "cell_type": "code",
   "execution_count": 807,
   "id": "3998cc35",
   "metadata": {},
   "outputs": [],
   "source": [
    "movie1 = movie[['rotten_tomatoes_link', 'movie_title', 'critics_consensus', 'genres', \n",
    "                'tomatometer_rating', 'audience_rating']].copy()"
   ]
  },
  {
   "cell_type": "code",
   "execution_count": 808,
   "id": "5e6f334b",
   "metadata": {},
   "outputs": [],
   "source": [
    "movie1 = movie1.dropna(subset=['tomatometer_rating', 'audience_rating'])\n",
    "movie1 = movie1.reset_index(drop=True)"
   ]
  },
  {
   "cell_type": "code",
   "execution_count": 809,
   "id": "178c6f6e",
   "metadata": {},
   "outputs": [],
   "source": [
    "tomato_mean = movie1['tomatometer_rating'].mean()\n",
    "audience_mean = movie1['audience_rating'].mean()"
   ]
  },
  {
   "cell_type": "code",
   "execution_count": 810,
   "id": "c0c02cee",
   "metadata": {},
   "outputs": [
    {
     "name": "stdout",
     "output_type": "stream",
     "text": [
      "60.74504509680014\n",
      "60.556385362210605\n"
     ]
    }
   ],
   "source": [
    "print(tomato_mean)\n",
    "print(audience_mean)"
   ]
  },
  {
   "cell_type": "code",
   "execution_count": 811,
   "id": "6fef11b4",
   "metadata": {},
   "outputs": [],
   "source": [
    "#create two binary columns based on the tomatomer_rating and audience_rating\n",
    "movie1['tomato_binary_rating'] = np.where(movie1['tomatometer_rating']>60, '1', '0')\n",
    "movie1['audience_binary_rating'] = np.where(movie1['audience_rating']>60, '1', '0')"
   ]
  },
  {
   "cell_type": "code",
   "execution_count": 812,
   "id": "074999cd",
   "metadata": {},
   "outputs": [
    {
     "name": "stdout",
     "output_type": "stream",
     "text": [
      "['Action & Adventure, Comedy, Drama, Science Fiction & Fantasy' 'Comedy'\n",
      " 'Comedy, Romance' ...\n",
      " 'Animation, Art House & International, Drama, Science Fiction & Fantasy, Romance'\n",
      " 'Art House & International, Romance'\n",
      " 'Action & Adventure, Drama, Horror, Kids & Family, Mystery & Suspense']\n"
     ]
    }
   ],
   "source": [
    "print(movie1['genres'].unique())"
   ]
  },
  {
   "cell_type": "code",
   "execution_count": 813,
   "id": "498c48cf",
   "metadata": {},
   "outputs": [],
   "source": [
    "#print(movie1[movie1['genres'].isna()])\n",
    "movie1 = movie1.dropna(subset=['genres', 'critics_consensus'])\n",
    "movie1 = movie1.reset_index(drop=True)"
   ]
  },
  {
   "cell_type": "code",
   "execution_count": 814,
   "id": "016c8980",
   "metadata": {},
   "outputs": [
    {
     "name": "stdout",
     "output_type": "stream",
     "text": [
      "                    rotten_tomatoes_link                                        movie_title                                  critics_consensus                                             genres  tomatometer_rating  audience_rating tomato_binary_rating audience_binary_rating\n",
      "0                              m/0814255  Percy Jackson & the Olympians: The Lightning T...  Though it may seem like just another Harry Pot...  Action & Adventure, Comedy, Drama, Science Fic...                49.0             53.0                    0                      0\n",
      "1                              m/0878835                                        Please Give  Nicole Holofcener's newest might seem slight i...                                             Comedy                87.0             64.0                    1                      1\n",
      "2                                   m/10                                                 10  Blake Edwards' bawdy comedy may not score a pe...                                    Comedy, Romance                67.0             53.0                    1                      0\n",
      "3                 m/1000013-12_angry_men                    12 Angry Men (Twelve Angry Men)  Sidney Lumet's feature debut is a superbly wri...                                    Classics, Drama               100.0             97.0                    1                      1\n",
      "4  m/1000079-20000_leagues_under_the_sea                       20,000 Leagues Under The Sea  One of Disney's finest live-action adventures,...           Action & Adventure, Drama, Kids & Family                89.0             74.0                    1                      1\n"
     ]
    }
   ],
   "source": [
    "print(movie1.head())"
   ]
  },
  {
   "cell_type": "code",
   "execution_count": 815,
   "id": "b769aa00",
   "metadata": {},
   "outputs": [],
   "source": [
    "#create two movie genres.\n",
    "#one is made of \"Horror\" and \"Mystery & Suspense\", and one is made of \"Romance\", \"Kids & Family\", and \"Comedy\"\n",
    "list1_of_genres = [\"Horror\", \"Mystery & Suspense\"]\n",
    "movie_g1 = movie1[movie1.genres.str.contains('|'.join(list1_of_genres))]\n",
    "list2_of_genres = [\"Romance\", \"Kids & Family\", \"Comedy\"]\n",
    "movie_g2 = movie1[movie1.genres.str.contains('|'.join(list2_of_genres))]\n",
    "movie_g1 = movie_g1.reset_index(drop=True)\n",
    "movie_g2 = movie_g2.reset_index(drop=True)\n",
    "#list_of_genres = [ \"Horror\", \"Mystery & Suspense\", \"Romance\", \"Kids & Family\", \"Comedy\"]\n",
    "#movie_genres = movie1[movie1[\"genres\"].isin(list_of_genres)]"
   ]
  },
  {
   "cell_type": "code",
   "execution_count": 816,
   "id": "d77d51e7",
   "metadata": {},
   "outputs": [
    {
     "name": "stdout",
     "output_type": "stream",
     "text": [
      "<class 'pandas.core.frame.DataFrame'>\n",
      "RangeIndex: 2425 entries, 0 to 2424\n",
      "Data columns (total 8 columns):\n",
      " #   Column                  Non-Null Count  Dtype  \n",
      "---  ------                  --------------  -----  \n",
      " 0   rotten_tomatoes_link    2425 non-null   object \n",
      " 1   movie_title             2425 non-null   object \n",
      " 2   critics_consensus       2425 non-null   object \n",
      " 3   genres                  2425 non-null   object \n",
      " 4   tomatometer_rating      2425 non-null   float64\n",
      " 5   audience_rating         2425 non-null   float64\n",
      " 6   tomato_binary_rating    2425 non-null   object \n",
      " 7   audience_binary_rating  2425 non-null   object \n",
      "dtypes: float64(2), object(6)\n",
      "memory usage: 151.7+ KB\n",
      "None\n",
      "<class 'pandas.core.frame.DataFrame'>\n",
      "RangeIndex: 3877 entries, 0 to 3876\n",
      "Data columns (total 8 columns):\n",
      " #   Column                  Non-Null Count  Dtype  \n",
      "---  ------                  --------------  -----  \n",
      " 0   rotten_tomatoes_link    3877 non-null   object \n",
      " 1   movie_title             3877 non-null   object \n",
      " 2   critics_consensus       3877 non-null   object \n",
      " 3   genres                  3877 non-null   object \n",
      " 4   tomatometer_rating      3877 non-null   float64\n",
      " 5   audience_rating         3877 non-null   float64\n",
      " 6   tomato_binary_rating    3877 non-null   object \n",
      " 7   audience_binary_rating  3877 non-null   object \n",
      "dtypes: float64(2), object(6)\n",
      "memory usage: 242.4+ KB\n",
      "None\n"
     ]
    }
   ],
   "source": [
    "print(movie_g1.info())\n",
    "print(movie_g2.info())"
   ]
  },
  {
   "cell_type": "code",
   "execution_count": 817,
   "id": "d581ef03",
   "metadata": {},
   "outputs": [],
   "source": [
    "movie_g1['genres'] = 'Horror & Suspense'\n",
    "movie_g2['genres'] = 'Family Movie'\n",
    "#print(movie_g1['genres'].unique())\n",
    "#print(movie_g2['genres'].unique())"
   ]
  },
  {
   "cell_type": "code",
   "execution_count": 818,
   "id": "a015c34b",
   "metadata": {},
   "outputs": [],
   "source": [
    "#drop duplicate rows because there are some same rotten_tomatoes_link\n",
    "movie_final = pd.concat([movie_g1,movie_g2]).drop_duplicates(subset='rotten_tomatoes_link', keep=\"first\").reset_index(drop=True)"
   ]
  },
  {
   "cell_type": "code",
   "execution_count": 819,
   "id": "67de0331",
   "metadata": {},
   "outputs": [
    {
     "name": "stdout",
     "output_type": "stream",
     "text": [
      "<class 'pandas.core.frame.DataFrame'>\n",
      "RangeIndex: 5897 entries, 0 to 5896\n",
      "Data columns (total 8 columns):\n",
      " #   Column                  Non-Null Count  Dtype  \n",
      "---  ------                  --------------  -----  \n",
      " 0   rotten_tomatoes_link    5897 non-null   object \n",
      " 1   movie_title             5897 non-null   object \n",
      " 2   critics_consensus       5897 non-null   object \n",
      " 3   genres                  5897 non-null   object \n",
      " 4   tomatometer_rating      5897 non-null   float64\n",
      " 5   audience_rating         5897 non-null   float64\n",
      " 6   tomato_binary_rating    5897 non-null   object \n",
      " 7   audience_binary_rating  5897 non-null   object \n",
      "dtypes: float64(2), object(6)\n",
      "memory usage: 368.7+ KB\n",
      "None\n"
     ]
    }
   ],
   "source": [
    "print(movie_final.info())"
   ]
  },
  {
   "cell_type": "markdown",
   "id": "31bcc1b4",
   "metadata": {},
   "source": [
    "### second dataset"
   ]
  },
  {
   "cell_type": "code",
   "execution_count": 820,
   "id": "c9d9eb01",
   "metadata": {},
   "outputs": [
    {
     "name": "stdout",
     "output_type": "stream",
     "text": [
      "<class 'pandas.core.frame.DataFrame'>\n",
      "RangeIndex: 1064211 entries, 0 to 1064210\n",
      "Data columns (total 2 columns):\n",
      " #   Column                Non-Null Count    Dtype \n",
      "---  ------                --------------    ----- \n",
      " 0   rotten_tomatoes_link  1064211 non-null  object\n",
      " 1   review_content        1064211 non-null  object\n",
      "dtypes: object(2)\n",
      "memory usage: 16.2+ MB\n",
      "None\n"
     ]
    }
   ],
   "source": [
    "critics1 = critics[['rotten_tomatoes_link', 'review_content']].copy()\n",
    "critics1 = critics1.dropna(subset=['review_content'])\n",
    "critics1 = critics1.reset_index(drop=True)\n",
    "print(critics1.info())\n",
    "#print(critics1[critics1['review_content'].isna()])"
   ]
  },
  {
   "cell_type": "code",
   "execution_count": 821,
   "id": "49f7ddab",
   "metadata": {},
   "outputs": [
    {
     "name": "stdout",
     "output_type": "stream",
     "text": [
      "<class 'pandas.core.frame.DataFrame'>\n",
      "Int64Index: 602583 entries, 0 to 1064182\n",
      "Data columns (total 2 columns):\n",
      " #   Column                Non-Null Count   Dtype \n",
      "---  ------                --------------   ----- \n",
      " 0   rotten_tomatoes_link  602583 non-null  object\n",
      " 1   review_content        602583 non-null  object\n",
      "dtypes: object(2)\n",
      "memory usage: 13.8+ MB\n",
      "None\n"
     ]
    }
   ],
   "source": [
    "#select critics review which are for the selected movies in the movie_final dataset\n",
    "movie_link_list = movie_final.rotten_tomatoes_link.values.tolist()\n",
    "critics1 = critics1[critics1['rotten_tomatoes_link'].isin(movie_link_list)]\n",
    "print(critics1.info())"
   ]
  },
  {
   "cell_type": "code",
   "execution_count": 822,
   "id": "3374f3f2",
   "metadata": {},
   "outputs": [],
   "source": [
    "mapping = dict(movie_final[['rotten_tomatoes_link', 'genres']].values)\n",
    "critics1['genres'] = critics1.rotten_tomatoes_link.map(mapping)\n"
   ]
  },
  {
   "cell_type": "code",
   "execution_count": 823,
   "id": "51f9ec77",
   "metadata": {},
   "outputs": [
    {
     "name": "stdout",
     "output_type": "stream",
     "text": [
      "  rotten_tomatoes_link                                     review_content             genres\n",
      "0   m/1000121-39_steps                        If you haven't seen it, do.  Horror & Suspense\n",
      "1   m/1000121-39_steps                 Laced with comic romantic touches.  Horror & Suspense\n",
      "2   m/1000121-39_steps  For those who love a grand spy mystery, a wild...  Horror & Suspense\n",
      "3   m/1000121-39_steps  If you can imagine Anatole France writing a de...  Horror & Suspense\n",
      "4   m/1000121-39_steps  The 39 Steps (1935) is one of the earlier Alfr...  Horror & Suspense\n"
     ]
    }
   ],
   "source": [
    "horror = critics1[critics1.genres.str.contains(\"Horror & Suspense\")].reset_index(drop=True)\n",
    "family = critics1[critics1.genres.str.contains(\"Family Movie\")].reset_index(drop=True)\n",
    "#horror = horror.groupby(['rotten_tomatoes_link'])\n",
    "print(horror.head())"
   ]
  },
  {
   "cell_type": "code",
   "execution_count": 824,
   "id": "fd331e84",
   "metadata": {},
   "outputs": [],
   "source": [
    "from nltk.tokenize import word_tokenize\n",
    "from nltk.stem import WordNetLemmatizer, PorterStemmer"
   ]
  },
  {
   "cell_type": "code",
   "execution_count": 825,
   "id": "ed96657c",
   "metadata": {},
   "outputs": [],
   "source": [
    "stop_words = set(stopwords.words('english'))\n",
    "ps = PorterStemmer()\n",
    "wnl = WordNetLemmatizer()\n",
    "words_list = []\n",
    "movie_sentence_list = []\n",
    "for i in horror['review_content'].values:\n",
    "    my_list = re.findall(r\"(?<![@#])\\b\\w+(?:'\\w+)?\", i)       #prevent he's or it's happens\n",
    "    #my_list = [wnl.lemmatize(w)if wnl.lemmatize(w).endswith('e') else ps.stem(w) for w in my_list]                    #stemming words\n",
    "    for w in my_list:\n",
    "        if not w.lower() in stop_words and not w.isdigit():   #remove stop_words and digits\n",
    "            words_list.append(w.lower())\n",
    "            #words_list = list(set(words_list))                #remove duplicate string in a list\n",
    "    movie_sentence_list.append(list(words_list))\n",
    "    words_list = []\n",
    "horror['words'] = movie_sentence_list\n",
    "#print(horror)\n"
   ]
  },
  {
   "cell_type": "code",
   "execution_count": 826,
   "id": "b4e421c1",
   "metadata": {},
   "outputs": [
    {
     "name": "stdout",
     "output_type": "stream",
     "text": [
      "           rotten_tomatoes_link                                              words\n",
      "0            m/1000121-39_steps  [[seen], [laced, comic, romantic, touches], [l...\n",
      "1           m/10003276-criminal  [[got, two, half, months, crap, go, get, holid...\n",
      "2     m/10004288-running_scared  [[unapologetic, face, thriller, that's, sure, ...\n",
      "3        m/10004504-ultraviolet  [[ultraviolet, studied, great, interest, futur...\n",
      "4            m/10004697-eternal  [[multidimensional, characterization, dialogue...\n",
      "...                         ...                                                ...\n",
      "2419             m/zombi_2_1979  [[horrible, acting, uneven, pacing, truly, awf...\n",
      "2420          m/zombie_for_sale  [[thing, irritating, watching, film, complete,...\n",
      "2421         m/zombie_strippers  [[fast, paced, silly, ought, mostly, lee, real...\n",
      "2422               m/zombieland  [[killer, comedy, vicious, sense, humor, runni...\n",
      "2423    m/zombieland_double_tap  [[act, giving, audience, exactly, want, still,...\n",
      "\n",
      "[2424 rows x 2 columns]\n"
     ]
    }
   ],
   "source": [
    "horror1 = horror[['rotten_tomatoes_link','words']].copy()\n",
    "horror1 = horror1.groupby(['rotten_tomatoes_link'], as_index = False).agg({'words': list})\n",
    "print(horror1)\n",
    "\n",
    "#print(horror1)\n",
    "#df.groupby(['name', 'month'], as_index = False).agg({'text': list})"
   ]
  },
  {
   "cell_type": "code",
   "execution_count": 827,
   "id": "434b93c8",
   "metadata": {},
   "outputs": [
    {
     "name": "stdout",
     "output_type": "stream",
     "text": [
      "           rotten_tomatoes_link                                              words                                      combine_words\n",
      "0            m/1000121-39_steps  [[seen], [laced, comic, romantic, touches], [l...  [seen, laced, comic, romantic, touches, love, ...\n",
      "1           m/10003276-criminal  [[got, two, half, months, crap, go, get, holid...  [got, two, half, months, crap, go, get, holida...\n",
      "2     m/10004288-running_scared  [[unapologetic, face, thriller, that's, sure, ...  [unapologetic, face, thriller, that's, sure, t...\n",
      "3        m/10004504-ultraviolet  [[ultraviolet, studied, great, interest, futur...  [ultraviolet, studied, great, interest, future...\n",
      "4            m/10004697-eternal  [[multidimensional, characterization, dialogue...  [multidimensional, characterization, dialogue,...\n",
      "...                         ...                                                ...                                                ...\n",
      "2419             m/zombi_2_1979  [[horrible, acting, uneven, pacing, truly, awf...  [horrible, acting, uneven, pacing, truly, awfu...\n",
      "2420          m/zombie_for_sale  [[thing, irritating, watching, film, complete,...  [thing, irritating, watching, film, complete, ...\n",
      "2421         m/zombie_strippers  [[fast, paced, silly, ought, mostly, lee, real...  [fast, paced, silly, ought, mostly, lee, reall...\n",
      "2422               m/zombieland  [[killer, comedy, vicious, sense, humor, runni...  [killer, comedy, vicious, sense, humor, runnin...\n",
      "2423    m/zombieland_double_tap  [[act, giving, audience, exactly, want, still,...  [act, giving, audience, exactly, want, still, ...\n",
      "\n",
      "[2424 rows x 3 columns]\n"
     ]
    }
   ],
   "source": [
    "release_list = []\n",
    "same_movie_words = []\n",
    "for i in horror1['words'].values:\n",
    "    #release_list.append(sum(i, []))\n",
    "    a = sum(i, [])\n",
    "    same_movie_words.append(a)\n",
    "    #release_list = []\n",
    "\n",
    "    \n",
    " \n",
    "\n",
    "horror1['combine_words'] = same_movie_words\n",
    "print(horror1)"
   ]
  },
  {
   "cell_type": "code",
   "execution_count": 828,
   "id": "c98fd934",
   "metadata": {},
   "outputs": [
    {
     "name": "stdout",
     "output_type": "stream",
     "text": [
      "       rotten_tomatoes_link                                     review_content        genres                                              words\n",
      "0                 m/0814255  A fantasy adventure that fuses Greek mythology...  Family Movie  [fantasy, adventure, fuses, greek, mythology, ...\n",
      "1                 m/0814255  Uma Thurman as Medusa, the gorgon with a coiff...  Family Movie  [uma, thurman, medusa, gorgon, coiffure, writh...\n",
      "2                 m/0814255  With a top-notch cast and dazzling special eff...  Family Movie  [top, notch, cast, dazzling, special, effects,...\n",
      "3                 m/0814255  Whether audiences will get behind The Lightnin...  Family Movie  [whether, audiences, get, behind, lightning, t...\n",
      "4                 m/0814255  What's really lacking in The Lightning Thief i...  Family Movie  [what's, really, lacking, lightning, thief, ge...\n",
      "...                     ...                                                ...           ...                                                ...\n",
      "353599           m/zootopia  Zootopia is your classic reluctant partners bu...  Family Movie  [zootopia, classic, reluctant, partners, buddy...\n",
      "353600           m/zootopia  The idea of multiculturalism is not acceptance...  Family Movie    [idea, multiculturalism, acceptance, tolerance]\n",
      "353601           m/zootopia  Zootopia is a spectacular achievement on every...  Family Movie  [zootopia, spectacular, achievement, every, le...\n",
      "353602           m/zootopia  It's colorful, fun, and has a good message. Wi...  Family Movie  [colorful, fun, good, message, remember, tomor...\n",
      "353603           m/zootopia  Zootopia is the rare animated Disney film that...  Family Movie  [zootopia, rare, animated, disney, film, feels...\n",
      "\n",
      "[353604 rows x 4 columns]\n"
     ]
    }
   ],
   "source": [
    "words_list = []\n",
    "movie_sentence_list = []\n",
    "for i in family['review_content'].values:\n",
    "    my_list = re.findall(r\"(?<![@#])\\b\\w+(?:'\\w+)?\", i)\n",
    "    #my_list = [ps.stem(w)for w in my_list]                  #stemming words\n",
    "    for w in my_list:\n",
    "        if not w.lower() in stop_words and not w.isdigit(): #remove stop_words and digits\n",
    "            words_list.append(w.lower())\n",
    "            #words_list = list(set(words_list))              #remove duplicate string in a list\n",
    "    movie_sentence_list.append(list(words_list))\n",
    "    words_list = []\n",
    "family['words'] = movie_sentence_list\n",
    "print(family)\n"
   ]
  },
  {
   "cell_type": "code",
   "execution_count": 829,
   "id": "15b12ed2",
   "metadata": {},
   "outputs": [
    {
     "name": "stdout",
     "output_type": "stream",
     "text": [
      "                       rotten_tomatoes_link                                              words\n",
      "0                                 m/0814255  [[fantasy, adventure, fuses, greek, mythology,...\n",
      "1                                 m/0878835  [[like, holofcener's, previous, pictures, plea...\n",
      "2                                      m/10  [[known, numerical, rating, system, beautiful,...\n",
      "3     m/1000079-20000_leagues_under_the_sea  [[embodiment, disney, best, family, entertainm...\n",
      "4                       m/1000253-adams_rib  [[adam's, rib, gives, us, writers, performers,...\n",
      "...                                     ...                                                ...\n",
      "3466                            m/zookeeper  [[zookeeper, essentially, surreally, awful, ha...\n",
      "3467                            m/zoolander  [[making, movie, that's, stupid, fun, must, re...\n",
      "3468                          m/zoolander_2  [[like, predecessor, best, bits, sequel, isola...\n",
      "3469                            m/zoom_2006  [[whole, thing, pg, rated, greatest, hits, col...\n",
      "3470                             m/zootopia  [[variety, cute, occasionally, slightly, scary...\n",
      "\n",
      "[3471 rows x 2 columns]\n"
     ]
    }
   ],
   "source": [
    "family1 = family[['rotten_tomatoes_link', 'words']].copy()\n",
    "family1 = family.groupby(['rotten_tomatoes_link'], as_index = False).agg({'words': list})\n",
    "print(family1)"
   ]
  },
  {
   "cell_type": "code",
   "execution_count": 830,
   "id": "20ce3625",
   "metadata": {},
   "outputs": [
    {
     "name": "stdout",
     "output_type": "stream",
     "text": [
      "                       rotten_tomatoes_link                                              words                                      combine_words\n",
      "0                                 m/0814255  [[fantasy, adventure, fuses, greek, mythology,...  [fantasy, adventure, fuses, greek, mythology, ...\n",
      "1                                 m/0878835  [[like, holofcener's, previous, pictures, plea...  [like, holofcener's, previous, pictures, pleas...\n",
      "2                                      m/10  [[known, numerical, rating, system, beautiful,...  [known, numerical, rating, system, beautiful, ...\n",
      "3     m/1000079-20000_leagues_under_the_sea  [[embodiment, disney, best, family, entertainm...  [embodiment, disney, best, family, entertainme...\n",
      "4                       m/1000253-adams_rib  [[adam's, rib, gives, us, writers, performers,...  [adam's, rib, gives, us, writers, performers, ...\n",
      "...                                     ...                                                ...                                                ...\n",
      "3466                            m/zookeeper  [[zookeeper, essentially, surreally, awful, ha...  [zookeeper, essentially, surreally, awful, hap...\n",
      "3467                            m/zoolander  [[making, movie, that's, stupid, fun, must, re...  [making, movie, that's, stupid, fun, must, rea...\n",
      "3468                          m/zoolander_2  [[like, predecessor, best, bits, sequel, isola...  [like, predecessor, best, bits, sequel, isolat...\n",
      "3469                            m/zoom_2006  [[whole, thing, pg, rated, greatest, hits, col...  [whole, thing, pg, rated, greatest, hits, coll...\n",
      "3470                             m/zootopia  [[variety, cute, occasionally, slightly, scary...  [variety, cute, occasionally, slightly, scary,...\n",
      "\n",
      "[3471 rows x 3 columns]\n"
     ]
    }
   ],
   "source": [
    "release_list = []\n",
    "same_movie_words = []\n",
    "for i in family1['words'].values:\n",
    "    #release_list.append(sum(i, []))\n",
    "    a = sum(i, [])\n",
    "    same_movie_words.append(a)\n",
    "    #release_list = []\n",
    "\n",
    "family1['combine_words'] = same_movie_words\n",
    "print(family1)"
   ]
  },
  {
   "cell_type": "code",
   "execution_count": 831,
   "id": "b3a04513",
   "metadata": {},
   "outputs": [
    {
     "name": "stdout",
     "output_type": "stream",
     "text": [
      "           rotten_tomatoes_link                                              words                                      combine_words\n",
      "0            m/1000121-39_steps  [[seen], [laced, comic, romantic, touches], [l...  [seen, laced, comic, romantic, touches, love, ...\n",
      "1           m/10003276-criminal  [[got, two, half, months, crap, go, get, holid...  [got, two, half, months, crap, go, get, holida...\n",
      "2     m/10004288-running_scared  [[unapologetic, face, thriller, that's, sure, ...  [unapologetic, face, thriller, that's, sure, t...\n",
      "3        m/10004504-ultraviolet  [[ultraviolet, studied, great, interest, futur...  [ultraviolet, studied, great, interest, future...\n",
      "4            m/10004697-eternal  [[multidimensional, characterization, dialogue...  [multidimensional, characterization, dialogue,...\n",
      "...                         ...                                                ...                                                ...\n",
      "5890                m/zookeeper  [[zookeeper, essentially, surreally, awful, ha...  [zookeeper, essentially, surreally, awful, hap...\n",
      "5891                m/zoolander  [[making, movie, that's, stupid, fun, must, re...  [making, movie, that's, stupid, fun, must, rea...\n",
      "5892              m/zoolander_2  [[like, predecessor, best, bits, sequel, isola...  [like, predecessor, best, bits, sequel, isolat...\n",
      "5893                m/zoom_2006  [[whole, thing, pg, rated, greatest, hits, col...  [whole, thing, pg, rated, greatest, hits, coll...\n",
      "5894                 m/zootopia  [[variety, cute, occasionally, slightly, scary...  [variety, cute, occasionally, slightly, scary,...\n",
      "\n",
      "[5895 rows x 3 columns]\n"
     ]
    }
   ],
   "source": [
    "horror_family = pd.concat([horror1, family1], ignore_index=True)\n",
    "print(horror_family)"
   ]
  },
  {
   "cell_type": "code",
   "execution_count": 832,
   "id": "3fcb6856",
   "metadata": {},
   "outputs": [
    {
     "name": "stdout",
     "output_type": "stream",
     "text": [
      "           rotten_tomatoes_link                                              words                                      combine_words                             remove_duplicate_words             genres\n",
      "0            m/1000121-39_steps  [[seen], [laced, comic, romantic, touches], [l...  [seen, laced, comic, romantic, touches, love, ...  [office, example, piece, characteristic, finis...  Horror & Suspense\n",
      "1           m/10003276-criminal  [[got, two, half, months, crap, go, get, holid...  [got, two, half, months, crap, go, get, holida...  [diminished, looks, authoritative, americaniza...  Horror & Suspense\n",
      "2     m/10004288-running_scared  [[unapologetic, face, thriller, that's, sure, ...  [unapologetic, face, thriller, that's, sure, t...  [example, looks, piece, could've, finish, subs...  Horror & Suspense\n",
      "3        m/10004504-ultraviolet  [[ultraviolet, studied, great, interest, futur...  [ultraviolet, studied, great, interest, future...  [office, century's, looks, piece, flux, jargon...  Horror & Suspense\n",
      "4            m/10004697-eternal  [[multidimensional, characterization, dialogue...  [multidimensional, characterization, dialogue,...  [true, film's, obsession, cop, spell, stoker, ...  Horror & Suspense\n",
      "...                         ...                                                ...                                                ...                                                ...                ...\n",
      "5890                m/zookeeper  [[zookeeper, essentially, surreally, awful, ha...  [zookeeper, essentially, surreally, awful, hap...  [air, prin, apart, confused, painful, amiable,...       Family Movie\n",
      "5891                m/zoolander  [[making, movie, that's, stupid, fun, must, re...  [making, movie, that's, stupid, fun, must, rea...  [threat, air, tasteless, piece, laughing, nume...       Family Movie\n",
      "5892              m/zoolander_2  [[like, predecessor, best, bits, sequel, isola...  [like, predecessor, best, bits, sequel, isolat...  [exquisitely, ago, vanity, fly, made, stock, w...       Family Movie\n",
      "5893                m/zoom_2006  [[whole, thing, pg, rated, greatest, hits, col...  [whole, thing, pg, rated, greatest, hits, coll...  [bromides, conceived, could've, santa, describ...       Family Movie\n",
      "5894                 m/zootopia  [[variety, cute, occasionally, slightly, scary...  [variety, cute, occasionally, slightly, scary,...  [apart, unassuming, inanimate, pc, monkeyshine...       Family Movie\n",
      "\n",
      "[5895 rows x 5 columns]\n"
     ]
    }
   ],
   "source": [
    "#remove duplicate\n",
    "list1 = []\n",
    "for i in horror_family['combine_words'].values:\n",
    "    list1.append(list(set(i)))\n",
    "horror_family['remove_duplicate_words'] = list1\n",
    "\n",
    "mapping = dict(movie_final[['rotten_tomatoes_link', 'genres']].values)\n",
    "horror_family['genres'] = horror_family.rotten_tomatoes_link.map(mapping)\n",
    "print(horror_family)"
   ]
  },
  {
   "cell_type": "markdown",
   "id": "4265bf98",
   "metadata": {},
   "source": [
    "## Information gain"
   ]
  },
  {
   "cell_type": "code",
   "execution_count": 833,
   "id": "a54fa997",
   "metadata": {},
   "outputs": [
    {
     "name": "stdout",
     "output_type": "stream",
     "text": [
      "     rotten_tomatoes_link remove_duplicate_words             genres\n",
      "0      m/1000121-39_steps                 office  Horror & Suspense\n",
      "0      m/1000121-39_steps                example  Horror & Suspense\n",
      "0      m/1000121-39_steps                  piece  Horror & Suspense\n",
      "0      m/1000121-39_steps         characteristic  Horror & Suspense\n",
      "0      m/1000121-39_steps                 finish  Horror & Suspense\n",
      "...                   ...                    ...                ...\n",
      "5894           m/zootopia              addresses       Family Movie\n",
      "5894           m/zootopia                 splice       Family Movie\n",
      "5894           m/zootopia                   near       Family Movie\n",
      "5894           m/zootopia             polarizing       Family Movie\n",
      "5894           m/zootopia                 comedy       Family Movie\n",
      "\n",
      "[3936032 rows x 3 columns]\n"
     ]
    }
   ],
   "source": [
    "#nwd\n",
    "horror_family1 = horror_family[['rotten_tomatoes_link', 'remove_duplicate_words']].copy()\n",
    "horror_family1 = horror_family1.explode('remove_duplicate_words')\n",
    "mapping = dict(movie_final[['rotten_tomatoes_link', 'genres']].values)\n",
    "horror_family1['genres'] = horror_family1.rotten_tomatoes_link.map(mapping)\n",
    "print(horror_family1)"
   ]
  },
  {
   "cell_type": "code",
   "execution_count": 834,
   "id": "6f3dd12e",
   "metadata": {},
   "outputs": [
    {
     "name": "stdout",
     "output_type": "stream",
     "text": [
      "                  words  has_freq  no_freq\n",
      "0                  film      5746      149\n",
      "1                 movie      5649      246\n",
      "2                   one      5554      341\n",
      "3                  like      5265      630\n",
      "4                  good      4980      915\n",
      "...                 ...       ...      ...\n",
      "101807          chattin         1     5894\n",
      "101808      traumatizer         1     5894\n",
      "101809       gaslighted         1     5894\n",
      "101810  whannellissance         1     5894\n",
      "101811        zooptopia         1     5894\n",
      "\n",
      "[101812 rows x 3 columns]\n"
     ]
    }
   ],
   "source": [
    "#word frequncies\n",
    "#Total 5895 movies\n",
    "data1 = horror_family.remove_duplicate_words.explode().dropna().value_counts()\n",
    "word_frequency = data1.to_frame().reset_index()\n",
    "word_frequency.rename(columns = {'index':'words', 'remove_duplicate_words':'has_freq'},\n",
    "          inplace = True)\n",
    "word_frequency['no_freq'] = 5895-word_frequency['has_freq']\n",
    "print(word_frequency)"
   ]
  },
  {
   "cell_type": "code",
   "execution_count": 835,
   "id": "3c098036",
   "metadata": {},
   "outputs": [
    {
     "name": "stdout",
     "output_type": "stream",
     "text": [
      "         words  has_in\n",
      "0         film    2386\n",
      "1        movie    2329\n",
      "2          one    2294\n",
      "3         like    2161\n",
      "4         much    2046\n",
      "...        ...     ...\n",
      "69940     nerf       1\n",
      "69941  junkets       1\n",
      "69942     evel       1\n",
      "69943     insi       1\n",
      "69944      oxy       1\n",
      "\n",
      "[69945 rows x 2 columns]\n"
     ]
    }
   ],
   "source": [
    "data_horror = horror_family[horror_family['genres']=='Horror & Suspense'].remove_duplicate_words.explode().dropna().value_counts()\n",
    "horror_word_frequency = data_horror.to_frame().reset_index()\n",
    "horror_word_frequency.rename(columns = {'index':'words', 'remove_duplicate_words':'has_in'},\n",
    "          inplace = True)\n",
    "print(horror_word_frequency)\n"
   ]
  },
  {
   "cell_type": "code",
   "execution_count": 836,
   "id": "967447ef",
   "metadata": {},
   "outputs": [
    {
     "name": "stdout",
     "output_type": "stream",
     "text": [
      "     rotten_tomatoes_link remove_duplicate_words             genres  has_freq  no_freq  has_in  has_notin  nothas_in  nothas_notin\n",
      "0      m/1000121-39_steps                 office  Horror & Suspense       678     5217   250.0      428.0     2174.0        3043.0\n",
      "0      m/1000121-39_steps                example  Horror & Suspense      1218     4677   561.0      657.0     1863.0        2814.0\n",
      "0      m/1000121-39_steps                  piece  Horror & Suspense      2601     3294  1190.0     1411.0     1234.0        2060.0\n",
      "0      m/1000121-39_steps         characteristic  Horror & Suspense        77     5818    25.0       52.0     2399.0        3419.0\n",
      "0      m/1000121-39_steps                 finish  Horror & Suspense       938     4957   418.0      520.0     2006.0        2951.0\n",
      "...                   ...                    ...                ...       ...      ...     ...        ...        ...           ...\n",
      "5894           m/zootopia              addresses       Family Movie       118     5777    41.0       77.0     2383.0        3394.0\n",
      "5894           m/zootopia                 splice       Family Movie        67     5828    19.0       48.0     2405.0        3423.0\n",
      "5894           m/zootopia                   near       Family Movie      1312     4583   568.0      744.0     1856.0        2727.0\n",
      "5894           m/zootopia             polarizing       Family Movie        29     5866    17.0       12.0     2407.0        3459.0\n",
      "5894           m/zootopia                 comedy       Family Movie      3412     2483   764.0     2648.0     1660.0         823.0\n",
      "\n",
      "[3936032 rows x 9 columns]\n"
     ]
    }
   ],
   "source": [
    "word_frequency_genres = horror_family1[['rotten_tomatoes_link', 'remove_duplicate_words', 'genres']].copy()\n",
    "#print(word_frequency_genres)\n",
    "mapping = dict(word_frequency[['words', 'has_freq']].values)\n",
    "word_frequency_genres['has_freq'] = word_frequency_genres.remove_duplicate_words.map(mapping)\n",
    "mapping1 = dict(word_frequency[['words', 'no_freq']].values)\n",
    "word_frequency_genres['no_freq'] = word_frequency_genres.remove_duplicate_words.map(mapping1)\n",
    "#print(word_frequency_genres)\n",
    "mapping2 = dict(horror_word_frequency[['words', 'has_in']].values)\n",
    "word_frequency_genres['has_in'] = word_frequency_genres.remove_duplicate_words.map(mapping2)\n",
    "#print(word_frequency_genres)\n",
    "word_frequency_genres['has_notin'] = word_frequency_genres['has_freq']-word_frequency_genres['has_in']\n",
    "word_frequency_genres['nothas_in'] = 2424-word_frequency_genres['has_in']\n",
    "word_frequency_genres['nothas_notin'] = 3471-word_frequency_genres['has_notin']\n",
    "print(word_frequency_genres)"
   ]
  },
  {
   "cell_type": "code",
   "execution_count": 837,
   "id": "7b254a71",
   "metadata": {},
   "outputs": [
    {
     "name": "stdout",
     "output_type": "stream",
     "text": [
      "     rotten_tomatoes_link remove_duplicate_words             genres  has_freq  true_in  true_notin  log_true_in  log_true_notin\n",
      "0      m/1000121-39_steps                 office  Horror & Suspense       678     0.37        0.63        -1.43           -0.67\n",
      "0      m/1000121-39_steps                example  Horror & Suspense      1218     0.46        0.54        -1.12           -0.89\n",
      "0      m/1000121-39_steps                  piece  Horror & Suspense      2601     0.46        0.54        -1.12           -0.89\n",
      "0      m/1000121-39_steps         characteristic  Horror & Suspense        77     0.32        0.68        -1.64           -0.56\n",
      "0      m/1000121-39_steps                 finish  Horror & Suspense       938     0.45        0.55        -1.15           -0.86\n",
      "...                   ...                    ...                ...       ...      ...         ...          ...             ...\n",
      "5894           m/zootopia              addresses       Family Movie       118     0.35        0.65        -1.51           -0.62\n",
      "5894           m/zootopia                 splice       Family Movie        67     0.28        0.72        -1.84           -0.47\n",
      "5894           m/zootopia                   near       Family Movie      1312     0.43        0.57        -1.22           -0.81\n",
      "5894           m/zootopia             polarizing       Family Movie        29     0.59        0.41        -0.76           -1.29\n",
      "5894           m/zootopia                 comedy       Family Movie      3412     0.22        0.78        -2.18           -0.36\n",
      "\n",
      "[3936032 rows x 8 columns]\n",
      "     rotten_tomatoes_link remove_duplicate_words             genres  no_freq  notrue_in  notrue_notin  log_notrue_in  log_notrue_notin\n",
      "0      m/1000121-39_steps                 office  Horror & Suspense     5217       0.42          0.58          -1.25             -0.79\n",
      "0      m/1000121-39_steps                example  Horror & Suspense     4677       0.40          0.60          -1.32             -0.74\n",
      "0      m/1000121-39_steps                  piece  Horror & Suspense     3294       0.37          0.63          -1.43             -0.67\n",
      "0      m/1000121-39_steps         characteristic  Horror & Suspense     5818       0.41          0.59          -1.29             -0.76\n",
      "0      m/1000121-39_steps                 finish  Horror & Suspense     4957       0.40          0.60          -1.32             -0.74\n",
      "...                   ...                    ...                ...      ...        ...           ...            ...               ...\n",
      "5894           m/zootopia              addresses       Family Movie     5777       0.41          0.59          -1.29             -0.76\n",
      "5894           m/zootopia                 splice       Family Movie     5828       0.41          0.59          -1.29             -0.76\n",
      "5894           m/zootopia                   near       Family Movie     4583       0.40          0.60          -1.32             -0.74\n",
      "5894           m/zootopia             polarizing       Family Movie     5866       0.41          0.59          -1.29             -0.76\n",
      "5894           m/zootopia                 comedy       Family Movie     2483       0.67          0.33          -0.58             -1.60\n",
      "\n",
      "[3936032 rows x 8 columns]\n"
     ]
    }
   ],
   "source": [
    "true_p = word_frequency_genres[['rotten_tomatoes_link', 'remove_duplicate_words', 'genres', 'has_freq']].copy()\n",
    "true_p['true_in'] = round(word_frequency_genres['has_in']/true_p['has_freq'],2)\n",
    "true_p['true_notin'] = round(word_frequency_genres['has_notin']/true_p['has_freq'],2)\n",
    "true_p['true_in'].replace(to_replace = 0, value = 1, inplace=True)\n",
    "true_p['true_notin'].replace(to_replace = 0, value = 1, inplace=True)\n",
    "\n",
    "#print(true_p)\n",
    "true_p['log_true_in'] = round(np.log2(true_p['true_in']),2)\n",
    "true_p['log_true_notin'] = round(np.log2(true_p['true_notin']),2)\n",
    "print(true_p)\n",
    "notrue_p = word_frequency_genres[['rotten_tomatoes_link', 'remove_duplicate_words', 'genres', 'no_freq']].copy()\n",
    "notrue_p['notrue_in'] = round(word_frequency_genres['nothas_in']/notrue_p['no_freq'],2)\n",
    "notrue_p['notrue_notin'] = round(word_frequency_genres['nothas_notin']/notrue_p['no_freq'],2)\n",
    "notrue_p['notrue_in'].replace(to_replace = 0, value = 1, inplace=True)\n",
    "notrue_p['notrue_notin'].replace(to_replace = 0, value = 1, inplace=True)\n",
    "\n",
    "#print(notrue_p)\n",
    "notrue_p['log_notrue_in'] = round(np.log2(notrue_p['notrue_in']),2)\n",
    "notrue_p['log_notrue_notin'] = round(np.log2(notrue_p['notrue_notin']),2)\n",
    "print(notrue_p)"
   ]
  },
  {
   "cell_type": "code",
   "execution_count": 838,
   "id": "3637a322",
   "metadata": {},
   "outputs": [
    {
     "name": "stdout",
     "output_type": "stream",
     "text": [
      "     rotten_tomatoes_link remove_duplicate_words             genres  has_freq  true_in  true_notin  log_true_in  log_true_notin  entropy       egs  egs_entropy\n",
      "0      m/1000121-39_steps                 office  Horror & Suspense       678     0.37        0.63        -1.43           -0.67   0.9512  0.115013     0.109400\n",
      "0      m/1000121-39_steps                example  Horror & Suspense      1218     0.46        0.54        -1.12           -0.89   0.9958  0.206616     0.205748\n",
      "0      m/1000121-39_steps                  piece  Horror & Suspense      2601     0.46        0.54        -1.12           -0.89   0.9958  0.441221     0.439368\n",
      "0      m/1000121-39_steps         characteristic  Horror & Suspense        77     0.32        0.68        -1.64           -0.56   0.9056  0.013062     0.011829\n",
      "0      m/1000121-39_steps                 finish  Horror & Suspense       938     0.45        0.55        -1.15           -0.86   0.9905  0.159118     0.157606\n",
      "...                   ...                    ...                ...       ...      ...         ...          ...             ...      ...       ...          ...\n",
      "5894           m/zootopia              addresses       Family Movie       118     0.35        0.65        -1.51           -0.62   0.9315  0.020017     0.018646\n",
      "5894           m/zootopia                 splice       Family Movie        67     0.28        0.72        -1.84           -0.47   0.8536  0.011366     0.009702\n",
      "5894           m/zootopia                   near       Family Movie      1312     0.43        0.57        -1.22           -0.81   0.9863  0.222561     0.219512\n",
      "5894           m/zootopia             polarizing       Family Movie        29     0.59        0.41        -0.76           -1.29   0.9773  0.004919     0.004808\n",
      "5894           m/zootopia                 comedy       Family Movie      3412     0.22        0.78        -2.18           -0.36   0.7604  0.578796     0.440116\n",
      "\n",
      "[3936032 rows x 11 columns]\n",
      "     rotten_tomatoes_link remove_duplicate_words             genres  no_freq  notrue_in  notrue_notin  log_notrue_in  log_notrue_notin  entropy       egs  egs_entropy\n",
      "0      m/1000121-39_steps                 office  Horror & Suspense     5217       0.42          0.58          -1.25             -0.79   0.9832  0.884987     0.870119\n",
      "0      m/1000121-39_steps                example  Horror & Suspense     4677       0.40          0.60          -1.32             -0.74   0.9720  0.793384     0.771169\n",
      "0      m/1000121-39_steps                  piece  Horror & Suspense     3294       0.37          0.63          -1.43             -0.67   0.9512  0.558779     0.531510\n",
      "0      m/1000121-39_steps         characteristic  Horror & Suspense     5818       0.41          0.59          -1.29             -0.76   0.9773  0.986938     0.964535\n",
      "0      m/1000121-39_steps                 finish  Horror & Suspense     4957       0.40          0.60          -1.32             -0.74   0.9720  0.840882     0.817337\n",
      "...                   ...                    ...                ...      ...        ...           ...            ...               ...      ...       ...          ...\n",
      "5894           m/zootopia              addresses       Family Movie     5777       0.41          0.59          -1.29             -0.76   0.9773  0.979983     0.957737\n",
      "5894           m/zootopia                 splice       Family Movie     5828       0.41          0.59          -1.29             -0.76   0.9773  0.988634     0.966192\n",
      "5894           m/zootopia                   near       Family Movie     4583       0.40          0.60          -1.32             -0.74   0.9720  0.777439     0.755670\n",
      "5894           m/zootopia             polarizing       Family Movie     5866       0.41          0.59          -1.29             -0.76   0.9773  0.995081     0.972492\n",
      "5894           m/zootopia                 comedy       Family Movie     2483       0.67          0.33          -0.58             -1.60   0.9166  0.421204     0.386076\n",
      "\n",
      "[3936032 rows x 11 columns]\n"
     ]
    }
   ],
   "source": [
    "#entropy\n",
    "true_entropy = true_p.copy()\n",
    "true_entropy['entropy'] = (-1)*(true_entropy['true_in']*true_entropy['log_true_in']+\n",
    "                            true_entropy['true_notin']*true_entropy['log_true_notin'])\n",
    "true_entropy['egs'] = true_entropy['has_freq']/5895\n",
    "true_entropy['egs_entropy'] = true_entropy['entropy']*true_entropy['egs']\n",
    "print(true_entropy)\n",
    "notrue_entropy = notrue_p.copy()\n",
    "notrue_entropy['entropy'] = (-1)*(notrue_entropy['notrue_in']*notrue_entropy['log_notrue_in']+\n",
    "                            notrue_entropy['notrue_notin']*notrue_entropy['log_notrue_notin'])\n",
    "notrue_entropy['egs'] = notrue_entropy['no_freq']/5895\n",
    "notrue_entropy['egs_entropy'] = notrue_entropy['entropy']*notrue_entropy['egs']\n",
    "print(notrue_entropy)"
   ]
  },
  {
   "cell_type": "code",
   "execution_count": 839,
   "id": "629f36ae",
   "metadata": {},
   "outputs": [
    {
     "name": "stdout",
     "output_type": "stream",
     "text": [
      "     rotten_tomatoes_link remove_duplicate_words             genres  has_freq  true_in  true_notin  log_true_in  log_true_notin  entropy       egs  egs_entropy\n",
      "0      m/1000121-39_steps                 office  Horror & Suspense       678     0.37        0.63        -1.43           -0.67   0.9512  0.115013     0.109400\n",
      "0      m/1000121-39_steps                example  Horror & Suspense      1218     0.46        0.54        -1.12           -0.89   0.9958  0.206616     0.205748\n",
      "0      m/1000121-39_steps                  piece  Horror & Suspense      2601     0.46        0.54        -1.12           -0.89   0.9958  0.441221     0.439368\n",
      "0      m/1000121-39_steps         characteristic  Horror & Suspense        77     0.32        0.68        -1.64           -0.56   0.9056  0.013062     0.011829\n",
      "0      m/1000121-39_steps                 finish  Horror & Suspense       938     0.45        0.55        -1.15           -0.86   0.9905  0.159118     0.157606\n",
      "...                   ...                    ...                ...       ...      ...         ...          ...             ...      ...       ...          ...\n",
      "5894           m/zootopia              addresses       Family Movie       118     0.35        0.65        -1.51           -0.62   0.9315  0.020017     0.018646\n",
      "5894           m/zootopia                 splice       Family Movie        67     0.28        0.72        -1.84           -0.47   0.8536  0.011366     0.009702\n",
      "5894           m/zootopia                   near       Family Movie      1312     0.43        0.57        -1.22           -0.81   0.9863  0.222561     0.219512\n",
      "5894           m/zootopia             polarizing       Family Movie        29     0.59        0.41        -0.76           -1.29   0.9773  0.004919     0.004808\n",
      "5894           m/zootopia                 comedy       Family Movie      3412     0.22        0.78        -2.18           -0.36   0.7604  0.578796     0.440116\n",
      "\n",
      "[3886743 rows x 11 columns]\n",
      "     rotten_tomatoes_link remove_duplicate_words             genres  no_freq  notrue_in  notrue_notin  log_notrue_in  log_notrue_notin  entropy       egs  egs_entropy\n",
      "0      m/1000121-39_steps                 office  Horror & Suspense     5217       0.42          0.58          -1.25             -0.79   0.9832  0.884987     0.870119\n",
      "0      m/1000121-39_steps                example  Horror & Suspense     4677       0.40          0.60          -1.32             -0.74   0.9720  0.793384     0.771169\n",
      "0      m/1000121-39_steps                  piece  Horror & Suspense     3294       0.37          0.63          -1.43             -0.67   0.9512  0.558779     0.531510\n",
      "0      m/1000121-39_steps         characteristic  Horror & Suspense     5818       0.41          0.59          -1.29             -0.76   0.9773  0.986938     0.964535\n",
      "0      m/1000121-39_steps                 finish  Horror & Suspense     4957       0.40          0.60          -1.32             -0.74   0.9720  0.840882     0.817337\n",
      "...                   ...                    ...                ...      ...        ...           ...            ...               ...      ...       ...          ...\n",
      "5894           m/zootopia              addresses       Family Movie     5777       0.41          0.59          -1.29             -0.76   0.9773  0.979983     0.957737\n",
      "5894           m/zootopia                 splice       Family Movie     5828       0.41          0.59          -1.29             -0.76   0.9773  0.988634     0.966192\n",
      "5894           m/zootopia                   near       Family Movie     4583       0.40          0.60          -1.32             -0.74   0.9720  0.777439     0.755670\n",
      "5894           m/zootopia             polarizing       Family Movie     5866       0.41          0.59          -1.29             -0.76   0.9773  0.995081     0.972492\n",
      "5894           m/zootopia                 comedy       Family Movie     2483       0.67          0.33          -0.58             -1.60   0.9166  0.421204     0.386076\n",
      "\n",
      "[3886743 rows x 11 columns]\n"
     ]
    }
   ],
   "source": [
    "#drop nan values in rows\n",
    "true_entropy = true_entropy.dropna(axis = 0)\n",
    "print(true_entropy)\n",
    "notrue_entropy = notrue_entropy.dropna(axis = 0)\n",
    "print(notrue_entropy)"
   ]
  },
  {
   "cell_type": "code",
   "execution_count": 840,
   "id": "2b050d54",
   "metadata": {},
   "outputs": [
    {
     "name": "stdout",
     "output_type": "stream",
     "text": [
      "<bound method NDFrame.head of   remove_duplicate_words  true_in  true_notin  notrue_in  notrue_notin\n",
      "0                 office     0.37        0.63       0.42          0.58\n",
      "1                example     0.46        0.54       0.40          0.60\n",
      "2                  piece     0.46        0.54       0.37          0.63\n",
      "3         characteristic     0.32        0.68       0.41          0.59\n",
      "4                 finish     0.45        0.55       0.40          0.60>\n"
     ]
    }
   ],
   "source": [
    "c_true = true_entropy[['remove_duplicate_words', 'true_in', 'true_notin']].copy()\n",
    "c_true_head = c_true.head()\n",
    "c_notrue = notrue_entropy[['remove_duplicate_words', 'notrue_in', 'notrue_notin']].copy()\n",
    "c_notrue_head = c_notrue.head()\n",
    "\n",
    "contingency = c_true_head.merge(c_notrue_head, on='remove_duplicate_words')\n",
    "\n",
    "print(contingency.head)"
   ]
  },
  {
   "cell_type": "code",
   "execution_count": 841,
   "id": "63380418",
   "metadata": {},
   "outputs": [
    {
     "data": {
      "text/plain": [
       "0"
      ]
     },
     "execution_count": 841,
     "metadata": {},
     "output_type": "execute_result"
    }
   ],
   "source": [
    "#find duplicate\n",
    "dups = true_entropy.groupby(true_entropy.columns.tolist()).size().reset_index().rename(columns={0:'count'})\n",
    "# sum the final col of that table, and subtract the number of culprits:\n",
    "dups['count'].sum() - dups.shape[0]"
   ]
  },
  {
   "cell_type": "code",
   "execution_count": 842,
   "id": "cc6ad13f",
   "metadata": {},
   "outputs": [
    {
     "name": "stdout",
     "output_type": "stream",
     "text": [
      "        rotten_tomatoes_link remove_duplicate_words  egs_entropy  info_gain        genres\n",
      "0                  m/0814255                    70s     0.972970   0.972970  Family Movie\n",
      "1                  m/0814255                   able     0.976146   0.976146  Family Movie\n",
      "2                  m/0814255                 absent     0.977300   0.977300  Family Movie\n",
      "3                  m/0814255                 acting     0.974249   0.974249  Family Movie\n",
      "4                  m/0814255                 action     0.958453   0.958453  Family Movie\n",
      "...                      ...                    ...          ...        ...           ...\n",
      "3886738           m/zootopia                  young     0.963121   0.963121  Family Movie\n",
      "3886739           m/zootopia                younger     0.964994   0.964994  Family Movie\n",
      "3886740           m/zootopia                  zesty     0.975890   0.975890  Family Movie\n",
      "3886741           m/zootopia                  zingy     0.976056   0.976056  Family Movie\n",
      "3886742           m/zootopia                  zippy     0.978650   0.978650  Family Movie\n",
      "\n",
      "[3886743 rows x 5 columns]\n"
     ]
    }
   ],
   "source": [
    "t_entropy = true_entropy[['rotten_tomatoes_link', 'remove_duplicate_words', 'genres', 'egs_entropy']].copy()\n",
    "no_entropy = notrue_entropy[['rotten_tomatoes_link', 'remove_duplicate_words', 'genres', 'egs_entropy']].copy()\n",
    "information_gain = pd.concat([t_entropy, no_entropy]).groupby(['rotten_tomatoes_link', 'remove_duplicate_words']).sum().reset_index()\n",
    "information_gain['info_gain']= information_gain['egs_entropy']\n",
    "mapping5 = dict(horror_family1[['rotten_tomatoes_link', 'genres']].values)\n",
    "information_gain['genres'] = information_gain.rotten_tomatoes_link.map(mapping5)\n",
    "print(information_gain)"
   ]
  },
  {
   "cell_type": "code",
   "execution_count": 843,
   "id": "b6815b7d",
   "metadata": {},
   "outputs": [
    {
     "name": "stdout",
     "output_type": "stream",
     "text": [
      "        remove_duplicate_words  info_gain\n",
      "1812790               thriller   0.652417\n",
      "538521                thriller   0.652417\n",
      "999721                thriller   0.652417\n",
      "3165542               thriller   0.652417\n",
      "2584270               thriller   0.652417\n",
      "...                        ...        ...\n",
      "2254166            entertained   0.980798\n",
      "2071656            entertained   0.980798\n",
      "1101035            entertained   0.980798\n",
      "1658267            entertained   0.980798\n",
      "1439224            entertained   0.980798\n",
      "\n",
      "[3886743 rows x 2 columns]\n"
     ]
    }
   ],
   "source": [
    "info_gain_score = information_gain[['remove_duplicate_words', 'info_gain']].copy()\n",
    "info_gain_score = info_gain_score.sort_values(by=['info_gain'], ascending=True)\n",
    "print(info_gain_score)"
   ]
  },
  {
   "cell_type": "code",
   "execution_count": 844,
   "id": "9d3e09fe",
   "metadata": {},
   "outputs": [
    {
     "name": "stdout",
     "output_type": "stream",
     "text": [
      "1812790     thriller\n",
      "3065515     suspense\n",
      "311582        horror\n",
      "1863417       comedy\n",
      "2731921     charming\n",
      "3398158        sweet\n",
      "2451801        funny\n",
      "3453257        tense\n",
      "99572      thrillers\n",
      "3805304      thrills\n",
      "Name: remove_duplicate_words, dtype: object\n"
     ]
    }
   ],
   "source": [
    "#drop duplicate, non english words, and non meaning signs\n",
    "info_gain_score_drop = info_gain_score.drop_duplicates(keep='first')\n",
    "info_gain_score_drop = info_gain_score_drop[info_gain_score_drop['remove_duplicate_words'].map(lambda x: x.isascii())]\n",
    "info_gain_score_drop = info_gain_score_drop[~info_gain_score_drop.remove_duplicate_words.str.contains(r'[0-9]')]\n",
    "info_gain_score_drop = info_gain_score_drop[~info_gain_score_drop.remove_duplicate_words.str.contains(r'[@#&$%+-/*]')]\n",
    "info_gain_score_drop['Rank'] = info_gain_score_drop['info_gain'].rank(method = 'first', ascending=True)\n",
    "print(info_gain_score_drop['remove_duplicate_words'].head(10))"
   ]
  },
  {
   "cell_type": "code",
   "execution_count": 845,
   "id": "f6919e88",
   "metadata": {},
   "outputs": [
    {
     "name": "stdout",
     "output_type": "stream",
     "text": [
      "           remove_duplicate_words  Rank\n",
      "info_gain                              \n",
      "0.652417                        1     1\n",
      "0.802118                        1     1\n",
      "0.807180                        1     1\n",
      "0.826192                        1     1\n",
      "0.860625                        1     1\n",
      "...                           ...   ...\n",
      "0.980644                        1     1\n",
      "0.980708                        1     1\n",
      "0.980711                        1     1\n",
      "0.980751                        1     1\n",
      "0.980798                        1     1\n",
      "\n",
      "[6750 rows x 2 columns]\n"
     ]
    }
   ],
   "source": [
    "print(info_gain_score_drop.groupby(['info_gain']).count())"
   ]
  },
  {
   "cell_type": "code",
   "execution_count": 846,
   "id": "138eee91",
   "metadata": {},
   "outputs": [
    {
     "data": {
      "text/plain": [
       "0"
      ]
     },
     "execution_count": 846,
     "metadata": {},
     "output_type": "execute_result"
    }
   ],
   "source": [
    "#check if any row is duplicate\n",
    "dups = info_gain_score_drop.groupby(info_gain_score_drop.columns.tolist()).size().reset_index().rename(columns={0:'count'})\n",
    "dups['count'].sum() - dups.shape[0]"
   ]
  },
  {
   "cell_type": "code",
   "execution_count": 847,
   "id": "cf059846",
   "metadata": {},
   "outputs": [
    {
     "name": "stdout",
     "output_type": "stream",
     "text": [
      "        remove_duplicate_words  info_gain   Rank\n",
      "1812790               thriller   0.652417    1.0\n",
      "3065515               suspense   0.802118    2.0\n",
      "311582                  horror   0.807180    3.0\n",
      "1863417                 comedy   0.826192    4.0\n",
      "2731921               charming   0.860625    5.0\n",
      "3398158                  sweet   0.865021    6.0\n",
      "2451801                  funny   0.872437    7.0\n",
      "3453257                  tense   0.872651    8.0\n",
      "99572                thrillers   0.874330    9.0\n",
      "3805304                thrills   0.875128   10.0\n",
      "95354                  tension   0.877587   11.0\n",
      "3299866                   gore   0.880443   12.0\n",
      "2960656            suspenseful   0.886235   13.0\n",
      "1896952                 scares   0.890795   14.0\n",
      "1794298                  jokes   0.893227   15.0\n",
      "157328                   scary   0.897090   16.0\n",
      "387741                comedies   0.897627   17.0\n",
      "3635156                  charm   0.899991   18.0\n",
      "3713174               chilling   0.901090   19.0\n",
      "1456366          psychological   0.901291   20.0\n",
      "1599587               gripping   0.902038   21.0\n",
      "104401                  terror   0.902385   22.0\n",
      "3136330                  genre   0.904643   23.0\n",
      "1867499                 laughs   0.905863   24.0\n",
      "2101433                   warm   0.907604   25.0\n",
      "2675799                mystery   0.908422   26.0\n",
      "1873893                   gags   0.908645   27.0\n",
      "635131                    taut   0.909204   28.0\n",
      "783620                    gory   0.911390   29.0\n",
      "3015202                  blood   0.912587   30.0\n",
      "3216155                   cute   0.913001   31.0\n",
      "184097                  creepy   0.913457   32.0\n",
      "1645821                 bloody   0.915794   33.0\n",
      "901968                 unfunny   0.916271   34.0\n",
      "3842562               violence   0.916600   35.0\n",
      "1177234                 chills   0.918553   36.0\n",
      "2716205            frightening   0.918923   37.0\n",
      "285922               slapstick   0.921077   38.0\n",
      "814059                  sitcom   0.922304   39.0\n",
      "584800              atmosphere   0.922906   40.0\n",
      "1616788                amusing   0.923186   41.0\n",
      "3660598               romantic   0.923472   42.0\n",
      "99261               terrifying   0.924708   43.0\n",
      "220635                 slasher   0.925102   44.0\n",
      "3847662                  dread   0.925105   45.0\n",
      "2340910                  humor   0.925122   46.0\n",
      "3877847                      b   0.926838   47.0\n",
      "1208599                stylish   0.927619   48.0\n",
      "583607                    noir   0.927680   49.0\n",
      "572197                 violent   0.927680   50.0\n",
      "692910               endearing   0.927922   51.0\n",
      "2101866             delightful   0.928422   52.0\n",
      "1767289                  comic   0.928424   53.0\n",
      "3524383                chiller   0.929336   54.0\n",
      "2549200             unsettling   0.931262   55.0\n",
      "828038                 comedic   0.931364   56.0\n",
      "2927680                  scare   0.931524   57.0\n",
      "2456397              thrilling   0.932033   58.0\n",
      "737339                  fright   0.932056   59.0\n",
      "1865246                  laugh   0.932432   60.0\n",
      "1768985                  eerie   0.932877   61.0\n",
      "1615755            atmospheric   0.933794   62.0\n",
      "493014                gruesome   0.934331   63.0\n",
      "886962                touching   0.934754   64.0\n",
      "1267164              hilarious   0.935272   65.0\n",
      "2297550                intense   0.935482   66.0\n",
      "149111                pleasant   0.935484   67.0\n",
      "2407680              effective   0.936608   68.0\n",
      "712005                  shocks   0.936705   69.0\n",
      "2918252           supernatural   0.937116   70.0\n",
      "2083186                natured   0.937335   71.0\n",
      "1072520              heartfelt   0.937358   72.0\n",
      "5810                    twists   0.937480   73.0\n",
      "1764647                 murder   0.937589   74.0\n",
      "773643                riveting   0.937638   75.0\n",
      "530697              intriguing   0.937914   76.0\n",
      "801399             sentimental   0.937932   77.0\n",
      "660542                  warmth   0.938115   78.0\n",
      "1401039                  farce   0.938317   79.0\n",
      "1710755           heartwarming   0.938574   80.0\n",
      "3053159                 thrill   0.938634   81.0\n",
      "1087147              sweetness   0.939111   82.0\n",
      "2078476                likable   0.939688   83.0\n",
      "2507947                funnier   0.939691   84.0\n",
      "2248320               visceral   0.939868   85.0\n",
      "2919899                dramedy   0.940980   86.0\n",
      "612388                  gentle   0.941053   87.0\n",
      "1660228                effects   0.941338   88.0\n",
      "3379759              hitchcock   0.941459   89.0\n",
      "1732233                    rom   0.941486   90.0\n",
      "1153736                   pulp   0.941636   91.0\n",
      "831846                    evil   0.942173   92.0\n",
      "320425                funniest   0.942622   93.0\n",
      "1338456              unnerving   0.942732   94.0\n",
      "3036205                 killer   0.942835   95.0\n",
      "480045                 shocker   0.943197   96.0\n",
      "802384                    love   0.943455   97.0\n",
      "1753534             disturbing   0.943740   98.0\n",
      "1370226                 grisly   0.944409   99.0\n",
      "2301684                 spooky   0.944545  100.0\n",
      "2506172                  crime   0.944695  101.0\n",
      "2236879             engrossing   0.944788  102.0\n",
      "786644                  family   0.944788  103.0\n",
      "2013572                 adults   0.945754  104.0\n",
      "189809                 raunchy   0.946222  105.0\n",
      "1875253           exploitation   0.947065  106.0\n",
      "293842               whimsical   0.947419  107.0\n",
      "288374                   jolts   0.947678  108.0\n",
      "3440604               paranoia   0.947942  109.0\n",
      "1022921                  pulpy   0.948643  110.0\n",
      "1614943                hearted   0.948716  111.0\n",
      "2554976                amiable   0.948820  112.0\n",
      "3507840             compelling   0.949225  113.0\n",
      "301383                 haunted   0.949338  114.0\n",
      "2226466               children   0.949378  115.0\n",
      "2014009                 lovely   0.949408  116.0\n",
      "1525358               exercise   0.949420  117.0\n",
      "3002683                 climax   0.949452  118.0\n",
      "2688955                 psycho   0.949795  119.0\n",
      "2158630                  lurid   0.949815  120.0\n",
      "2872998                 twisty   0.949908  121.0\n",
      "3830910                   dark   0.950016  122.0\n",
      "81870                   menace   0.950084  123.0\n",
      "2398541                romance   0.950192  124.0\n",
      "2125745              animation   0.950496  125.0\n",
      "199732                 victims   0.950578  126.0\n",
      "1891353                   kids   0.950991  127.0\n",
      "1996347                   fear   0.951200  128.0\n",
      "75017                   disney   0.951233  129.0\n",
      "3834878         sentimentality   0.951472  130.0\n",
      "3788298              sentiment   0.951517  131.0\n",
      "3851506               adorable   0.951783  132.0\n",
      "2852799                   jump   0.951819  133.0\n",
      "3722794                  smile   0.951889  134.0\n",
      "2448159               haunting   0.951919  135.0\n",
      "455957               efficient   0.951964  136.0\n",
      "2205636              appealing   0.952022  137.0\n",
      "2663783               horrific   0.952144  138.0\n",
      "116534                 monster   0.952152  139.0\n",
      "700116               screwball   0.952180  140.0\n",
      "1923023               intrigue   0.952228  141.0\n",
      "3159036               likeable   0.952284  142.0\n",
      "3039002                  moody   0.952368  143.0\n",
      "3353462                  witty   0.952369  144.0\n",
      "551482                   songs   0.952617  145.0\n",
      "3662822             saccharine   0.952632  146.0\n",
      "2638593                   joke   0.952634  147.0\n",
      "3450136            bittersweet   0.952719  148.0\n",
      "116732                whodunit   0.952837  149.0\n",
      "89170                  macabre   0.952843  150.0\n",
      "58601                 sinister   0.953457  151.0\n",
      "1266709                winning   0.953481  152.0\n",
      "1780403                horrors   0.953509  153.0\n",
      "2935509                  broad   0.953608  154.0\n",
      "2122702                schlock   0.953628  155.0\n",
      "480505               chemistry   0.953898  156.0\n",
      "3778901              nightmare   0.953916  157.0\n",
      "3305780                 brutal   0.954283  158.0\n",
      "888218              children's   0.954414  159.0\n",
      "3814453                 gothic   0.954514  160.0\n",
      "3396176              intensity   0.954605  161.0\n",
      "1299585                  twist   0.954633  162.0\n",
      "432978                    seat   0.954744  163.0\n",
      "3389349                 antics   0.954787  164.0\n",
      "3164773               guessing   0.954818  165.0\n",
      "1677663               animated   0.954832  166.0\n",
      "3659890                   nail   0.954885  167.0\n",
      "300419                   holes   0.954927  168.0\n",
      "2315821               spirited   0.955089  169.0\n",
      "168307                     gag   0.955092  170.0\n",
      "3866685                sweetly   0.955366  171.0\n",
      "1803071                frights   0.955391  172.0\n",
      "1743376                    joy   0.955396  173.0\n",
      "2087439                  murky   0.955434  174.0\n",
      "176722                   happy   0.955467  175.0\n",
      "3748756                charmer   0.955472  176.0\n",
      "2538658             friendship   0.955482  177.0\n",
      "1600290                 bright   0.955502  178.0\n",
      "3634287               harmless   0.955572  179.0\n",
      "2246731                 breezy   0.955910  180.0\n",
      "2764833             horrifying   0.955910  181.0\n",
      "1598729                 charms   0.956038  182.0\n",
      "1160102                    wit   0.956167  183.0\n",
      "1366143              uplifting   0.956176  184.0\n",
      "1961330              wonderful   0.956197  185.0\n",
      "1141359                revenge   0.956379  186.0\n",
      "3699832              laughable   0.956435  187.0\n",
      "1576840                  campy   0.956576  188.0\n",
      "3481409                 whimsy   0.956681  189.0\n",
      "2707447                lessons   0.957124  190.0\n",
      "882006            hitchcockian   0.957405  191.0\n",
      "2862294              harrowing   0.957408  192.0\n",
      "3478634               scariest   0.957536  193.0\n",
      "1784086                 puzzle   0.957777  194.0\n",
      "2047517                 tender   0.957788  195.0\n",
      "1824828                delight   0.957803  196.0\n",
      "647811                   light   0.957917  197.0\n",
      "1095498                 romcom   0.957937  198.0\n",
      "2027363                killing   0.958016  199.0\n",
      "3574576               poignant   0.958107  200.0\n",
      "        remove_duplicate_words  info_gain   Rank\n",
      "1812790               thriller   0.652417    1.0\n",
      "3065515               suspense   0.802118    2.0\n",
      "311582                  horror   0.807180    3.0\n",
      "1863417                 comedy   0.826192    4.0\n",
      "2731921               charming   0.860625    5.0\n",
      "3398158                  sweet   0.865021    6.0\n",
      "2451801                  funny   0.872437    7.0\n",
      "3453257                  tense   0.872651    8.0\n",
      "99572                thrillers   0.874330    9.0\n",
      "3805304                thrills   0.875128   10.0\n",
      "95354                  tension   0.877587   11.0\n",
      "3299866                   gore   0.880443   12.0\n",
      "2960656            suspenseful   0.886235   13.0\n",
      "1896952                 scares   0.890795   14.0\n",
      "1794298                  jokes   0.893227   15.0\n",
      "157328                   scary   0.897090   16.0\n",
      "387741                comedies   0.897627   17.0\n",
      "3635156                  charm   0.899991   18.0\n",
      "3713174               chilling   0.901090   19.0\n",
      "1456366          psychological   0.901291   20.0\n",
      "1599587               gripping   0.902038   21.0\n",
      "104401                  terror   0.902385   22.0\n",
      "3136330                  genre   0.904643   23.0\n",
      "1867499                 laughs   0.905863   24.0\n",
      "2101433                   warm   0.907604   25.0\n",
      "2675799                mystery   0.908422   26.0\n",
      "1873893                   gags   0.908645   27.0\n",
      "635131                    taut   0.909204   28.0\n",
      "783620                    gory   0.911390   29.0\n",
      "3015202                  blood   0.912587   30.0\n",
      "3216155                   cute   0.913001   31.0\n",
      "184097                  creepy   0.913457   32.0\n",
      "1645821                 bloody   0.915794   33.0\n",
      "901968                 unfunny   0.916271   34.0\n",
      "3842562               violence   0.916600   35.0\n",
      "1177234                 chills   0.918553   36.0\n",
      "2716205            frightening   0.918923   37.0\n",
      "285922               slapstick   0.921077   38.0\n",
      "814059                  sitcom   0.922304   39.0\n",
      "584800              atmosphere   0.922906   40.0\n",
      "1616788                amusing   0.923186   41.0\n",
      "3660598               romantic   0.923472   42.0\n",
      "99261               terrifying   0.924708   43.0\n",
      "220635                 slasher   0.925102   44.0\n",
      "3847662                  dread   0.925105   45.0\n",
      "2340910                  humor   0.925122   46.0\n",
      "3877847                      b   0.926838   47.0\n",
      "1208599                stylish   0.927619   48.0\n",
      "583607                    noir   0.927680   49.0\n",
      "572197                 violent   0.927680   50.0\n",
      "692910               endearing   0.927922   51.0\n",
      "2101866             delightful   0.928422   52.0\n",
      "1767289                  comic   0.928424   53.0\n",
      "3524383                chiller   0.929336   54.0\n",
      "2549200             unsettling   0.931262   55.0\n",
      "828038                 comedic   0.931364   56.0\n",
      "2927680                  scare   0.931524   57.0\n",
      "2456397              thrilling   0.932033   58.0\n",
      "737339                  fright   0.932056   59.0\n",
      "1865246                  laugh   0.932432   60.0\n",
      "1768985                  eerie   0.932877   61.0\n",
      "1615755            atmospheric   0.933794   62.0\n",
      "493014                gruesome   0.934331   63.0\n",
      "886962                touching   0.934754   64.0\n",
      "1267164              hilarious   0.935272   65.0\n",
      "2297550                intense   0.935482   66.0\n",
      "149111                pleasant   0.935484   67.0\n",
      "2407680              effective   0.936608   68.0\n",
      "712005                  shocks   0.936705   69.0\n",
      "2918252           supernatural   0.937116   70.0\n",
      "2083186                natured   0.937335   71.0\n",
      "1072520              heartfelt   0.937358   72.0\n",
      "5810                    twists   0.937480   73.0\n",
      "1764647                 murder   0.937589   74.0\n",
      "773643                riveting   0.937638   75.0\n",
      "530697              intriguing   0.937914   76.0\n",
      "801399             sentimental   0.937932   77.0\n",
      "660542                  warmth   0.938115   78.0\n",
      "1401039                  farce   0.938317   79.0\n",
      "1710755           heartwarming   0.938574   80.0\n",
      "3053159                 thrill   0.938634   81.0\n",
      "1087147              sweetness   0.939111   82.0\n",
      "2078476                likable   0.939688   83.0\n",
      "2507947                funnier   0.939691   84.0\n",
      "2248320               visceral   0.939868   85.0\n",
      "2919899                dramedy   0.940980   86.0\n",
      "612388                  gentle   0.941053   87.0\n",
      "1660228                effects   0.941338   88.0\n",
      "3379759              hitchcock   0.941459   89.0\n",
      "1732233                    rom   0.941486   90.0\n",
      "1153736                   pulp   0.941636   91.0\n",
      "831846                    evil   0.942173   92.0\n",
      "320425                funniest   0.942622   93.0\n",
      "1338456              unnerving   0.942732   94.0\n",
      "3036205                 killer   0.942835   95.0\n",
      "480045                 shocker   0.943197   96.0\n",
      "802384                    love   0.943455   97.0\n",
      "1753534             disturbing   0.943740   98.0\n",
      "1370226                 grisly   0.944409   99.0\n",
      "2301684                 spooky   0.944545  100.0\n",
      "2506172                  crime   0.944695  101.0\n",
      "2236879             engrossing   0.944788  102.0\n",
      "786644                  family   0.944788  103.0\n",
      "2013572                 adults   0.945754  104.0\n",
      "189809                 raunchy   0.946222  105.0\n",
      "1875253           exploitation   0.947065  106.0\n",
      "293842               whimsical   0.947419  107.0\n",
      "288374                   jolts   0.947678  108.0\n",
      "3440604               paranoia   0.947942  109.0\n",
      "1022921                  pulpy   0.948643  110.0\n",
      "1614943                hearted   0.948716  111.0\n",
      "2554976                amiable   0.948820  112.0\n",
      "3507840             compelling   0.949225  113.0\n",
      "301383                 haunted   0.949338  114.0\n",
      "2226466               children   0.949378  115.0\n",
      "2014009                 lovely   0.949408  116.0\n",
      "1525358               exercise   0.949420  117.0\n",
      "3002683                 climax   0.949452  118.0\n",
      "2688955                 psycho   0.949795  119.0\n",
      "2158630                  lurid   0.949815  120.0\n",
      "2872998                 twisty   0.949908  121.0\n",
      "3830910                   dark   0.950016  122.0\n",
      "81870                   menace   0.950084  123.0\n",
      "2398541                romance   0.950192  124.0\n",
      "2125745              animation   0.950496  125.0\n",
      "199732                 victims   0.950578  126.0\n",
      "1891353                   kids   0.950991  127.0\n",
      "1996347                   fear   0.951200  128.0\n",
      "75017                   disney   0.951233  129.0\n",
      "3834878         sentimentality   0.951472  130.0\n",
      "3788298              sentiment   0.951517  131.0\n",
      "3851506               adorable   0.951783  132.0\n",
      "2852799                   jump   0.951819  133.0\n",
      "3722794                  smile   0.951889  134.0\n",
      "2448159               haunting   0.951919  135.0\n",
      "455957               efficient   0.951964  136.0\n",
      "2205636              appealing   0.952022  137.0\n",
      "2663783               horrific   0.952144  138.0\n",
      "116534                 monster   0.952152  139.0\n",
      "700116               screwball   0.952180  140.0\n",
      "1923023               intrigue   0.952228  141.0\n",
      "3159036               likeable   0.952284  142.0\n",
      "3039002                  moody   0.952368  143.0\n",
      "3353462                  witty   0.952369  144.0\n",
      "551482                   songs   0.952617  145.0\n",
      "3662822             saccharine   0.952632  146.0\n",
      "2638593                   joke   0.952634  147.0\n",
      "3450136            bittersweet   0.952719  148.0\n",
      "116732                whodunit   0.952837  149.0\n",
      "89170                  macabre   0.952843  150.0\n",
      "58601                 sinister   0.953457  151.0\n",
      "1266709                winning   0.953481  152.0\n",
      "1780403                horrors   0.953509  153.0\n",
      "2935509                  broad   0.953608  154.0\n",
      "2122702                schlock   0.953628  155.0\n",
      "480505               chemistry   0.953898  156.0\n",
      "3778901              nightmare   0.953916  157.0\n",
      "3305780                 brutal   0.954283  158.0\n",
      "888218              children's   0.954414  159.0\n",
      "3814453                 gothic   0.954514  160.0\n",
      "3396176              intensity   0.954605  161.0\n",
      "1299585                  twist   0.954633  162.0\n",
      "432978                    seat   0.954744  163.0\n",
      "3389349                 antics   0.954787  164.0\n",
      "3164773               guessing   0.954818  165.0\n",
      "1677663               animated   0.954832  166.0\n",
      "3659890                   nail   0.954885  167.0\n",
      "300419                   holes   0.954927  168.0\n",
      "2315821               spirited   0.955089  169.0\n",
      "168307                     gag   0.955092  170.0\n",
      "3866685                sweetly   0.955366  171.0\n",
      "1803071                frights   0.955391  172.0\n",
      "1743376                    joy   0.955396  173.0\n",
      "2087439                  murky   0.955434  174.0\n",
      "176722                   happy   0.955467  175.0\n",
      "3748756                charmer   0.955472  176.0\n",
      "2538658             friendship   0.955482  177.0\n",
      "1600290                 bright   0.955502  178.0\n",
      "3634287               harmless   0.955572  179.0\n",
      "2246731                 breezy   0.955910  180.0\n",
      "2764833             horrifying   0.955910  181.0\n",
      "1598729                 charms   0.956038  182.0\n",
      "1160102                    wit   0.956167  183.0\n",
      "1366143              uplifting   0.956176  184.0\n",
      "1961330              wonderful   0.956197  185.0\n",
      "1141359                revenge   0.956379  186.0\n",
      "3699832              laughable   0.956435  187.0\n",
      "1576840                  campy   0.956576  188.0\n",
      "3481409                 whimsy   0.956681  189.0\n",
      "2707447                lessons   0.957124  190.0\n",
      "882006            hitchcockian   0.957405  191.0\n",
      "2862294              harrowing   0.957408  192.0\n",
      "3478634               scariest   0.957536  193.0\n",
      "1784086                 puzzle   0.957777  194.0\n",
      "2047517                 tender   0.957788  195.0\n",
      "1824828                delight   0.957803  196.0\n",
      "647811                   light   0.957917  197.0\n",
      "1095498                 romcom   0.957937  198.0\n",
      "2027363                killing   0.958016  199.0\n",
      "3574576               poignant   0.958107  200.0\n",
      "1423283                 quirky   0.958107  201.0\n",
      "246159                  budget   0.958113  202.0\n",
      "479396                     sci   0.958226  203.0\n",
      "409775                 graphic   0.958254  204.0\n",
      "2498753                 shtick   0.958375  205.0\n",
      "3201862                cloying   0.958429  206.0\n",
      "3334579                 action   0.958453  207.0\n",
      "1097989               splatter   0.958672  208.0\n",
      "3749110                  logic   0.958707  209.0\n",
      "2225051                 builds   0.958874  210.0\n",
      "1563940                lovable   0.958947  211.0\n",
      "2361072                 police   0.958985  212.0\n",
      "1623718               herrings   0.959050  213.0\n",
      "385859                exciting   0.959119  214.0\n",
      "243582              procedural   0.959202  215.0\n",
      "2619745                  adult   0.959300  216.0\n",
      "3515080              ludicrous   0.959347  217.0\n",
      "1548076                  sappy   0.959416  218.0\n",
      "570018                 laughed   0.959563  219.0\n",
      "1935823                 gritty   0.959586  220.0\n",
      "3672392                  magic   0.959597  221.0\n",
      "3376449            fascinating   0.959607  222.0\n",
      "2780830                 timing   0.959647  223.0\n",
      "3502099                  heart   0.959676  224.0\n",
      "55333                    nasty   0.959800  225.0\n",
      "2297969                popcorn   0.959800  226.0\n",
      "2178213              pratfalls   0.959805  227.0\n",
      "1815897                ominous   0.959868  228.0\n",
      "1120914               friendly   0.959919  229.0\n",
      "3236926                  fluff   0.959945  230.0\n",
      "2661829              potboiler   0.959972  231.0\n",
      "2082633                 cutesy   0.960089  232.0\n",
      "2655456           preposterous   0.960102  233.0\n",
      "322889                   stars   0.960105  234.0\n",
      "493552                      fi   0.960120  235.0\n",
      "222596                 magical   0.960261  236.0\n",
      "18132                  fiction   0.960310  237.0\n",
      "2542787               paranoid   0.960344  238.0\n",
      "3732629                   lean   0.960532  239.0\n",
      "2323158                musical   0.960559  240.0\n",
      "1811140              absorbing   0.960574  241.0\n",
      "3113360                 mayhem   0.960623  242.0\n",
      "3757946                 zombie   0.960892  243.0\n",
      "3795017                   burn   0.960901  244.0\n",
      "3219921                parents   0.960937  245.0\n",
      "2932800                  demon   0.960969  246.0\n",
      "142431                   crude   0.961011  247.0\n",
      "2696286                twisted   0.961049  248.0\n",
      "2605762                  flick   0.961100  249.0\n",
      "111386                  appeal   0.961107  250.0\n",
      "3352167             convoluted   0.961196  251.0\n",
      "3560224               families   0.961225  252.0\n",
      "2322225                scarier   0.961284  253.0\n",
      "1330046               chuckles   0.961293  254.0\n",
      "3739854               laughter   0.961334  255.0\n",
      "749335             effectively   0.961373  256.0\n",
      "2878118                  shock   0.961387  257.0\n",
      "1399372                  nerve   0.961394  258.0\n",
      "1822366                    age   0.961424  259.0\n",
      "1680872                 alfred   0.961584  260.0\n",
      "3583271                carnage   0.961585  261.0\n",
      "3325649             creepiness   0.961610  262.0\n",
      "1392822            interesting   0.961663  263.0\n",
      "735081                 villain   0.961690  264.0\n",
      "1301254               schmaltz   0.961821  265.0\n",
      "2834797                  pixar   0.961985  266.0\n",
      "1335369                 kiddie   0.962163  267.0\n",
      "1899845               shocking   0.962204  268.0\n",
      "98954                 building   0.962223  269.0\n",
      "3830793              affection   0.962224  270.0\n",
      "1171041                  tight   0.962311  271.0\n",
      "3035308             grindhouse   0.962405  272.0\n",
      "2440091            nightmarish   0.962414  273.0\n",
      "541726                 demonic   0.962414  274.0\n",
      "1650740                  biter   0.962456  275.0\n",
      "3658342              halloween   0.962506  276.0\n",
      "556628                   slick   0.962543  277.0\n",
      "283430                    bang   0.962651  278.0\n",
      "3053011                   ride   0.962768  279.0\n",
      "2477230                   romp   0.962801  280.0\n",
      "1687353               comedian   0.962841  281.0\n",
      "2654556                    kid   0.962874  282.0\n",
      "1146488                   zany   0.962880  283.0\n",
      "3013346                 frothy   0.963060  284.0\n",
      "2543941                  young   0.963121  285.0\n",
      "471155                    grim   0.963134  286.0\n",
      "1949460                   kill   0.963143  287.0\n",
      "3151792                 joyous   0.963173  288.0\n",
      "3018029                  older   0.963295  289.0\n",
      "1136729               actioner   0.963365  290.0\n",
      "683511                 singing   0.963483  291.0\n",
      "1231082                  aimed   0.963499  292.0\n",
      "518364                 science   0.963500  293.0\n",
      "376039                sadistic   0.963601  294.0\n",
      "135840                laughing   0.963634  295.0\n",
      "1948091                 humour   0.963687  296.0\n",
      "2573817                cartoon   0.963691  297.0\n",
      "3695526                 fluffy   0.963749  298.0\n",
      "1604430            apocalyptic   0.963757  299.0\n",
      "1210965           irresistible   0.963758  300.0\n",
      "3732768                   slow   0.963848  301.0\n",
      "491659                    life   0.963965  302.0\n",
      "1753256               schlocky   0.963973  303.0\n",
      "3723271                 genial   0.963995  304.0\n",
      "1901909                  sugar   0.964103  305.0\n",
      "3510550           atmospherics   0.964144  306.0\n",
      "2404745                 honest   0.964160  307.0\n",
      "703800                  payoff   0.964176  308.0\n",
      "2204784              happiness   0.964182  309.0\n",
      "385702          claustrophobic   0.964191  310.0\n",
      "2651104              bloodbath   0.964234  311.0\n",
      "1299810             chillingly   0.964241  312.0\n",
      "1585846                   yarn   0.964274  313.0\n",
      "1226751                  sleek   0.964289  314.0\n",
      "1689254                  chick   0.964439  315.0\n",
      "1174271                message   0.964459  316.0\n",
      "2769738               hilarity   0.964508  317.0\n",
      "2586998              stylishly   0.964558  318.0\n",
      "2792063              detective   0.964570  319.0\n",
      "3418933              sincerity   0.964611  320.0\n",
      "3739580                   cold   0.964622  321.0\n",
      "2286965                 spirit   0.964628  322.0\n",
      "96737               conspiracy   0.964647  323.0\n",
      "2814893                 slight   0.964809  324.0\n",
      "2809984                 deaths   0.964812  325.0\n",
      "3142634              sparkling   0.964843  326.0\n",
      "1657329               menacing   0.964871  327.0\n",
      "1894453                 tropes   0.964902  328.0\n",
      "2193032                 gently   0.964910  329.0\n",
      "2647316              bloodshed   0.964972  330.0\n",
      "821902                 raucous   0.964991  331.0\n",
      "1196418                younger   0.964994  332.0\n",
      "219684               agreeable   0.965020  333.0\n",
      "591808                disney's   0.965037  334.0\n",
      "726881              filmmaking   0.965058  335.0\n",
      "2733732                  final   0.965061  336.0\n",
      "981690                  unease   0.965100  337.0\n",
      "2686995              brutality   0.965168  338.0\n",
      "1863919                 lively   0.965204  339.0\n",
      "227568              adrenaline   0.965235  340.0\n",
      "3544981                   camp   0.965278  341.0\n",
      "3418292             enchanting   0.965287  342.0\n",
      "826494            observations   0.965292  343.0\n",
      "1767096                   ages   0.965303  344.0\n",
      "1142633                  spook   0.965318  345.0\n",
      "3277254              innocuous   0.965346  346.0\n",
      "609175                 dancing   0.965371  347.0\n",
      "3188354                imagery   0.965385  348.0\n",
      "2696719               exorcist   0.965404  349.0\n",
      "1625420            inoffensive   0.965434  350.0\n",
      "3826459                   skin   0.965478  351.0\n",
      "22736                   wisdom   0.965495  352.0\n",
      "2119687                guignol   0.965511  353.0\n",
      "1091869                  build   0.965518  354.0\n",
      "318548                  upbeat   0.965598  355.0\n",
      "269633              paranormal   0.965605  356.0\n",
      "2792255                  fairy   0.965627  357.0\n",
      "3455214               cuteness   0.965644  358.0\n",
      "2530064                 joyful   0.965683  359.0\n",
      "907654               ambiguity   0.965688  360.0\n",
      "3264989                  spine   0.965718  361.0\n",
      "3150668            hitchcock's   0.965738  362.0\n",
      "2531915             excitement   0.965751  363.0\n",
      "353092                pounding   0.965753  364.0\n",
      "3862694             youngsters   0.965781  365.0\n",
      "1372244                 sadism   0.965794  366.0\n",
      "241660                   vocal   0.965807  367.0\n",
      "3838094                  wacky   0.965835  368.0\n",
      "1071884                risible   0.965841  369.0\n",
      "1148082             foreboding   0.965847  370.0\n",
      "313661                 shivers   0.965866  371.0\n",
      "1106003                   plot   0.965882  372.0\n",
      "557703                     red   0.965933  373.0\n",
      "1681680              murderous   0.965957  374.0\n",
      "1642610                affable   0.965959  375.0\n",
      "1264817               elements   0.966001  376.0\n",
      "1533961            provocative   0.966014  377.0\n",
      "2374119          unintentional   0.966022  378.0\n",
      "2538657                friends   0.966024  379.0\n",
      "3131791                  creep   0.966041  380.0\n",
      "2373926           exploitative   0.966051  381.0\n",
      "3641784                knuckle   0.966059  382.0\n",
      "1637544                 serial   0.966061  383.0\n",
      "744333               enjoyable   0.966099  384.0\n",
      "130349                 editing   0.966223  385.0\n",
      "1784583             viscerally   0.966239  386.0\n",
      "1192164                  crass   0.966333  387.0\n",
      "1704272                    com   0.966389  388.0\n",
      "196166                      em   0.966409  389.0\n",
      "477314                   tears   0.966418  390.0\n",
      "3641225              affirming   0.966428  391.0\n",
      "1316022                 bourne   0.966446  392.0\n",
      "589582                  forced   0.966508  393.0\n",
      "737670                  scared   0.966509  394.0\n",
      "1933186              questions   0.966521  395.0\n",
      "2243338                chuckle   0.966591  396.0\n",
      "2216895                   cult   0.966608  397.0\n",
      "1469679               observed   0.966616  398.0\n",
      "1773304               brooding   0.966627  399.0\n",
      "1620997              espionage   0.966673  400.0\n"
     ]
    }
   ],
   "source": [
    "two_terms = info_gain_score_drop.head(200)\n",
    "four_terms = info_gain_score_drop.head(400)\n",
    "print(two_terms)\n",
    "print(four_terms)"
   ]
  },
  {
   "cell_type": "code",
   "execution_count": 848,
   "id": "e2e2786f",
   "metadata": {},
   "outputs": [
    {
     "name": "stdout",
     "output_type": "stream",
     "text": [
      "200\n",
      "['thriller', 'suspense', 'horror', 'comedy', 'charming', 'sweet', 'funny', 'tense', 'thrillers', 'thrills', 'tension', 'gore', 'suspenseful', 'scares', 'jokes', 'scary', 'comedies', 'charm', 'chilling', 'psychological', 'gripping', 'terror', 'genre', 'laughs', 'warm', 'mystery', 'gags', 'taut', 'gory', 'blood', 'cute', 'creepy', 'bloody', 'unfunny', 'violence', 'chills', 'frightening', 'slapstick', 'sitcom', 'atmosphere', 'amusing', 'romantic', 'terrifying', 'slasher', 'dread', 'humor', 'b', 'stylish', 'noir', 'violent', 'endearing', 'delightful', 'comic', 'chiller', 'unsettling', 'comedic', 'scare', 'thrilling', 'fright', 'laugh', 'eerie', 'atmospheric', 'gruesome', 'touching', 'hilarious', 'intense', 'pleasant', 'effective', 'shocks', 'supernatural', 'natured', 'heartfelt', 'twists', 'murder', 'riveting', 'intriguing', 'sentimental', 'warmth', 'farce', 'heartwarming', 'thrill', 'sweetness', 'likable', 'funnier', 'visceral', 'dramedy', 'gentle', 'effects', 'hitchcock', 'rom', 'pulp', 'evil', 'funniest', 'unnerving', 'killer', 'shocker', 'love', 'disturbing', 'grisly', 'spooky', 'crime', 'engrossing', 'family', 'adults', 'raunchy', 'exploitation', 'whimsical', 'jolts', 'paranoia', 'pulpy', 'hearted', 'amiable', 'compelling', 'haunted', 'children', 'lovely', 'exercise', 'climax', 'psycho', 'lurid', 'twisty', 'dark', 'menace', 'romance', 'animation', 'victims', 'kids', 'fear', 'disney', 'sentimentality', 'sentiment', 'adorable', 'jump', 'smile', 'haunting', 'efficient', 'appealing', 'horrific', 'monster', 'screwball', 'intrigue', 'likeable', 'moody', 'witty', 'songs', 'saccharine', 'joke', 'bittersweet', 'whodunit', 'macabre', 'sinister', 'winning', 'horrors', 'broad', 'schlock', 'chemistry', 'nightmare', 'brutal', \"children's\", 'gothic', 'intensity', 'twist', 'seat', 'antics', 'guessing', 'animated', 'nail', 'holes', 'spirited', 'gag', 'sweetly', 'frights', 'joy', 'murky', 'happy', 'charmer', 'friendship', 'bright', 'harmless', 'breezy', 'horrifying', 'charms', 'wit', 'uplifting', 'wonderful', 'revenge', 'laughable', 'campy', 'whimsy', 'lessons', 'hitchcockian', 'harrowing', 'scariest', 'puzzle', 'tender', 'delight', 'light', 'romcom', 'killing', 'poignant']\n"
     ]
    }
   ],
   "source": [
    "two_list= list(two_terms[\"remove_duplicate_words\"])\n",
    "four_list = list(four_terms[\"remove_duplicate_words\"])\n",
    "print(len(two_list))\n",
    "print(two_list)"
   ]
  },
  {
   "cell_type": "code",
   "execution_count": 849,
   "id": "2ee6d72e",
   "metadata": {},
   "outputs": [
    {
     "name": "stdout",
     "output_type": "stream",
     "text": [
      "     rotten_tomatoes_link remove_duplicate_words             genres\n",
      "0      m/1000121-39_steps                 office  Horror & Suspense\n",
      "0      m/1000121-39_steps                example  Horror & Suspense\n",
      "0      m/1000121-39_steps                  piece  Horror & Suspense\n",
      "0      m/1000121-39_steps         characteristic  Horror & Suspense\n",
      "0      m/1000121-39_steps                 finish  Horror & Suspense\n",
      "...                   ...                    ...                ...\n",
      "5894           m/zootopia              addresses       Family Movie\n",
      "5894           m/zootopia                 splice       Family Movie\n",
      "5894           m/zootopia                   near       Family Movie\n",
      "5894           m/zootopia             polarizing       Family Movie\n",
      "5894           m/zootopia                 comedy       Family Movie\n",
      "\n",
      "[3936032 rows x 3 columns]\n"
     ]
    }
   ],
   "source": [
    "print(horror_family1)"
   ]
  },
  {
   "cell_type": "code",
   "execution_count": 850,
   "id": "56438a76",
   "metadata": {},
   "outputs": [],
   "source": [
    "hor_fam_two = horror_family1.copy()\n",
    "hor_fam_two = hor_fam_two[hor_fam_two['remove_duplicate_words'].isin(two_list)]\n",
    "#a = hor_fam_four.groupby(['rotten_tomatoes_link', 'remove_duplicate_words']).agg({'remove_duplicate_words':['count']})\n",
    "hor_fam_two= hor_fam_two.pivot_table(values='remove_duplicate_words', index=['rotten_tomatoes_link'], columns='remove_duplicate_words', aggfunc='count')\n",
    "#print(hor_fam_two['rotten_tomatoes_link'])\n",
    "#print(hor_fam_four)\n",
    "hor_fam_two = hor_fam_two.replace(np.nan, 0)\n"
   ]
  },
  {
   "cell_type": "code",
   "execution_count": 851,
   "id": "e6eab59e",
   "metadata": {},
   "outputs": [],
   "source": [
    "hor_fam_two= hor_fam_two.reset_index()\n"
   ]
  },
  {
   "cell_type": "code",
   "execution_count": 852,
   "id": "391a455d",
   "metadata": {},
   "outputs": [
    {
     "name": "stdout",
     "output_type": "stream",
     "text": [
      "     rotten_tomatoes_link remove_duplicate_words             genres\n",
      "0      m/1000121-39_steps                 office  Horror & Suspense\n",
      "0      m/1000121-39_steps                example  Horror & Suspense\n",
      "0      m/1000121-39_steps                  piece  Horror & Suspense\n",
      "0      m/1000121-39_steps         characteristic  Horror & Suspense\n",
      "0      m/1000121-39_steps                 finish  Horror & Suspense\n",
      "...                   ...                    ...                ...\n",
      "5894           m/zootopia              addresses       Family Movie\n",
      "5894           m/zootopia                 splice       Family Movie\n",
      "5894           m/zootopia                   near       Family Movie\n",
      "5894           m/zootopia             polarizing       Family Movie\n",
      "5894           m/zootopia                 comedy       Family Movie\n",
      "\n",
      "[3936032 rows x 3 columns]\n"
     ]
    }
   ],
   "source": [
    "print(horror_family1)"
   ]
  },
  {
   "cell_type": "code",
   "execution_count": 853,
   "id": "9ec36b04",
   "metadata": {},
   "outputs": [
    {
     "name": "stdout",
     "output_type": "stream",
     "text": [
      "remove_duplicate_words                   rotten_tomatoes_link  adorable  adults  amiable  amusing  animated  animation  antics  appealing  atmosphere  atmospheric    b  bittersweet  blood  bloody  breezy  bright  broad  brutal  campy  charm  charmer  charming  charms  chemistry  children  children's  chiller  chilling  chills  climax  comedic  comedies  comedy  comic  compelling  creepy  crime  cute  dark  delight  delightful  disney  disturbing  dramedy  dread  eerie  effective  effects  efficient  endearing  engrossing  evil  exercise  exploitation  family  farce  fear  friendship  fright  frightening  frights  funnier  funniest  funny  gag  gags  genre  gentle  gore  gory  gothic  gripping  grisly  gruesome  guessing  happy  harmless  harrowing  haunted  haunting  hearted  heartfelt  heartwarming  hilarious  hitchcock  hitchcockian  holes  horrific  horrifying  horror  horrors  humor  intense  intensity  intrigue  intriguing  joke  jokes  jolts  joy  jump  kids  killer  killing  \\\n",
      "0                                                   m/0814255       0.0     1.0      0.0      1.0       0.0        0.0     0.0        0.0         0.0          0.0  0.0          0.0    0.0     0.0     0.0     1.0    0.0     0.0    0.0    1.0      0.0       0.0     0.0        0.0       1.0         0.0      0.0       0.0     0.0     0.0      0.0       0.0     0.0    0.0         1.0     0.0    0.0   0.0   1.0      0.0         0.0     1.0         0.0      0.0    0.0    0.0        0.0      1.0        0.0        0.0         0.0   0.0       0.0           0.0     1.0    0.0   0.0         1.0     0.0          0.0      0.0      0.0       0.0    0.0  0.0   0.0    1.0     0.0   0.0   0.0     0.0       0.0     0.0       0.0       0.0    1.0       0.0        0.0      0.0       0.0      0.0        0.0           0.0        0.0        0.0           0.0    1.0       0.0         0.0     0.0      0.0    1.0      0.0        0.0       0.0         0.0   0.0    1.0    0.0  0.0   0.0   1.0     0.0      0.0   \n",
      "1                                                   m/0878835       0.0     1.0      0.0      1.0       0.0        0.0     0.0        0.0         0.0          0.0  0.0          0.0    0.0     0.0     1.0     0.0    0.0     0.0    0.0    1.0      0.0       1.0     0.0        0.0       0.0         0.0      0.0       0.0     0.0     0.0      0.0       0.0     1.0    1.0         0.0     0.0    0.0   0.0   1.0      0.0         0.0     0.0         0.0      1.0    1.0    0.0        0.0      0.0        0.0        0.0         0.0   0.0       0.0           0.0     1.0    0.0   0.0         0.0     0.0          0.0      0.0      0.0       0.0    1.0  0.0   0.0    1.0     0.0   0.0   0.0     0.0       1.0     0.0       0.0       0.0    0.0       1.0        0.0      0.0       1.0      1.0        0.0           1.0        0.0        0.0           0.0    0.0       0.0         0.0     0.0      0.0    1.0      0.0        0.0       0.0         0.0   0.0    0.0    0.0  1.0   0.0   0.0     0.0      0.0   \n",
      "2                                                        m/10       0.0     1.0      0.0      0.0       0.0        0.0     0.0        0.0         0.0          0.0  0.0          1.0    0.0     0.0     0.0     0.0    0.0     0.0    0.0    0.0      0.0       1.0     0.0        0.0       0.0         0.0      0.0       0.0     0.0     0.0      0.0       1.0     1.0    0.0         0.0     0.0    0.0   0.0   0.0      0.0         0.0     0.0         0.0      0.0    0.0    0.0        0.0      0.0        0.0        0.0         0.0   0.0       0.0           0.0     0.0    0.0   0.0         0.0     0.0          0.0      0.0      0.0       0.0    1.0  0.0   1.0    0.0     0.0   0.0   0.0     0.0       0.0     0.0       0.0       0.0    0.0       0.0        0.0      0.0       0.0      0.0        0.0           0.0        1.0        0.0           0.0    0.0       0.0         0.0     0.0      0.0    0.0      0.0        0.0       0.0         0.0   0.0    0.0    0.0  0.0   0.0   0.0     0.0      0.0   \n",
      "3                       m/1000079-20000_leagues_under_the_sea       0.0     0.0      0.0      0.0       0.0        0.0     0.0        0.0         0.0          0.0  0.0          0.0    0.0     0.0     0.0     0.0    0.0     0.0    0.0    0.0      0.0       0.0     0.0        0.0       0.0         0.0      0.0       0.0     0.0     0.0      0.0       0.0     0.0    0.0         0.0     0.0    0.0   0.0   0.0      0.0         0.0     1.0         0.0      0.0    0.0    0.0        0.0      1.0        0.0        0.0         0.0   0.0       0.0           0.0     1.0    0.0   0.0         0.0     0.0          0.0      0.0      0.0       0.0    0.0  0.0   0.0    1.0     0.0   0.0   0.0     0.0       0.0     0.0       0.0       0.0    0.0       0.0        0.0      0.0       0.0      0.0        0.0           0.0        0.0        0.0           0.0    0.0       0.0         0.0     0.0      0.0    0.0      0.0        0.0       0.0         0.0   0.0    0.0    0.0  0.0   0.0   1.0     0.0      0.0   \n",
      "4                                          m/1000121-39_steps       0.0     0.0      0.0      0.0       0.0        0.0     0.0        0.0         1.0          0.0  0.0          0.0    0.0     0.0     0.0     0.0    0.0     0.0    0.0    0.0      0.0       0.0     0.0        1.0       0.0         0.0      0.0       0.0     0.0     0.0      1.0       0.0     1.0    1.0         0.0     0.0    0.0   0.0   0.0      0.0         0.0     0.0         0.0      0.0    0.0    0.0        0.0      0.0        0.0        0.0         0.0   0.0       0.0           0.0     0.0    0.0   0.0         0.0     0.0          0.0      0.0      0.0       0.0    0.0  0.0   0.0    0.0     0.0   0.0   0.0     0.0       1.0     0.0       0.0       0.0    0.0       0.0        1.0      0.0       0.0      0.0        0.0           0.0        0.0        1.0           0.0    0.0       0.0         0.0     0.0      0.0    1.0      0.0        0.0       0.0         0.0   0.0    0.0    0.0  0.0   0.0   0.0     0.0      0.0   \n",
      "...                                                       ...       ...     ...      ...      ...       ...        ...     ...        ...         ...          ...  ...          ...    ...     ...     ...     ...    ...     ...    ...    ...      ...       ...     ...        ...       ...         ...      ...       ...     ...     ...      ...       ...     ...    ...         ...     ...    ...   ...   ...      ...         ...     ...         ...      ...    ...    ...        ...      ...        ...        ...         ...   ...       ...           ...     ...    ...   ...         ...     ...          ...      ...      ...       ...    ...  ...   ...    ...     ...   ...   ...     ...       ...     ...       ...       ...    ...       ...        ...      ...       ...      ...        ...           ...        ...        ...           ...    ...       ...         ...     ...      ...    ...      ...        ...       ...         ...   ...    ...    ...  ...   ...   ...     ...      ...   \n",
      "5889                                              m/zookeeper       0.0     1.0      1.0      1.0       0.0        0.0     1.0        1.0         0.0          0.0  1.0          0.0    0.0     0.0     0.0     0.0    0.0     0.0    0.0    1.0      0.0       1.0     0.0        0.0       1.0         1.0      0.0       0.0     0.0     0.0      1.0       1.0     1.0    0.0         0.0     0.0    0.0   0.0   0.0      0.0         0.0     0.0         0.0      0.0    0.0    0.0        0.0      1.0        0.0        1.0         0.0   0.0       0.0           0.0     1.0    0.0   0.0         0.0     0.0          0.0      0.0      0.0       1.0    1.0  0.0   1.0    1.0     0.0   0.0   0.0     0.0       0.0     0.0       0.0       1.0    1.0       1.0        0.0      0.0       0.0      0.0        0.0           0.0        0.0        0.0           0.0    0.0       0.0         0.0     0.0      0.0    1.0      0.0        0.0       0.0         0.0   1.0    1.0    0.0  0.0   0.0   1.0     0.0      0.0   \n",
      "5890                                              m/zoolander       0.0     0.0      0.0      1.0       0.0        0.0     0.0        0.0         0.0          0.0  0.0          0.0    0.0     0.0     0.0     0.0    0.0     0.0    0.0    1.0      0.0       1.0     0.0        0.0       0.0         0.0      0.0       0.0     0.0     0.0      0.0       1.0     1.0    1.0         0.0     0.0    0.0   0.0   0.0      0.0         0.0     0.0         0.0      0.0    0.0    0.0        0.0      0.0        0.0        0.0         0.0   0.0       0.0           0.0     0.0    1.0   0.0         0.0     0.0          0.0      0.0      0.0       1.0    1.0  0.0   1.0    1.0     0.0   0.0   0.0     0.0       0.0     0.0       0.0       0.0    1.0       0.0        0.0      0.0       0.0      0.0        0.0           0.0        1.0        0.0           0.0    1.0       0.0         0.0     0.0      0.0    1.0      0.0        0.0       0.0         0.0   1.0    1.0    0.0  0.0   0.0   0.0     0.0      0.0   \n",
      "5891                                            m/zoolander_2       0.0     0.0      0.0      1.0       0.0        1.0     0.0        0.0         0.0          0.0  0.0          0.0    0.0     0.0     0.0     0.0    0.0     0.0    0.0    1.0      0.0       0.0     1.0        0.0       0.0         0.0      0.0       0.0     0.0     0.0      0.0       1.0     1.0    1.0         0.0     0.0    0.0   0.0   0.0      0.0         0.0     0.0         0.0      0.0    0.0    0.0        1.0      0.0        0.0        0.0         0.0   0.0       1.0           0.0     0.0    0.0   0.0         0.0     0.0          0.0      0.0      1.0       1.0    1.0  1.0   1.0    1.0     0.0   0.0   0.0     0.0       0.0     0.0       0.0       0.0    0.0       0.0        0.0      0.0       0.0      0.0        0.0           0.0        1.0        0.0           0.0    0.0       0.0         0.0     0.0      0.0    1.0      0.0        0.0       0.0         0.0   1.0    1.0    0.0  0.0   0.0   0.0     0.0      0.0   \n",
      "5892                                              m/zoom_2006       0.0     0.0      0.0      0.0       0.0        0.0     0.0        1.0         0.0          0.0  0.0          0.0    0.0     0.0     0.0     0.0    0.0     0.0    0.0    1.0      0.0       1.0     0.0        1.0       1.0         0.0      0.0       0.0     0.0     0.0      0.0       0.0     1.0    1.0         0.0     0.0    0.0   1.0   0.0      0.0         0.0     1.0         0.0      0.0    0.0    0.0        0.0      1.0        0.0        0.0         0.0   0.0       0.0           0.0     1.0    0.0   0.0         1.0     0.0          0.0      0.0      1.0       0.0    0.0  0.0   0.0    0.0     0.0   0.0   0.0     0.0       0.0     0.0       0.0       0.0    0.0       0.0        0.0      0.0       0.0      1.0        0.0           0.0        0.0        0.0           0.0    0.0       0.0         0.0     0.0      0.0    1.0      0.0        0.0       0.0         0.0   1.0    1.0    0.0  1.0   0.0   1.0     0.0      0.0   \n",
      "5893                                               m/zootopia       1.0     1.0      0.0      1.0       1.0        1.0     1.0        0.0         0.0          1.0  0.0          0.0    0.0     0.0     1.0     1.0    0.0     0.0    0.0    1.0      0.0       1.0     0.0        0.0       1.0         1.0      0.0       0.0     0.0     0.0      0.0       0.0     1.0    1.0         1.0     0.0    1.0   1.0   1.0      1.0         1.0     1.0         0.0      0.0    0.0    0.0        1.0      0.0        0.0        1.0         0.0   0.0       0.0           0.0     1.0    0.0   1.0         1.0     0.0          0.0      0.0      0.0       0.0    1.0  1.0   1.0    1.0     0.0   0.0   0.0     0.0       0.0     0.0       0.0       0.0    0.0       1.0        0.0      0.0       0.0      1.0        1.0           1.0        1.0        0.0           0.0    0.0       0.0         0.0     0.0      0.0    1.0      0.0        0.0       0.0         1.0   0.0    1.0    0.0  0.0   1.0   1.0     0.0      0.0   \n",
      "\n",
      "remove_duplicate_words  laugh  laughable  laughs  lessons  light  likable  likeable  love  lovely  lurid  macabre  menace  monster  moody  murder  murky  mystery  nail  natured  nightmare  noir  paranoia  pleasant  poignant  psycho  psychological  pulp  pulpy  puzzle  raunchy  revenge  riveting  rom  romance  romantic  romcom  saccharine  scare  scares  scariest  scary  schlock  screwball  seat  sentiment  sentimental  sentimentality  shocker  shocks  sinister  sitcom  slapstick  slasher  smile  songs  spirited  spooky  stylish  supernatural  suspense  suspenseful  sweet  sweetly  sweetness  taut  tender  tense  tension  terrifying  terror  thrill  thriller  thrillers  thrilling  thrills  touching  twist  twists  twisty  unfunny  unnerving  unsettling  uplifting  victims  violence  violent  visceral  warm  warmth  whimsical  whimsy  whodunit  winning  wit  witty  wonderful             genres  \n",
      "0                         0.0        0.0     1.0      0.0    0.0      1.0       1.0   1.0     0.0    0.0      0.0     0.0      0.0    0.0     0.0    0.0      0.0   0.0      0.0        0.0   0.0       0.0       1.0       0.0     0.0            0.0   0.0    0.0     0.0      0.0      0.0       0.0  0.0      0.0       0.0     0.0         0.0    0.0     0.0       0.0    1.0      0.0        0.0   1.0        0.0          0.0             0.0      0.0     0.0       0.0     0.0        0.0      0.0    0.0    0.0       0.0     0.0      0.0           0.0       0.0          1.0    0.0      0.0        0.0   1.0     0.0    0.0      0.0         0.0     0.0     1.0       0.0        0.0        0.0      1.0       0.0    0.0     0.0     0.0      0.0        0.0         0.0        0.0      0.0       0.0      0.0       0.0   0.0     0.0        0.0     1.0       0.0      1.0  1.0    1.0        0.0       Family Movie  \n",
      "1                         1.0        0.0     1.0      0.0    1.0      1.0       1.0   1.0     1.0    0.0      0.0     0.0      0.0    0.0     0.0    0.0      0.0   0.0      0.0        0.0   0.0       0.0       0.0       1.0     0.0            0.0   0.0    0.0     0.0      0.0      0.0       0.0  0.0      1.0       1.0     0.0         0.0    0.0     0.0       0.0    0.0      0.0        0.0   0.0        0.0          0.0             0.0      0.0     0.0       0.0     0.0        0.0      0.0    0.0    0.0       0.0     0.0      0.0           0.0       0.0          0.0    0.0      0.0        0.0   0.0     1.0    0.0      0.0         0.0     0.0     0.0       0.0        0.0        0.0      0.0       1.0    0.0     0.0     0.0      0.0        0.0         0.0        0.0      0.0       0.0      0.0       0.0   1.0     1.0        0.0     1.0       0.0      0.0  1.0    1.0        1.0       Family Movie  \n",
      "2                         0.0        0.0     1.0      0.0    0.0      0.0       0.0   0.0     0.0    0.0      0.0     0.0      0.0    0.0     0.0    0.0      0.0   0.0      0.0        0.0   0.0       0.0       0.0       0.0     0.0            0.0   0.0    0.0     0.0      0.0      0.0       0.0  0.0      0.0       1.0     0.0         0.0    0.0     0.0       0.0    0.0      0.0        0.0   0.0        0.0          0.0             0.0      0.0     0.0       0.0     0.0        0.0      0.0    0.0    0.0       0.0     0.0      0.0           0.0       0.0          0.0    0.0      0.0        0.0   0.0     0.0    0.0      0.0         0.0     0.0     0.0       0.0        0.0        0.0      0.0       0.0    0.0     0.0     0.0      0.0        0.0         0.0        0.0      0.0       0.0      0.0       0.0   0.0     0.0        0.0     0.0       0.0      0.0  0.0    0.0        0.0       Family Movie  \n",
      "3                         0.0        0.0     0.0      0.0    0.0      0.0       0.0   0.0     0.0    0.0      0.0     0.0      0.0    0.0     0.0    0.0      0.0   0.0      0.0        0.0   0.0       0.0       0.0       0.0     0.0            0.0   0.0    0.0     0.0      0.0      0.0       0.0  0.0      0.0       0.0     0.0         0.0    0.0     0.0       0.0    0.0      0.0        0.0   0.0        0.0          0.0             0.0      0.0     0.0       0.0     0.0        0.0      0.0    0.0    0.0       0.0     0.0      0.0           0.0       0.0          0.0    0.0      0.0        0.0   0.0     0.0    0.0      0.0         0.0     0.0     1.0       0.0        0.0        0.0      0.0       0.0    0.0     0.0     0.0      0.0        0.0         0.0        0.0      0.0       1.0      0.0       0.0   0.0     0.0        0.0     0.0       0.0      0.0  0.0    0.0        0.0       Family Movie  \n",
      "4                         0.0        0.0     0.0      0.0    1.0      0.0       0.0   1.0     0.0    0.0      0.0     0.0      0.0    0.0     0.0    0.0      1.0   0.0      0.0        0.0   0.0       0.0       0.0       0.0     0.0            0.0   0.0    0.0     0.0      0.0      0.0       0.0  0.0      1.0       1.0     0.0         0.0    0.0     0.0       0.0    0.0      0.0        0.0   0.0        0.0          0.0             0.0      0.0     0.0       0.0     0.0        0.0      0.0    0.0    0.0       0.0     0.0      0.0           0.0       1.0          0.0    0.0      0.0        0.0   0.0     0.0    0.0      0.0         0.0     0.0     0.0       1.0        1.0        0.0      0.0       0.0    0.0     1.0     0.0      0.0        0.0         0.0        0.0      0.0       0.0      0.0       0.0   0.0     0.0        0.0     0.0       0.0      0.0  1.0    0.0        1.0  Horror & Suspense  \n",
      "...                       ...        ...     ...      ...    ...      ...       ...   ...     ...    ...      ...     ...      ...    ...     ...    ...      ...   ...      ...        ...   ...       ...       ...       ...     ...            ...   ...    ...     ...      ...      ...       ...  ...      ...       ...     ...         ...    ...     ...       ...    ...      ...        ...   ...        ...          ...             ...      ...     ...       ...     ...        ...      ...    ...    ...       ...     ...      ...           ...       ...          ...    ...      ...        ...   ...     ...    ...      ...         ...     ...     ...       ...        ...        ...      ...       ...    ...     ...     ...      ...        ...         ...        ...      ...       ...      ...       ...   ...     ...        ...     ...       ...      ...  ...    ...        ...                ...  \n",
      "5889                      1.0        0.0     1.0      0.0    0.0      0.0       0.0   1.0     0.0    0.0      0.0     0.0      0.0    0.0     0.0    0.0      0.0   0.0      0.0        0.0   0.0       0.0       1.0       0.0     0.0            0.0   0.0    0.0     0.0      0.0      0.0       0.0  1.0      1.0       1.0     0.0         0.0    0.0     0.0       0.0    0.0      0.0        0.0   0.0        0.0          0.0             0.0      0.0     0.0       0.0     0.0        1.0      0.0    0.0    1.0       0.0     0.0      0.0           0.0       0.0          0.0    1.0      0.0        0.0   0.0     0.0    0.0      0.0         0.0     0.0     0.0       0.0        0.0        0.0      0.0       0.0    0.0     0.0     0.0      1.0        0.0         0.0        0.0      0.0       0.0      0.0       0.0   0.0     1.0        0.0     0.0       0.0      1.0  0.0    0.0        0.0       Family Movie  \n",
      "5890                      1.0        0.0     1.0      0.0    1.0      0.0       0.0   1.0     0.0    0.0      0.0     0.0      0.0    0.0     0.0    0.0      0.0   0.0      0.0        0.0   0.0       0.0       0.0       0.0     0.0            0.0   0.0    0.0     0.0      0.0      0.0       0.0  0.0      0.0       0.0     0.0         0.0    0.0     0.0       0.0    0.0      0.0        0.0   0.0        1.0          0.0             0.0      0.0     0.0       0.0     0.0        1.0      0.0    1.0    0.0       1.0     0.0      0.0           0.0       0.0          0.0    0.0      0.0        0.0   0.0     0.0    0.0      0.0         0.0     0.0     0.0       0.0        0.0        0.0      0.0       0.0    0.0     0.0     0.0      1.0        0.0         0.0        0.0      0.0       0.0      0.0       0.0   0.0     0.0        0.0     0.0       0.0      0.0  1.0    0.0        0.0       Family Movie  \n",
      "5891                      1.0        0.0     1.0      0.0    1.0      1.0       0.0   0.0     0.0    0.0      0.0     0.0      0.0    0.0     0.0    0.0      0.0   0.0      0.0        0.0   0.0       0.0       0.0       0.0     0.0            0.0   0.0    0.0     0.0      0.0      0.0       0.0  0.0      0.0       0.0     0.0         0.0    0.0     0.0       0.0    0.0      0.0        0.0   0.0        0.0          0.0             0.0      0.0     0.0       0.0     0.0        1.0      0.0    0.0    1.0       0.0     0.0      0.0           0.0       1.0          0.0    1.0      0.0        0.0   0.0     0.0    0.0      0.0         0.0     0.0     0.0       1.0        0.0        0.0      0.0       0.0    0.0     0.0     0.0      1.0        0.0         0.0        0.0      0.0       1.0      0.0       0.0   0.0     1.0        0.0     0.0       0.0      0.0  1.0    1.0        1.0       Family Movie  \n",
      "5892                      1.0        0.0     1.0      1.0    1.0      0.0       0.0   1.0     0.0    0.0      0.0     0.0      0.0    0.0     0.0    0.0      0.0   0.0      0.0        0.0   0.0       0.0       0.0       0.0     0.0            0.0   0.0    0.0     0.0      0.0      0.0       0.0  0.0      0.0       0.0     0.0         0.0    0.0     0.0       0.0    0.0      0.0        0.0   0.0        0.0          0.0             0.0      0.0     0.0       0.0     0.0        1.0      0.0    0.0    1.0       0.0     0.0      0.0           0.0       0.0          0.0    0.0      0.0        1.0   0.0     0.0    0.0      0.0         0.0     0.0     0.0       0.0        0.0        0.0      0.0       0.0    0.0     0.0     0.0      1.0        0.0         0.0        0.0      0.0       0.0      0.0       0.0   0.0     0.0        0.0     0.0       0.0      0.0  1.0    0.0        0.0       Family Movie  \n",
      "5893                      1.0        0.0     1.0      1.0    1.0      0.0       0.0   1.0     0.0    0.0      0.0     0.0      0.0    0.0     0.0    0.0      1.0   0.0      0.0        0.0   1.0       0.0       0.0       1.0     0.0            0.0   0.0    0.0     1.0      0.0      0.0       0.0  0.0      0.0       0.0     0.0         0.0    0.0     0.0       0.0    1.0      0.0        0.0   1.0        1.0          0.0             1.0      0.0     0.0       0.0     0.0        1.0      0.0    0.0    1.0       0.0     0.0      0.0           0.0       1.0          1.0    1.0      0.0        0.0   0.0     0.0    0.0      0.0         0.0     0.0     0.0       1.0        0.0        0.0      1.0       1.0    1.0     1.0     0.0      0.0        0.0         0.0        0.0      0.0       1.0      0.0       0.0   1.0     0.0        1.0     0.0       1.0      1.0  1.0    1.0        1.0       Family Movie  \n",
      "\n",
      "[5894 rows x 202 columns]\n"
     ]
    }
   ],
   "source": [
    "mapping5 = dict(horror_family1[['rotten_tomatoes_link', 'genres']].values)\n",
    "hor_fam_two['genres'] = hor_fam_two.rotten_tomatoes_link.map(mapping5)\n",
    "print(hor_fam_two)"
   ]
  },
  {
   "cell_type": "code",
   "execution_count": 854,
   "id": "1b43f535",
   "metadata": {},
   "outputs": [
    {
     "name": "stdout",
     "output_type": "stream",
     "text": [
      "RangeIndex(start=0, stop=5894, step=1)\n",
      "0                                   m/0814255\n",
      "1                                   m/0878835\n",
      "2                                        m/10\n",
      "3       m/1000079-20000_leagues_under_the_sea\n",
      "4                          m/1000121-39_steps\n",
      "                        ...                  \n",
      "5889                              m/zookeeper\n",
      "5890                              m/zoolander\n",
      "5891                            m/zoolander_2\n",
      "5892                              m/zoom_2006\n",
      "5893                               m/zootopia\n",
      "Name: rotten_tomatoes_link, Length: 5894, dtype: object\n"
     ]
    }
   ],
   "source": [
    "print(hor_fam_two.index)\n",
    "print(hor_fam_two['rotten_tomatoes_link'])"
   ]
  },
  {
   "cell_type": "code",
   "execution_count": 855,
   "id": "5ffd2194",
   "metadata": {},
   "outputs": [
    {
     "name": "stdout",
     "output_type": "stream",
     "text": [
      "remove_duplicate_words                 absorbing  action  actioner  adorable  adrenaline  adult  adults  affable  affection  affirming  age  ages  agreeable  aimed  alfred  ambiguity  amiable  amusing  animated  animation  antics  apocalyptic  appeal  appealing  atmosphere  atmospheric  atmospherics    b  bang  biter  bittersweet  blood  bloodbath  bloodshed  bloody  bourne  breezy  bright  broad  brooding  brutal  brutality  budget  build  building  builds  burn  camp  campy  carnage  cartoon  charm  charmer  charming  charms  chemistry  chick  children  children's  chiller  chilling  chillingly  chills  chuckle  chuckles  claustrophobic  climax  cloying  cold  com  comedian  comedic  comedies  comedy  comic  compelling  conspiracy  convoluted  crass  creep  creepiness  creepy  crime  crude  cult  cute  cuteness  cutesy  dancing  dark  deaths  delight  delightful  demon  demonic  detective  disney  disney's  disturbing  dramedy  dread  editing  eerie  effective  effectively  \\\n",
      "rotten_tomatoes_link                                                                                                                                                                                                                                                                                                                                                                                                                                                                                                                                                                                                                                                                                                                                                                                                                                                                                                                                                                                                            \n",
      "m/0814255                                    0.0     1.0       0.0       0.0         0.0    1.0     1.0      0.0        1.0        0.0  1.0   0.0        1.0    1.0     0.0        0.0      0.0      1.0       0.0        0.0     0.0          0.0     1.0        0.0         0.0          0.0           0.0  0.0   0.0    0.0          0.0    0.0        0.0        0.0     0.0     0.0     0.0     1.0    0.0       0.0     0.0        0.0     1.0    0.0       0.0     1.0   0.0   1.0    0.0      0.0      0.0    1.0      0.0       0.0     0.0        0.0    0.0       1.0         0.0      0.0       0.0         0.0     0.0      0.0       0.0             0.0     0.0      0.0   0.0  0.0       0.0      0.0       0.0     0.0    0.0         1.0         0.0         0.0    1.0    0.0         0.0     0.0    0.0    0.0   0.0   0.0       0.0     0.0      0.0   1.0     0.0      0.0         0.0    0.0      0.0        0.0     1.0       0.0         0.0      0.0    0.0      0.0    0.0        0.0          0.0   \n",
      "m/0878835                                    1.0     0.0       0.0       0.0         0.0    1.0     1.0      0.0        0.0        0.0  1.0   0.0        0.0    0.0     0.0        0.0      0.0      1.0       0.0        0.0     0.0          0.0     0.0        0.0         0.0          0.0           0.0  0.0   0.0    0.0          0.0    0.0        0.0        0.0     0.0     0.0     1.0     0.0    0.0       0.0     0.0        0.0     0.0    0.0       0.0     0.0   0.0   0.0    0.0      0.0      1.0    1.0      0.0       1.0     0.0        0.0    1.0       0.0         0.0      0.0       0.0         0.0     0.0      0.0       0.0             0.0     0.0      1.0   0.0  0.0       0.0      0.0       0.0     1.0    1.0         0.0         0.0         0.0    0.0    0.0         0.0     0.0    0.0    0.0   0.0   0.0       0.0     0.0      0.0   1.0     0.0      0.0         0.0    0.0      0.0        0.0     0.0       0.0         0.0      1.0    1.0      0.0    0.0        0.0          0.0   \n",
      "m/10                                         0.0     0.0       0.0       0.0         0.0    0.0     1.0      0.0        0.0        0.0  0.0   0.0        0.0    0.0     0.0        0.0      0.0      0.0       0.0        0.0     0.0          0.0     0.0        0.0         0.0          0.0           0.0  0.0   0.0    0.0          1.0    0.0        0.0        0.0     0.0     0.0     0.0     0.0    0.0       0.0     0.0        0.0     0.0    0.0       0.0     0.0   0.0   0.0    0.0      0.0      0.0    0.0      0.0       1.0     0.0        0.0    0.0       0.0         0.0      0.0       0.0         0.0     0.0      0.0       0.0             0.0     0.0      0.0   0.0  0.0       0.0      0.0       1.0     1.0    0.0         0.0         0.0         0.0    0.0    0.0         0.0     0.0    0.0    0.0   0.0   0.0       0.0     0.0      0.0   0.0     0.0      0.0         0.0    0.0      0.0        0.0     0.0       0.0         0.0      0.0    0.0      0.0    0.0        0.0          0.0   \n",
      "m/1000079-20000_leagues_under_the_sea        0.0     1.0       0.0       0.0         0.0    0.0     0.0      0.0        0.0        0.0  0.0   0.0        0.0    0.0     0.0        0.0      0.0      0.0       0.0        0.0     0.0          0.0     0.0        0.0         0.0          0.0           0.0  0.0   0.0    0.0          0.0    0.0        0.0        0.0     0.0     0.0     0.0     0.0    0.0       0.0     0.0        0.0     0.0    0.0       0.0     0.0   0.0   0.0    0.0      0.0      0.0    0.0      0.0       0.0     0.0        0.0    0.0       0.0         0.0      0.0       0.0         0.0     0.0      0.0       0.0             0.0     0.0      0.0   0.0  0.0       0.0      0.0       0.0     0.0    0.0         0.0         0.0         0.0    0.0    0.0         0.0     0.0    0.0    0.0   0.0   0.0       0.0     0.0      0.0   0.0     0.0      0.0         0.0    0.0      0.0        0.0     1.0       1.0         0.0      0.0    0.0      0.0    0.0        0.0          0.0   \n",
      "m/1000121-39_steps                           0.0     0.0       0.0       0.0         0.0    0.0     0.0      0.0        0.0        0.0  0.0   0.0        0.0    0.0     1.0        0.0      0.0      0.0       0.0        0.0     0.0          0.0     0.0        0.0         1.0          0.0           0.0  0.0   0.0    0.0          0.0    0.0        0.0        0.0     0.0     0.0     0.0     0.0    0.0       0.0     0.0        0.0     0.0    0.0       0.0     0.0   1.0   0.0    0.0      0.0      0.0    0.0      0.0       0.0     0.0        1.0    0.0       0.0         0.0      0.0       0.0         0.0     0.0      0.0       0.0             0.0     0.0      0.0   0.0  0.0       0.0      1.0       0.0     1.0    1.0         0.0         0.0         0.0    0.0    0.0         0.0     0.0    0.0    0.0   0.0   0.0       0.0     0.0      0.0   0.0     0.0      0.0         0.0    0.0      0.0        1.0     0.0       0.0         0.0      0.0    0.0      0.0    0.0        0.0          0.0   \n",
      "...                                          ...     ...       ...       ...         ...    ...     ...      ...        ...        ...  ...   ...        ...    ...     ...        ...      ...      ...       ...        ...     ...          ...     ...        ...         ...          ...           ...  ...   ...    ...          ...    ...        ...        ...     ...     ...     ...     ...    ...       ...     ...        ...     ...    ...       ...     ...   ...   ...    ...      ...      ...    ...      ...       ...     ...        ...    ...       ...         ...      ...       ...         ...     ...      ...       ...             ...     ...      ...   ...  ...       ...      ...       ...     ...    ...         ...         ...         ...    ...    ...         ...     ...    ...    ...   ...   ...       ...     ...      ...   ...     ...      ...         ...    ...      ...        ...     ...       ...         ...      ...    ...      ...    ...        ...          ...   \n",
      "m/zookeeper                                  0.0     0.0       0.0       0.0         0.0    1.0     1.0      0.0        0.0        0.0  0.0   0.0        0.0    1.0     0.0        0.0      1.0      1.0       0.0        0.0     1.0          0.0     1.0        1.0         0.0          0.0           0.0  1.0   0.0    0.0          0.0    0.0        0.0        0.0     0.0     0.0     0.0     0.0    0.0       0.0     0.0        0.0     0.0    0.0       0.0     0.0   0.0   0.0    0.0      0.0      0.0    1.0      0.0       1.0     0.0        0.0    0.0       1.0         1.0      0.0       0.0         0.0     0.0      1.0       0.0             0.0     0.0      0.0   0.0  1.0       0.0      1.0       1.0     1.0    0.0         0.0         0.0         0.0    0.0    0.0         0.0     0.0    0.0    0.0   0.0   0.0       0.0     0.0      0.0   0.0     0.0      0.0         0.0    0.0      0.0        0.0     0.0       0.0         0.0      0.0    0.0      0.0    0.0        0.0          0.0   \n",
      "m/zoolander                                  0.0     0.0       0.0       0.0         0.0    0.0     0.0      0.0        1.0        0.0  0.0   0.0        0.0    0.0     0.0        0.0      0.0      1.0       0.0        0.0     0.0          0.0     0.0        0.0         0.0          0.0           0.0  0.0   0.0    0.0          0.0    0.0        0.0        0.0     0.0     0.0     0.0     0.0    0.0       0.0     0.0        0.0     0.0    0.0       0.0     0.0   0.0   0.0    0.0      0.0      1.0    1.0      0.0       1.0     0.0        0.0    0.0       0.0         0.0      0.0       0.0         0.0     0.0      0.0       1.0             0.0     0.0      0.0   0.0  0.0       0.0      0.0       1.0     1.0    1.0         0.0         1.0         0.0    0.0    0.0         0.0     0.0    0.0    0.0   0.0   0.0       0.0     0.0      0.0   0.0     0.0      0.0         0.0    0.0      0.0        0.0     0.0       0.0         0.0      0.0    0.0      0.0    0.0        0.0          0.0   \n",
      "m/zoolander_2                                0.0     1.0       0.0       0.0         0.0    0.0     0.0      0.0        0.0        0.0  0.0   0.0        1.0    0.0     0.0        0.0      0.0      1.0       0.0        1.0     0.0          0.0     0.0        0.0         0.0          0.0           0.0  0.0   0.0    0.0          0.0    0.0        0.0        0.0     0.0     0.0     0.0     0.0    0.0       0.0     0.0        0.0     0.0    0.0       0.0     0.0   0.0   0.0    0.0      0.0      0.0    1.0      0.0       0.0     1.0        0.0    0.0       0.0         0.0      0.0       0.0         0.0     0.0      0.0       1.0             0.0     0.0      0.0   0.0  0.0       1.0      0.0       1.0     1.0    1.0         0.0         0.0         0.0    0.0    0.0         0.0     0.0    0.0    0.0   1.0   0.0       0.0     0.0      0.0   0.0     0.0      0.0         0.0    0.0      0.0        0.0     0.0       0.0         0.0      0.0    0.0      1.0    0.0        1.0          0.0   \n",
      "m/zoom_2006                                  0.0     1.0       0.0       0.0         0.0    0.0     0.0      1.0        0.0        0.0  1.0   0.0        0.0    1.0     0.0        0.0      0.0      0.0       0.0        0.0     0.0          0.0     1.0        1.0         0.0          0.0           0.0  0.0   0.0    0.0          0.0    0.0        0.0        0.0     0.0     0.0     0.0     0.0    0.0       0.0     0.0        0.0     0.0    0.0       0.0     0.0   0.0   0.0    0.0      0.0      0.0    1.0      0.0       1.0     0.0        1.0    0.0       1.0         0.0      0.0       0.0         0.0     0.0      0.0       0.0             0.0     0.0      0.0   0.0  0.0       0.0      0.0       0.0     1.0    1.0         0.0         0.0         0.0    0.0    0.0         0.0     0.0    0.0    0.0   0.0   1.0       0.0     0.0      0.0   0.0     0.0      0.0         0.0    0.0      0.0        0.0     1.0       0.0         0.0      0.0    0.0      0.0    0.0        0.0          0.0   \n",
      "m/zootopia                                   0.0     1.0       0.0       1.0         0.0    1.0     1.0      0.0        0.0        0.0  1.0   1.0        1.0    0.0     0.0        0.0      0.0      1.0       1.0        1.0     1.0          0.0     1.0        0.0         0.0          1.0           0.0  0.0   0.0    0.0          0.0    0.0        0.0        0.0     0.0     0.0     1.0     1.0    0.0       0.0     0.0        0.0     1.0    0.0       1.0     0.0   1.0   0.0    0.0      0.0      1.0    1.0      0.0       1.0     0.0        0.0    0.0       1.0         1.0      0.0       0.0         1.0     0.0      0.0       0.0             0.0     0.0      0.0   0.0  0.0       0.0      0.0       0.0     1.0    1.0         1.0         1.0         0.0    0.0    0.0         0.0     0.0    1.0    0.0   0.0   1.0       0.0     0.0      0.0   1.0     0.0      1.0         1.0    0.0      0.0        1.0     1.0       1.0         0.0      0.0    0.0      0.0    0.0        1.0          1.0   \n",
      "\n",
      "remove_duplicate_words                 effects  efficient  elements   em  enchanting  endearing  engrossing  enjoyable  espionage  evil  excitement  exciting  exercise  exorcist  exploitation  exploitative  fairy  families  family  farce  fascinating  fear   fi  fiction  filmmaking  final  flick  fluff  fluffy  forced  foreboding  friendly  friends  friendship  fright  frightening  frights  frothy  funnier  funniest  funny  gag  gags  genial  genre  gentle  gently  gore  gory  gothic  graphic  grim  grindhouse  gripping  grisly  gritty  gruesome  guessing  guignol  halloween  happiness  happy  harmless  harrowing  haunted  haunting  heart  hearted  heartfelt  heartwarming  herrings  hilarious  hilarity  hitchcock  hitchcock's  hitchcockian  holes  honest  horrific  horrifying  horror  horrors  humor  humour  imagery  innocuous  inoffensive  intense  intensity  interesting  intrigue  intriguing  irresistible  joke  jokes  jolts  joy  joyful  joyous  jump  kid  kiddie  kids  kill  \\\n",
      "rotten_tomatoes_link                                                                                                                                                                                                                                                                                                                                                                                                                                                                                                                                                                                                                                                                                                                                                                                                                                                                                                                                                                                                               \n",
      "m/0814255                                  1.0        0.0       0.0  0.0         0.0        0.0         0.0        1.0        0.0   0.0         0.0       1.0       0.0       0.0           0.0           0.0    0.0       0.0     1.0    0.0          0.0   0.0  0.0      0.0         1.0    0.0    1.0    0.0     0.0     0.0         0.0       1.0      0.0         1.0     0.0          0.0      0.0     0.0      0.0       0.0    0.0  0.0   0.0     1.0    1.0     0.0     0.0   0.0   0.0     0.0      0.0   0.0         0.0       0.0     0.0     0.0       0.0       0.0      0.0        0.0        0.0    1.0       0.0        0.0      0.0       0.0    1.0      0.0        0.0           0.0       0.0        0.0       0.0        0.0          0.0           0.0    1.0     1.0       0.0         0.0     0.0      0.0    1.0     1.0      0.0        1.0          1.0      0.0        0.0          1.0       0.0         0.0           0.0   0.0    1.0    0.0  0.0     1.0     0.0   0.0  1.0     0.0   1.0   0.0   \n",
      "m/0878835                                  0.0        0.0       0.0  0.0         0.0        0.0         0.0        1.0        0.0   0.0         0.0       0.0       0.0       0.0           0.0           0.0    0.0       0.0     1.0    0.0          1.0   0.0  0.0      0.0         0.0    0.0    1.0    0.0     0.0     1.0         0.0       0.0      1.0         0.0     0.0          0.0      0.0     0.0      0.0       0.0    1.0  0.0   0.0     0.0    1.0     0.0     0.0   0.0   0.0     0.0      0.0   0.0         0.0       1.0     0.0     0.0       0.0       0.0      0.0        0.0        0.0    0.0       1.0        0.0      0.0       1.0    0.0      1.0        0.0           1.0       0.0        0.0       0.0        0.0          0.0           0.0    0.0     1.0       0.0         0.0     0.0      0.0    1.0     1.0      0.0        0.0          0.0      0.0        0.0          1.0       0.0         0.0           0.0   0.0    0.0    0.0  1.0     0.0     0.0   0.0  0.0     0.0   0.0   0.0   \n",
      "m/10                                       0.0        0.0       0.0  0.0         0.0        0.0         0.0        0.0        0.0   0.0         0.0       0.0       0.0       0.0           0.0           0.0    0.0       0.0     0.0    0.0          1.0   0.0  0.0      0.0         0.0    0.0    0.0    0.0     0.0     0.0         0.0       0.0      0.0         0.0     0.0          0.0      0.0     0.0      0.0       0.0    1.0  0.0   1.0     0.0    0.0     0.0     0.0   0.0   0.0     0.0      0.0   0.0         0.0       0.0     0.0     0.0       0.0       0.0      0.0        0.0        0.0    0.0       0.0        0.0      0.0       0.0    0.0      0.0        0.0           0.0       0.0        1.0       0.0        0.0          0.0           0.0    0.0     0.0       0.0         0.0     0.0      0.0    0.0     0.0      0.0        0.0          0.0      0.0        0.0          1.0       0.0         0.0           0.0   0.0    0.0    0.0  0.0     0.0     0.0   0.0  0.0     0.0   0.0   0.0   \n",
      "m/1000079-20000_leagues_under_the_sea      1.0        0.0       0.0  0.0         0.0        0.0         0.0        0.0        0.0   0.0         1.0       1.0       0.0       0.0           0.0           0.0    0.0       0.0     1.0    0.0          0.0   0.0  0.0      0.0         0.0    0.0    1.0    0.0     0.0     0.0         0.0       0.0      0.0         0.0     0.0          0.0      0.0     0.0      0.0       0.0    0.0  0.0   0.0     0.0    1.0     0.0     0.0   0.0   0.0     0.0      0.0   0.0         0.0       0.0     0.0     0.0       0.0       0.0      0.0        0.0        0.0    0.0       0.0        0.0      0.0       0.0    0.0      0.0        0.0           0.0       0.0        0.0       0.0        0.0          0.0           0.0    0.0     0.0       0.0         0.0     0.0      0.0    0.0     0.0      0.0        0.0          0.0      0.0        0.0          0.0       0.0         0.0           0.0   0.0    0.0    0.0  0.0     0.0     0.0   0.0  0.0     0.0   1.0   0.0   \n",
      "m/1000121-39_steps                         0.0        0.0       0.0  0.0         0.0        0.0         0.0        1.0        1.0   0.0         0.0       1.0       0.0       0.0           0.0           0.0    0.0       0.0     0.0    0.0          0.0   0.0  0.0      0.0         1.0    1.0    0.0    0.0     0.0     1.0         0.0       0.0      0.0         0.0     0.0          0.0      0.0     0.0      0.0       0.0    0.0  0.0   0.0     0.0    0.0     0.0     0.0   0.0   0.0     0.0      0.0   0.0         0.0       1.0     0.0     0.0       0.0       0.0      0.0        0.0        0.0    0.0       0.0        1.0      0.0       0.0    0.0      0.0        0.0           0.0       0.0        0.0       0.0        1.0          1.0           0.0    0.0     0.0       0.0         0.0     0.0      0.0    1.0     0.0      0.0        0.0          0.0      0.0        0.0          0.0       0.0         0.0           0.0   0.0    0.0    0.0  0.0     0.0     0.0   0.0  0.0     0.0   0.0   0.0   \n",
      "...                                        ...        ...       ...  ...         ...        ...         ...        ...        ...   ...         ...       ...       ...       ...           ...           ...    ...       ...     ...    ...          ...   ...  ...      ...         ...    ...    ...    ...     ...     ...         ...       ...      ...         ...     ...          ...      ...     ...      ...       ...    ...  ...   ...     ...    ...     ...     ...   ...   ...     ...      ...   ...         ...       ...     ...     ...       ...       ...      ...        ...        ...    ...       ...        ...      ...       ...    ...      ...        ...           ...       ...        ...       ...        ...          ...           ...    ...     ...       ...         ...     ...      ...    ...     ...      ...        ...          ...      ...        ...          ...       ...         ...           ...   ...    ...    ...  ...     ...     ...   ...  ...     ...   ...   ...   \n",
      "m/zookeeper                                1.0        0.0       1.0  0.0         0.0        1.0         0.0        0.0        0.0   0.0         0.0       0.0       0.0       0.0           0.0           0.0    0.0       1.0     1.0    0.0          0.0   0.0  0.0      0.0         0.0    0.0    1.0    0.0     1.0     0.0         0.0       1.0      0.0         0.0     0.0          0.0      0.0     0.0      0.0       1.0    1.0  0.0   1.0     0.0    1.0     0.0     0.0   0.0   0.0     0.0      0.0   0.0         0.0       0.0     0.0     0.0       0.0       1.0      0.0        0.0        0.0    1.0       1.0        0.0      0.0       0.0    1.0      0.0        0.0           0.0       0.0        0.0       0.0        0.0          0.0           0.0    0.0     0.0       0.0         0.0     0.0      0.0    1.0     1.0      0.0        0.0          0.0      0.0        0.0          1.0       0.0         0.0           1.0   1.0    1.0    0.0  0.0     0.0     0.0   0.0  1.0     1.0   1.0   0.0   \n",
      "m/zoolander                                0.0        0.0       0.0  0.0         0.0        0.0         0.0        1.0        0.0   0.0         0.0       0.0       0.0       0.0           0.0           0.0    0.0       0.0     0.0    1.0          0.0   0.0  0.0      0.0         0.0    0.0    1.0    1.0     1.0     0.0         0.0       0.0      0.0         0.0     0.0          0.0      0.0     0.0      0.0       1.0    1.0  0.0   1.0     0.0    1.0     0.0     0.0   0.0   0.0     0.0      0.0   0.0         0.0       0.0     0.0     0.0       0.0       0.0      0.0        0.0        0.0    1.0       0.0        0.0      0.0       0.0    1.0      0.0        0.0           0.0       0.0        1.0       0.0        0.0          0.0           0.0    1.0     0.0       0.0         0.0     0.0      0.0    1.0     1.0      0.0        0.0          0.0      0.0        0.0          0.0       0.0         0.0           0.0   1.0    1.0    0.0  0.0     0.0     0.0   0.0  0.0     0.0   0.0   0.0   \n",
      "m/zoolander_2                              0.0        0.0       1.0  0.0         0.0        0.0         0.0        1.0        1.0   0.0         0.0       0.0       1.0       0.0           0.0           0.0    0.0       0.0     0.0    0.0          0.0   0.0  0.0      0.0         0.0    1.0    0.0    0.0     0.0     1.0         0.0       0.0      0.0         0.0     0.0          0.0      0.0     0.0      1.0       1.0    1.0  1.0   1.0     0.0    1.0     0.0     0.0   0.0   0.0     0.0      0.0   0.0         0.0       0.0     0.0     0.0       0.0       0.0      0.0        0.0        0.0    0.0       0.0        0.0      0.0       0.0    1.0      0.0        0.0           0.0       0.0        1.0       1.0        0.0          0.0           0.0    0.0     0.0       0.0         0.0     0.0      0.0    1.0     1.0      0.0        0.0          0.0      0.0        0.0          1.0       0.0         0.0           0.0   1.0    1.0    0.0  0.0     0.0     0.0   0.0  0.0     0.0   0.0   0.0   \n",
      "m/zoom_2006                                1.0        0.0       1.0  0.0         0.0        0.0         0.0        0.0        0.0   0.0         0.0       0.0       0.0       0.0           0.0           0.0    0.0       0.0     1.0    0.0          0.0   0.0  0.0      0.0         0.0    0.0    1.0    0.0     0.0     0.0         0.0       1.0      1.0         1.0     0.0          0.0      0.0     0.0      1.0       0.0    0.0  0.0   0.0     0.0    0.0     0.0     0.0   0.0   0.0     0.0      0.0   0.0         0.0       0.0     0.0     0.0       0.0       0.0      0.0        0.0        0.0    0.0       0.0        0.0      0.0       0.0    0.0      1.0        0.0           0.0       0.0        0.0       0.0        0.0          0.0           0.0    0.0     0.0       0.0         0.0     0.0      0.0    1.0     0.0      0.0        1.0          0.0      0.0        0.0          0.0       0.0         0.0           0.0   1.0    1.0    0.0  1.0     0.0     0.0   0.0  1.0     1.0   1.0   0.0   \n",
      "m/zootopia                                 0.0        0.0       1.0  0.0         0.0        1.0         0.0        1.0        0.0   0.0         0.0       1.0       0.0       0.0           0.0           0.0    1.0       0.0     1.0    0.0          1.0   1.0  0.0      0.0         0.0    0.0    1.0    0.0     0.0     0.0         0.0       1.0      1.0         1.0     0.0          0.0      0.0     0.0      0.0       0.0    1.0  1.0   1.0     0.0    1.0     0.0     1.0   0.0   0.0     0.0      0.0   0.0         0.0       0.0     0.0     0.0       0.0       0.0      0.0        0.0        0.0    0.0       1.0        0.0      0.0       0.0    1.0      1.0        1.0           1.0       0.0        1.0       0.0        0.0          0.0           0.0    0.0     0.0       0.0         0.0     0.0      0.0    1.0     1.0      1.0        0.0          0.0      0.0        0.0          1.0       0.0         1.0           0.0   0.0    1.0    0.0  0.0     1.0     0.0   1.0  1.0     1.0   1.0   0.0   \n",
      "\n",
      "remove_duplicate_words                 killer  killing  knuckle  laugh  laughable  laughed  laughing  laughs  laughter  lean  lessons  life  light  likable  likeable  lively  logic  lovable  love  lovely  ludicrous  lurid  macabre  magic  magical  mayhem  menace  menacing  message  monster  moody  murder  murderous  murky  musical  mystery  nail  nasty  natured  nerve  nightmare  nightmarish  noir  observations  observed  older  ominous  paranoia  paranoid  paranormal  parents  payoff  pixar  pleasant  plot  poignant  police  popcorn  potboiler  pounding  pratfalls  preposterous  procedural  provocative  psycho  psychological  pulp  pulpy  puzzle  questions  quirky  raucous  raunchy  red  revenge  ride  risible  riveting  rom  romance  romantic  romcom  romp  saccharine  sadism  sadistic  sappy  scare  scared  scares  scarier  scariest  scary  schlock  schlocky  schmaltz  sci  science  screwball  seat  sentiment  sentimental  sentimentality  serial  shivers  shock  shocker  shocking  \\\n",
      "rotten_tomatoes_link                                                                                                                                                                                                                                                                                                                                                                                                                                                                                                                                                                                                                                                                                                                                                                                                                                                                                                                                                                                                                    \n",
      "m/0814255                                 0.0      0.0      0.0    0.0        0.0      0.0       0.0     1.0       0.0   0.0      0.0   0.0    0.0      1.0       1.0     0.0    0.0      0.0   1.0     0.0        1.0    0.0      0.0    1.0      0.0     0.0     0.0       0.0      0.0      0.0    0.0     0.0        0.0    0.0      0.0      0.0   0.0    0.0      0.0    0.0        0.0          0.0   0.0           0.0       0.0    1.0      0.0       0.0       0.0         0.0      1.0     0.0    0.0       1.0   1.0       0.0     0.0      0.0        0.0       0.0        0.0           0.0         0.0          0.0     0.0            0.0   0.0    0.0     0.0        0.0     0.0      0.0      0.0  0.0      0.0   1.0      0.0       0.0  0.0      0.0       0.0     0.0   1.0         0.0     0.0       0.0    0.0    0.0     0.0     0.0      0.0       0.0    1.0      0.0       0.0       0.0  0.0      0.0        0.0   1.0        0.0          0.0             0.0     0.0      0.0    0.0      0.0       0.0   \n",
      "m/0878835                                 0.0      0.0      0.0    1.0        0.0      0.0       1.0     1.0       1.0   0.0      0.0   1.0    1.0      1.0       1.0     1.0    1.0      0.0   1.0     1.0        0.0    0.0      0.0    0.0      0.0     0.0     0.0       0.0      0.0      0.0    0.0     0.0        0.0    0.0      0.0      0.0   0.0    0.0      0.0    0.0        0.0          0.0   0.0           1.0       1.0    0.0      0.0       0.0       0.0         0.0      0.0     1.0    0.0       0.0   1.0       1.0     0.0      0.0        0.0       0.0        0.0           0.0         0.0          0.0     0.0            0.0   0.0    0.0     0.0        0.0     0.0      0.0      0.0  0.0      0.0   0.0      0.0       0.0  0.0      1.0       1.0     0.0   0.0         0.0     0.0       0.0    0.0    0.0     0.0     0.0      0.0       0.0    0.0      0.0       0.0       0.0  0.0      0.0        0.0   0.0        0.0          0.0             0.0     0.0      0.0    0.0      0.0       0.0   \n",
      "m/10                                      0.0      0.0      0.0    0.0        0.0      0.0       0.0     1.0       0.0   0.0      0.0   0.0    0.0      0.0       0.0     0.0    0.0      0.0   0.0     0.0        0.0    0.0      0.0    0.0      0.0     0.0     0.0       0.0      0.0      0.0    0.0     0.0        0.0    0.0      0.0      0.0   0.0    0.0      0.0    0.0        0.0          0.0   0.0           0.0       0.0    0.0      0.0       0.0       0.0         0.0      0.0     0.0    0.0       0.0   0.0       0.0     0.0      0.0        0.0       0.0        0.0           0.0         0.0          0.0     0.0            0.0   0.0    0.0     0.0        0.0     0.0      0.0      0.0  0.0      0.0   0.0      0.0       0.0  0.0      0.0       1.0     0.0   0.0         0.0     0.0       0.0    0.0    0.0     0.0     0.0      0.0       0.0    0.0      0.0       0.0       0.0  0.0      0.0        0.0   0.0        0.0          0.0             0.0     0.0      0.0    0.0      0.0       0.0   \n",
      "m/1000079-20000_leagues_under_the_sea     0.0      0.0      0.0    0.0        0.0      0.0       0.0     0.0       0.0   0.0      0.0   0.0    0.0      0.0       0.0     0.0    0.0      0.0   0.0     0.0        0.0    0.0      0.0    0.0      0.0     0.0     0.0       0.0      0.0      0.0    0.0     0.0        0.0    0.0      0.0      0.0   0.0    0.0      0.0    0.0        0.0          0.0   0.0           0.0       0.0    1.0      0.0       0.0       0.0         0.0      0.0     0.0    0.0       0.0   0.0       0.0     0.0      0.0        0.0       0.0        0.0           0.0         0.0          0.0     0.0            0.0   0.0    0.0     0.0        0.0     0.0      0.0      0.0  0.0      0.0   1.0      0.0       0.0  0.0      0.0       0.0     0.0   0.0         0.0     0.0       0.0    0.0    0.0     0.0     0.0      0.0       0.0    0.0      0.0       0.0       0.0  0.0      0.0        0.0   0.0        0.0          0.0             0.0     0.0      0.0    0.0      0.0       0.0   \n",
      "m/1000121-39_steps                        0.0      0.0      0.0    0.0        0.0      0.0       0.0     0.0       0.0   0.0      0.0   0.0    1.0      0.0       0.0     0.0    0.0      0.0   1.0     0.0        0.0    0.0      0.0    0.0      0.0     0.0     0.0       0.0      0.0      0.0    0.0     0.0        0.0    0.0      0.0      1.0   0.0    0.0      0.0    0.0        0.0          0.0   0.0           0.0       0.0    0.0      0.0       0.0       0.0         0.0      0.0     0.0    0.0       0.0   0.0       0.0     0.0      0.0        0.0       0.0        0.0           0.0         0.0          0.0     0.0            0.0   0.0    0.0     0.0        0.0     0.0      0.0      0.0  0.0      0.0   0.0      0.0       0.0  0.0      1.0       1.0     0.0   0.0         0.0     0.0       0.0    0.0    0.0     0.0     0.0      0.0       0.0    0.0      0.0       0.0       0.0  0.0      0.0        0.0   0.0        0.0          0.0             0.0     0.0      0.0    0.0      0.0       0.0   \n",
      "...                                       ...      ...      ...    ...        ...      ...       ...     ...       ...   ...      ...   ...    ...      ...       ...     ...    ...      ...   ...     ...        ...    ...      ...    ...      ...     ...     ...       ...      ...      ...    ...     ...        ...    ...      ...      ...   ...    ...      ...    ...        ...          ...   ...           ...       ...    ...      ...       ...       ...         ...      ...     ...    ...       ...   ...       ...     ...      ...        ...       ...        ...           ...         ...          ...     ...            ...   ...    ...     ...        ...     ...      ...      ...  ...      ...   ...      ...       ...  ...      ...       ...     ...   ...         ...     ...       ...    ...    ...     ...     ...      ...       ...    ...      ...       ...       ...  ...      ...        ...   ...        ...          ...             ...     ...      ...    ...      ...       ...   \n",
      "m/zookeeper                               0.0      0.0      0.0    1.0        0.0      0.0       0.0     1.0       0.0   0.0      0.0   1.0    0.0      0.0       0.0     0.0    0.0      1.0   1.0     0.0        0.0    0.0      0.0    1.0      0.0     0.0     0.0       0.0      0.0      0.0    0.0     0.0        0.0    0.0      0.0      0.0   0.0    0.0      0.0    0.0        0.0          0.0   0.0           0.0       0.0    0.0      0.0       0.0       0.0         0.0      1.0     0.0    0.0       1.0   1.0       0.0     0.0      0.0        0.0       0.0        1.0           0.0         0.0          0.0     0.0            0.0   0.0    0.0     0.0        0.0     1.0      0.0      0.0  0.0      0.0   0.0      0.0       0.0  1.0      1.0       1.0     0.0   0.0         0.0     0.0       0.0    0.0    0.0     0.0     0.0      0.0       0.0    0.0      0.0       0.0       0.0  0.0      0.0        0.0   0.0        0.0          0.0             0.0     0.0      0.0    0.0      0.0       1.0   \n",
      "m/zoolander                               0.0      0.0      0.0    1.0        0.0      1.0       1.0     1.0       1.0   0.0      0.0   1.0    1.0      0.0       0.0     0.0    0.0      0.0   1.0     0.0        0.0    0.0      0.0    0.0      0.0     0.0     0.0       0.0      0.0      0.0    0.0     0.0        0.0    0.0      0.0      0.0   0.0    0.0      0.0    0.0        0.0          0.0   0.0           0.0       0.0    0.0      0.0       0.0       0.0         0.0      0.0     0.0    0.0       0.0   1.0       0.0     0.0      0.0        0.0       0.0        0.0           0.0         0.0          0.0     0.0            0.0   0.0    0.0     0.0        0.0     0.0      0.0      0.0  0.0      0.0   0.0      0.0       0.0  0.0      0.0       0.0     0.0   0.0         0.0     0.0       0.0    0.0    0.0     0.0     0.0      0.0       0.0    0.0      0.0       0.0       0.0  0.0      0.0        0.0   0.0        1.0          0.0             0.0     0.0      0.0    0.0      0.0       0.0   \n",
      "m/zoolander_2                             0.0      0.0      0.0    1.0        0.0      1.0       0.0     1.0       1.0   0.0      0.0   1.0    1.0      1.0       0.0     0.0    0.0      0.0   0.0     0.0        0.0    0.0      0.0    1.0      0.0     0.0     0.0       0.0      0.0      0.0    0.0     0.0        0.0    0.0      1.0      0.0   0.0    0.0      0.0    0.0        0.0          0.0   0.0           0.0       0.0    0.0      0.0       0.0       0.0         0.0      1.0     0.0    0.0       0.0   1.0       0.0     0.0      0.0        0.0       0.0        0.0           0.0         0.0          0.0     0.0            0.0   0.0    0.0     0.0        0.0     0.0      0.0      0.0  0.0      0.0   0.0      0.0       0.0  0.0      0.0       0.0     0.0   1.0         0.0     0.0       0.0    0.0    0.0     0.0     0.0      0.0       0.0    0.0      0.0       0.0       0.0  0.0      0.0        0.0   0.0        0.0          0.0             0.0     0.0      0.0    0.0      0.0       0.0   \n",
      "m/zoom_2006                               0.0      0.0      0.0    1.0        0.0      0.0       0.0     1.0       0.0   0.0      1.0   0.0    1.0      0.0       0.0     0.0    0.0      0.0   1.0     0.0        0.0    0.0      0.0    0.0      0.0     0.0     0.0       0.0      0.0      0.0    0.0     0.0        0.0    0.0      0.0      0.0   0.0    0.0      0.0    0.0        0.0          0.0   0.0           0.0       0.0    0.0      0.0       0.0       0.0         0.0      0.0     0.0    0.0       0.0   0.0       0.0     0.0      0.0        0.0       0.0        0.0           0.0         0.0          0.0     0.0            0.0   0.0    0.0     0.0        0.0     0.0      0.0      0.0  0.0      0.0   0.0      0.0       0.0  0.0      0.0       0.0     0.0   0.0         0.0     0.0       0.0    1.0    0.0     0.0     0.0      0.0       0.0    0.0      0.0       0.0       0.0  0.0      0.0        0.0   0.0        0.0          0.0             0.0     0.0      0.0    0.0      0.0       1.0   \n",
      "m/zootopia                                0.0      0.0      0.0    1.0        0.0      0.0       1.0     1.0       0.0   0.0      1.0   1.0    1.0      0.0       0.0     1.0    0.0      1.0   1.0     0.0        0.0    0.0      0.0    1.0      1.0     0.0     0.0       0.0      1.0      0.0    0.0     0.0        0.0    0.0      1.0      1.0   0.0    0.0      0.0    0.0        0.0          0.0   1.0           0.0       0.0    1.0      0.0       0.0       0.0         0.0      1.0     0.0    1.0       0.0   1.0       1.0     1.0      0.0        0.0       0.0        0.0           0.0         1.0          0.0     0.0            0.0   0.0    0.0     1.0        1.0     0.0      0.0      0.0  0.0      0.0   1.0      0.0       0.0  0.0      0.0       0.0     0.0   1.0         0.0     0.0       0.0    0.0    0.0     0.0     0.0      0.0       0.0    1.0      0.0       0.0       0.0  0.0      0.0        0.0   1.0        1.0          0.0             1.0     0.0      0.0    0.0      0.0       0.0   \n",
      "\n",
      "remove_duplicate_words                 shocks  shtick  sincerity  singing  sinister  sitcom  skin  slapstick  slasher  sleek  slick  slight  slow  smile  songs  sparkling  spine  spirit  spirited  splatter  spook  spooky  stars  stylish  stylishly  sugar  supernatural  suspense  suspenseful  sweet  sweetly  sweetness  taut  tears  tender  tense  tension  terrifying  terror  thrill  thriller  thrillers  thrilling  thrills  tight  timing  touching  tropes  twist  twisted  twists  twisty  unease  unfunny  unintentional  unnerving  unsettling  upbeat  uplifting  victims  villain  violence  violent  visceral  viscerally  vocal  wacky  warm  warmth  whimsical  whimsy  whodunit  winning  wisdom  wit  witty  wonderful  yarn  young  younger  youngsters  zany  zombie  \n",
      "rotten_tomatoes_link                                                                                                                                                                                                                                                                                                                                                                                                                                                                                                                                                                                                                                                                                                                                                                             \n",
      "m/0814255                                 0.0     0.0        0.0      0.0       0.0     0.0   0.0        0.0      0.0    0.0    0.0     0.0   1.0    0.0    0.0        0.0    0.0     1.0       0.0       0.0    0.0     0.0    1.0      0.0        0.0    0.0           0.0       0.0          1.0    0.0      0.0        0.0   1.0    0.0     0.0    0.0      0.0         0.0     0.0     1.0       0.0        0.0        0.0      1.0    0.0     0.0       0.0     1.0    0.0      0.0     0.0     0.0     0.0      0.0            0.0        0.0         0.0     0.0        0.0      0.0      0.0       0.0      0.0       0.0         0.0    0.0    0.0   0.0     0.0        0.0     1.0       0.0      1.0     0.0  1.0    1.0        0.0   0.0    1.0      1.0         1.0   0.0     0.0  \n",
      "m/0878835                                 0.0     0.0        0.0      0.0       0.0     0.0   0.0        0.0      0.0    0.0    0.0     0.0   0.0    0.0    0.0        0.0    0.0     1.0       0.0       0.0    0.0     0.0    0.0      0.0        0.0    0.0           0.0       0.0          0.0    0.0      0.0        0.0   0.0    0.0     1.0    0.0      0.0         0.0     0.0     0.0       0.0        0.0        0.0      0.0    0.0     0.0       1.0     0.0    0.0      0.0     0.0     0.0     0.0      0.0            0.0        0.0         0.0     0.0        0.0      0.0      0.0       0.0      0.0       0.0         0.0    0.0    0.0   1.0     1.0        0.0     1.0       0.0      0.0     0.0  1.0    1.0        1.0   0.0    0.0      0.0         0.0   0.0     0.0  \n",
      "m/10                                      0.0     0.0        0.0      0.0       0.0     0.0   0.0        0.0      0.0    0.0    0.0     0.0   0.0    0.0    0.0        0.0    0.0     0.0       0.0       0.0    0.0     0.0    0.0      0.0        0.0    0.0           0.0       0.0          0.0    0.0      0.0        0.0   0.0    0.0     0.0    0.0      0.0         0.0     0.0     0.0       0.0        0.0        0.0      0.0    0.0     0.0       0.0     0.0    0.0      0.0     0.0     0.0     0.0      0.0            0.0        0.0         0.0     0.0        0.0      0.0      0.0       0.0      0.0       0.0         0.0    0.0    0.0   0.0     0.0        0.0     0.0       0.0      0.0     0.0  0.0    0.0        0.0   0.0    0.0      0.0         0.0   0.0     0.0  \n",
      "m/1000079-20000_leagues_under_the_sea     0.0     0.0        0.0      0.0       0.0     0.0   0.0        0.0      0.0    0.0    0.0     0.0   0.0    0.0    0.0        0.0    0.0     0.0       0.0       0.0    0.0     0.0    0.0      0.0        0.0    0.0           0.0       0.0          0.0    0.0      0.0        0.0   0.0    0.0     0.0    0.0      0.0         0.0     0.0     1.0       0.0        0.0        0.0      0.0    0.0     0.0       0.0     0.0    0.0      0.0     0.0     0.0     0.0      0.0            0.0        0.0         0.0     0.0        0.0      0.0      0.0       1.0      0.0       0.0         0.0    0.0    0.0   0.0     0.0        0.0     0.0       0.0      0.0     0.0  0.0    0.0        0.0   0.0    0.0      0.0         0.0   0.0     0.0  \n",
      "m/1000121-39_steps                        0.0     0.0        0.0      0.0       0.0     0.0   0.0        0.0      0.0    0.0    0.0     0.0   0.0    0.0    0.0        0.0    0.0     0.0       0.0       0.0    0.0     0.0    0.0      0.0        0.0    0.0           0.0       1.0          0.0    0.0      0.0        0.0   0.0    0.0     0.0    0.0      0.0         0.0     0.0     0.0       1.0        1.0        0.0      0.0    0.0     1.0       0.0     0.0    0.0      0.0     1.0     0.0     0.0      0.0            0.0        0.0         0.0     0.0        0.0      0.0      0.0       0.0      0.0       0.0         0.0    0.0    0.0   0.0     0.0        0.0     0.0       0.0      0.0     0.0  1.0    0.0        1.0   0.0    0.0      0.0         0.0   0.0     0.0  \n",
      "...                                       ...     ...        ...      ...       ...     ...   ...        ...      ...    ...    ...     ...   ...    ...    ...        ...    ...     ...       ...       ...    ...     ...    ...      ...        ...    ...           ...       ...          ...    ...      ...        ...   ...    ...     ...    ...      ...         ...     ...     ...       ...        ...        ...      ...    ...     ...       ...     ...    ...      ...     ...     ...     ...      ...            ...        ...         ...     ...        ...      ...      ...       ...      ...       ...         ...    ...    ...   ...     ...        ...     ...       ...      ...     ...  ...    ...        ...   ...    ...      ...         ...   ...     ...  \n",
      "m/zookeeper                               0.0     1.0        1.0      0.0       0.0     0.0   0.0        1.0      0.0    0.0    0.0     0.0   0.0    0.0    1.0        0.0    0.0     0.0       0.0       0.0    0.0     0.0    1.0      0.0        0.0    0.0           0.0       0.0          0.0    1.0      0.0        0.0   0.0    0.0     0.0    0.0      0.0         0.0     0.0     0.0       0.0        0.0        0.0      0.0    0.0     0.0       0.0     0.0    0.0      0.0     0.0     0.0     0.0      1.0            0.0        0.0         0.0     0.0        0.0      0.0      0.0       0.0      0.0       0.0         0.0    1.0    1.0   0.0     1.0        0.0     0.0       0.0      1.0     0.0  0.0    0.0        0.0   0.0    1.0      0.0         0.0   0.0     0.0  \n",
      "m/zoolander                               0.0     0.0        0.0      0.0       0.0     0.0   0.0        1.0      0.0    0.0    0.0     1.0   0.0    1.0    0.0        0.0    0.0     1.0       1.0       0.0    0.0     0.0    0.0      0.0        0.0    0.0           0.0       0.0          0.0    0.0      0.0        0.0   0.0    0.0     0.0    0.0      0.0         0.0     0.0     0.0       0.0        0.0        0.0      0.0    0.0     0.0       0.0     0.0    0.0      0.0     0.0     0.0     0.0      1.0            0.0        0.0         0.0     0.0        0.0      0.0      0.0       0.0      0.0       0.0         0.0    0.0    0.0   0.0     0.0        0.0     0.0       0.0      0.0     0.0  1.0    0.0        0.0   0.0    0.0      0.0         0.0   0.0     0.0  \n",
      "m/zoolander_2                             0.0     0.0        0.0      0.0       0.0     0.0   0.0        1.0      0.0    0.0    0.0     0.0   0.0    0.0    1.0        0.0    0.0     1.0       0.0       0.0    0.0     0.0    1.0      0.0        0.0    0.0           0.0       1.0          0.0    1.0      0.0        0.0   0.0    0.0     0.0    0.0      0.0         0.0     0.0     0.0       1.0        0.0        0.0      0.0    0.0     0.0       0.0     0.0    0.0      1.0     0.0     0.0     0.0      1.0            1.0        0.0         0.0     0.0        0.0      0.0      0.0       1.0      0.0       0.0         0.0    0.0    1.0   0.0     1.0        0.0     0.0       0.0      0.0     0.0  1.0    1.0        1.0   0.0    0.0      0.0         0.0   0.0     0.0  \n",
      "m/zoom_2006                               0.0     0.0        0.0      0.0       0.0     0.0   0.0        1.0      0.0    0.0    0.0     0.0   0.0    0.0    1.0        0.0    0.0     0.0       0.0       0.0    0.0     0.0    1.0      0.0        0.0    0.0           0.0       0.0          0.0    0.0      0.0        1.0   0.0    0.0     0.0    0.0      0.0         0.0     0.0     0.0       0.0        0.0        0.0      0.0    0.0     0.0       0.0     0.0    0.0      0.0     0.0     0.0     0.0      1.0            0.0        0.0         0.0     0.0        0.0      0.0      0.0       0.0      0.0       0.0         0.0    0.0    0.0   0.0     0.0        0.0     0.0       0.0      0.0     0.0  1.0    0.0        0.0   0.0    1.0      0.0         0.0   0.0     0.0  \n",
      "m/zootopia                                0.0     0.0        0.0      1.0       0.0     0.0   0.0        1.0      0.0    0.0    1.0     0.0   1.0    0.0    1.0        0.0    0.0     1.0       0.0       0.0    0.0     0.0    0.0      0.0        0.0    1.0           0.0       1.0          1.0    1.0      0.0        0.0   0.0    0.0     0.0    0.0      0.0         0.0     0.0     0.0       1.0        0.0        0.0      1.0    0.0     0.0       1.0     1.0    1.0      0.0     1.0     0.0     0.0      0.0            0.0        0.0         0.0     1.0        0.0      0.0      0.0       1.0      0.0       0.0         0.0    0.0    0.0   1.0     0.0        1.0     0.0       1.0      1.0     0.0  1.0    1.0        1.0   0.0    1.0      1.0         0.0   0.0     0.0  \n",
      "\n",
      "[5895 rows x 400 columns]\n"
     ]
    }
   ],
   "source": [
    "hor_fam_four = horror_family1.copy()\n",
    "hor_fam_four = hor_fam_four[hor_fam_four['remove_duplicate_words'].isin(four_list)]\n",
    "hor_fam_four= hor_fam_four.pivot_table(values='remove_duplicate_words', index=['rotten_tomatoes_link'], columns='remove_duplicate_words', aggfunc='count')\n",
    "#print(hor_fam_four)\n",
    "hor_fam_four = hor_fam_four.replace(np.nan, 0)\n",
    "print(hor_fam_four)"
   ]
  },
  {
   "cell_type": "code",
   "execution_count": 856,
   "id": "a66457db",
   "metadata": {},
   "outputs": [],
   "source": [
    "hor_fam_four= hor_fam_four.reset_index()"
   ]
  },
  {
   "cell_type": "code",
   "execution_count": 857,
   "id": "e28792e5",
   "metadata": {},
   "outputs": [
    {
     "name": "stdout",
     "output_type": "stream",
     "text": [
      "remove_duplicate_words                   rotten_tomatoes_link  absorbing  action  actioner  adorable  adrenaline  adult  adults  affable  affection  affirming  age  ages  agreeable  aimed  alfred  ambiguity  amiable  amusing  animated  animation  antics  apocalyptic  appeal  appealing  atmosphere  atmospheric  atmospherics    b  bang  biter  bittersweet  blood  bloodbath  bloodshed  bloody  bourne  breezy  bright  broad  brooding  brutal  brutality  budget  build  building  builds  burn  camp  campy  carnage  cartoon  charm  charmer  charming  charms  chemistry  chick  children  children's  chiller  chilling  chillingly  chills  chuckle  chuckles  claustrophobic  climax  cloying  cold  com  comedian  comedic  comedies  comedy  comic  compelling  conspiracy  convoluted  crass  creep  creepiness  creepy  crime  crude  cult  cute  cuteness  cutesy  dancing  dark  deaths  delight  delightful  demon  demonic  detective  disney  disney's  disturbing  dramedy  dread  editing  eerie  \\\n",
      "0                                                   m/0814255        0.0     1.0       0.0       0.0         0.0    1.0     1.0      0.0        1.0        0.0  1.0   0.0        1.0    1.0     0.0        0.0      0.0      1.0       0.0        0.0     0.0          0.0     1.0        0.0         0.0          0.0           0.0  0.0   0.0    0.0          0.0    0.0        0.0        0.0     0.0     0.0     0.0     1.0    0.0       0.0     0.0        0.0     1.0    0.0       0.0     1.0   0.0   1.0    0.0      0.0      0.0    1.0      0.0       0.0     0.0        0.0    0.0       1.0         0.0      0.0       0.0         0.0     0.0      0.0       0.0             0.0     0.0      0.0   0.0  0.0       0.0      0.0       0.0     0.0    0.0         1.0         0.0         0.0    1.0    0.0         0.0     0.0    0.0    0.0   0.0   0.0       0.0     0.0      0.0   1.0     0.0      0.0         0.0    0.0      0.0        0.0     1.0       0.0         0.0      0.0    0.0      0.0    0.0   \n",
      "1                                                   m/0878835        1.0     0.0       0.0       0.0         0.0    1.0     1.0      0.0        0.0        0.0  1.0   0.0        0.0    0.0     0.0        0.0      0.0      1.0       0.0        0.0     0.0          0.0     0.0        0.0         0.0          0.0           0.0  0.0   0.0    0.0          0.0    0.0        0.0        0.0     0.0     0.0     1.0     0.0    0.0       0.0     0.0        0.0     0.0    0.0       0.0     0.0   0.0   0.0    0.0      0.0      1.0    1.0      0.0       1.0     0.0        0.0    1.0       0.0         0.0      0.0       0.0         0.0     0.0      0.0       0.0             0.0     0.0      1.0   0.0  0.0       0.0      0.0       0.0     1.0    1.0         0.0         0.0         0.0    0.0    0.0         0.0     0.0    0.0    0.0   0.0   0.0       0.0     0.0      0.0   1.0     0.0      0.0         0.0    0.0      0.0        0.0     0.0       0.0         0.0      1.0    1.0      0.0    0.0   \n",
      "2                                                        m/10        0.0     0.0       0.0       0.0         0.0    0.0     1.0      0.0        0.0        0.0  0.0   0.0        0.0    0.0     0.0        0.0      0.0      0.0       0.0        0.0     0.0          0.0     0.0        0.0         0.0          0.0           0.0  0.0   0.0    0.0          1.0    0.0        0.0        0.0     0.0     0.0     0.0     0.0    0.0       0.0     0.0        0.0     0.0    0.0       0.0     0.0   0.0   0.0    0.0      0.0      0.0    0.0      0.0       1.0     0.0        0.0    0.0       0.0         0.0      0.0       0.0         0.0     0.0      0.0       0.0             0.0     0.0      0.0   0.0  0.0       0.0      0.0       1.0     1.0    0.0         0.0         0.0         0.0    0.0    0.0         0.0     0.0    0.0    0.0   0.0   0.0       0.0     0.0      0.0   0.0     0.0      0.0         0.0    0.0      0.0        0.0     0.0       0.0         0.0      0.0    0.0      0.0    0.0   \n",
      "3                       m/1000079-20000_leagues_under_the_sea        0.0     1.0       0.0       0.0         0.0    0.0     0.0      0.0        0.0        0.0  0.0   0.0        0.0    0.0     0.0        0.0      0.0      0.0       0.0        0.0     0.0          0.0     0.0        0.0         0.0          0.0           0.0  0.0   0.0    0.0          0.0    0.0        0.0        0.0     0.0     0.0     0.0     0.0    0.0       0.0     0.0        0.0     0.0    0.0       0.0     0.0   0.0   0.0    0.0      0.0      0.0    0.0      0.0       0.0     0.0        0.0    0.0       0.0         0.0      0.0       0.0         0.0     0.0      0.0       0.0             0.0     0.0      0.0   0.0  0.0       0.0      0.0       0.0     0.0    0.0         0.0         0.0         0.0    0.0    0.0         0.0     0.0    0.0    0.0   0.0   0.0       0.0     0.0      0.0   0.0     0.0      0.0         0.0    0.0      0.0        0.0     1.0       1.0         0.0      0.0    0.0      0.0    0.0   \n",
      "4                                          m/1000121-39_steps        0.0     0.0       0.0       0.0         0.0    0.0     0.0      0.0        0.0        0.0  0.0   0.0        0.0    0.0     1.0        0.0      0.0      0.0       0.0        0.0     0.0          0.0     0.0        0.0         1.0          0.0           0.0  0.0   0.0    0.0          0.0    0.0        0.0        0.0     0.0     0.0     0.0     0.0    0.0       0.0     0.0        0.0     0.0    0.0       0.0     0.0   1.0   0.0    0.0      0.0      0.0    0.0      0.0       0.0     0.0        1.0    0.0       0.0         0.0      0.0       0.0         0.0     0.0      0.0       0.0             0.0     0.0      0.0   0.0  0.0       0.0      1.0       0.0     1.0    1.0         0.0         0.0         0.0    0.0    0.0         0.0     0.0    0.0    0.0   0.0   0.0       0.0     0.0      0.0   0.0     0.0      0.0         0.0    0.0      0.0        1.0     0.0       0.0         0.0      0.0    0.0      0.0    0.0   \n",
      "...                                                       ...        ...     ...       ...       ...         ...    ...     ...      ...        ...        ...  ...   ...        ...    ...     ...        ...      ...      ...       ...        ...     ...          ...     ...        ...         ...          ...           ...  ...   ...    ...          ...    ...        ...        ...     ...     ...     ...     ...    ...       ...     ...        ...     ...    ...       ...     ...   ...   ...    ...      ...      ...    ...      ...       ...     ...        ...    ...       ...         ...      ...       ...         ...     ...      ...       ...             ...     ...      ...   ...  ...       ...      ...       ...     ...    ...         ...         ...         ...    ...    ...         ...     ...    ...    ...   ...   ...       ...     ...      ...   ...     ...      ...         ...    ...      ...        ...     ...       ...         ...      ...    ...      ...    ...   \n",
      "5890                                              m/zookeeper        0.0     0.0       0.0       0.0         0.0    1.0     1.0      0.0        0.0        0.0  0.0   0.0        0.0    1.0     0.0        0.0      1.0      1.0       0.0        0.0     1.0          0.0     1.0        1.0         0.0          0.0           0.0  1.0   0.0    0.0          0.0    0.0        0.0        0.0     0.0     0.0     0.0     0.0    0.0       0.0     0.0        0.0     0.0    0.0       0.0     0.0   0.0   0.0    0.0      0.0      0.0    1.0      0.0       1.0     0.0        0.0    0.0       1.0         1.0      0.0       0.0         0.0     0.0      1.0       0.0             0.0     0.0      0.0   0.0  1.0       0.0      1.0       1.0     1.0    0.0         0.0         0.0         0.0    0.0    0.0         0.0     0.0    0.0    0.0   0.0   0.0       0.0     0.0      0.0   0.0     0.0      0.0         0.0    0.0      0.0        0.0     0.0       0.0         0.0      0.0    0.0      0.0    0.0   \n",
      "5891                                              m/zoolander        0.0     0.0       0.0       0.0         0.0    0.0     0.0      0.0        1.0        0.0  0.0   0.0        0.0    0.0     0.0        0.0      0.0      1.0       0.0        0.0     0.0          0.0     0.0        0.0         0.0          0.0           0.0  0.0   0.0    0.0          0.0    0.0        0.0        0.0     0.0     0.0     0.0     0.0    0.0       0.0     0.0        0.0     0.0    0.0       0.0     0.0   0.0   0.0    0.0      0.0      1.0    1.0      0.0       1.0     0.0        0.0    0.0       0.0         0.0      0.0       0.0         0.0     0.0      0.0       1.0             0.0     0.0      0.0   0.0  0.0       0.0      0.0       1.0     1.0    1.0         0.0         1.0         0.0    0.0    0.0         0.0     0.0    0.0    0.0   0.0   0.0       0.0     0.0      0.0   0.0     0.0      0.0         0.0    0.0      0.0        0.0     0.0       0.0         0.0      0.0    0.0      0.0    0.0   \n",
      "5892                                            m/zoolander_2        0.0     1.0       0.0       0.0         0.0    0.0     0.0      0.0        0.0        0.0  0.0   0.0        1.0    0.0     0.0        0.0      0.0      1.0       0.0        1.0     0.0          0.0     0.0        0.0         0.0          0.0           0.0  0.0   0.0    0.0          0.0    0.0        0.0        0.0     0.0     0.0     0.0     0.0    0.0       0.0     0.0        0.0     0.0    0.0       0.0     0.0   0.0   0.0    0.0      0.0      0.0    1.0      0.0       0.0     1.0        0.0    0.0       0.0         0.0      0.0       0.0         0.0     0.0      0.0       1.0             0.0     0.0      0.0   0.0  0.0       1.0      0.0       1.0     1.0    1.0         0.0         0.0         0.0    0.0    0.0         0.0     0.0    0.0    0.0   1.0   0.0       0.0     0.0      0.0   0.0     0.0      0.0         0.0    0.0      0.0        0.0     0.0       0.0         0.0      0.0    0.0      1.0    0.0   \n",
      "5893                                              m/zoom_2006        0.0     1.0       0.0       0.0         0.0    0.0     0.0      1.0        0.0        0.0  1.0   0.0        0.0    1.0     0.0        0.0      0.0      0.0       0.0        0.0     0.0          0.0     1.0        1.0         0.0          0.0           0.0  0.0   0.0    0.0          0.0    0.0        0.0        0.0     0.0     0.0     0.0     0.0    0.0       0.0     0.0        0.0     0.0    0.0       0.0     0.0   0.0   0.0    0.0      0.0      0.0    1.0      0.0       1.0     0.0        1.0    0.0       1.0         0.0      0.0       0.0         0.0     0.0      0.0       0.0             0.0     0.0      0.0   0.0  0.0       0.0      0.0       0.0     1.0    1.0         0.0         0.0         0.0    0.0    0.0         0.0     0.0    0.0    0.0   0.0   1.0       0.0     0.0      0.0   0.0     0.0      0.0         0.0    0.0      0.0        0.0     1.0       0.0         0.0      0.0    0.0      0.0    0.0   \n",
      "5894                                               m/zootopia        0.0     1.0       0.0       1.0         0.0    1.0     1.0      0.0        0.0        0.0  1.0   1.0        1.0    0.0     0.0        0.0      0.0      1.0       1.0        1.0     1.0          0.0     1.0        0.0         0.0          1.0           0.0  0.0   0.0    0.0          0.0    0.0        0.0        0.0     0.0     0.0     1.0     1.0    0.0       0.0     0.0        0.0     1.0    0.0       1.0     0.0   1.0   0.0    0.0      0.0      1.0    1.0      0.0       1.0     0.0        0.0    0.0       1.0         1.0      0.0       0.0         1.0     0.0      0.0       0.0             0.0     0.0      0.0   0.0  0.0       0.0      0.0       0.0     1.0    1.0         1.0         1.0         0.0    0.0    0.0         0.0     0.0    1.0    0.0   0.0   1.0       0.0     0.0      0.0   1.0     0.0      1.0         1.0    0.0      0.0        1.0     1.0       1.0         0.0      0.0    0.0      0.0    0.0   \n",
      "\n",
      "remove_duplicate_words  effective  effectively  effects  efficient  elements   em  enchanting  endearing  engrossing  enjoyable  espionage  evil  excitement  exciting  exercise  exorcist  exploitation  exploitative  fairy  families  family  farce  fascinating  fear   fi  fiction  filmmaking  final  flick  fluff  fluffy  forced  foreboding  friendly  friends  friendship  fright  frightening  frights  frothy  funnier  funniest  funny  gag  gags  genial  genre  gentle  gently  gore  gory  gothic  graphic  grim  grindhouse  gripping  grisly  gritty  gruesome  guessing  guignol  halloween  happiness  happy  harmless  harrowing  haunted  haunting  heart  hearted  heartfelt  heartwarming  herrings  hilarious  hilarity  hitchcock  hitchcock's  hitchcockian  holes  honest  horrific  horrifying  horror  horrors  humor  humour  imagery  innocuous  inoffensive  intense  intensity  interesting  intrigue  intriguing  irresistible  joke  jokes  jolts  joy  joyful  joyous  jump  kid  kiddie  kids  \\\n",
      "0                             0.0          0.0      1.0        0.0       0.0  0.0         0.0        0.0         0.0        1.0        0.0   0.0         0.0       1.0       0.0       0.0           0.0           0.0    0.0       0.0     1.0    0.0          0.0   0.0  0.0      0.0         1.0    0.0    1.0    0.0     0.0     0.0         0.0       1.0      0.0         1.0     0.0          0.0      0.0     0.0      0.0       0.0    0.0  0.0   0.0     1.0    1.0     0.0     0.0   0.0   0.0     0.0      0.0   0.0         0.0       0.0     0.0     0.0       0.0       0.0      0.0        0.0        0.0    1.0       0.0        0.0      0.0       0.0    1.0      0.0        0.0           0.0       0.0        0.0       0.0        0.0          0.0           0.0    1.0     1.0       0.0         0.0     0.0      0.0    1.0     1.0      0.0        1.0          1.0      0.0        0.0          1.0       0.0         0.0           0.0   0.0    1.0    0.0  0.0     1.0     0.0   0.0  1.0     0.0   1.0   \n",
      "1                             0.0          0.0      0.0        0.0       0.0  0.0         0.0        0.0         0.0        1.0        0.0   0.0         0.0       0.0       0.0       0.0           0.0           0.0    0.0       0.0     1.0    0.0          1.0   0.0  0.0      0.0         0.0    0.0    1.0    0.0     0.0     1.0         0.0       0.0      1.0         0.0     0.0          0.0      0.0     0.0      0.0       0.0    1.0  0.0   0.0     0.0    1.0     0.0     0.0   0.0   0.0     0.0      0.0   0.0         0.0       1.0     0.0     0.0       0.0       0.0      0.0        0.0        0.0    0.0       1.0        0.0      0.0       1.0    0.0      1.0        0.0           1.0       0.0        0.0       0.0        0.0          0.0           0.0    0.0     1.0       0.0         0.0     0.0      0.0    1.0     1.0      0.0        0.0          0.0      0.0        0.0          1.0       0.0         0.0           0.0   0.0    0.0    0.0  1.0     0.0     0.0   0.0  0.0     0.0   0.0   \n",
      "2                             0.0          0.0      0.0        0.0       0.0  0.0         0.0        0.0         0.0        0.0        0.0   0.0         0.0       0.0       0.0       0.0           0.0           0.0    0.0       0.0     0.0    0.0          1.0   0.0  0.0      0.0         0.0    0.0    0.0    0.0     0.0     0.0         0.0       0.0      0.0         0.0     0.0          0.0      0.0     0.0      0.0       0.0    1.0  0.0   1.0     0.0    0.0     0.0     0.0   0.0   0.0     0.0      0.0   0.0         0.0       0.0     0.0     0.0       0.0       0.0      0.0        0.0        0.0    0.0       0.0        0.0      0.0       0.0    0.0      0.0        0.0           0.0       0.0        1.0       0.0        0.0          0.0           0.0    0.0     0.0       0.0         0.0     0.0      0.0    0.0     0.0      0.0        0.0          0.0      0.0        0.0          1.0       0.0         0.0           0.0   0.0    0.0    0.0  0.0     0.0     0.0   0.0  0.0     0.0   0.0   \n",
      "3                             0.0          0.0      1.0        0.0       0.0  0.0         0.0        0.0         0.0        0.0        0.0   0.0         1.0       1.0       0.0       0.0           0.0           0.0    0.0       0.0     1.0    0.0          0.0   0.0  0.0      0.0         0.0    0.0    1.0    0.0     0.0     0.0         0.0       0.0      0.0         0.0     0.0          0.0      0.0     0.0      0.0       0.0    0.0  0.0   0.0     0.0    1.0     0.0     0.0   0.0   0.0     0.0      0.0   0.0         0.0       0.0     0.0     0.0       0.0       0.0      0.0        0.0        0.0    0.0       0.0        0.0      0.0       0.0    0.0      0.0        0.0           0.0       0.0        0.0       0.0        0.0          0.0           0.0    0.0     0.0       0.0         0.0     0.0      0.0    0.0     0.0      0.0        0.0          0.0      0.0        0.0          0.0       0.0         0.0           0.0   0.0    0.0    0.0  0.0     0.0     0.0   0.0  0.0     0.0   1.0   \n",
      "4                             0.0          0.0      0.0        0.0       0.0  0.0         0.0        0.0         0.0        1.0        1.0   0.0         0.0       1.0       0.0       0.0           0.0           0.0    0.0       0.0     0.0    0.0          0.0   0.0  0.0      0.0         1.0    1.0    0.0    0.0     0.0     1.0         0.0       0.0      0.0         0.0     0.0          0.0      0.0     0.0      0.0       0.0    0.0  0.0   0.0     0.0    0.0     0.0     0.0   0.0   0.0     0.0      0.0   0.0         0.0       1.0     0.0     0.0       0.0       0.0      0.0        0.0        0.0    0.0       0.0        1.0      0.0       0.0    0.0      0.0        0.0           0.0       0.0        0.0       0.0        1.0          1.0           0.0    0.0     0.0       0.0         0.0     0.0      0.0    1.0     0.0      0.0        0.0          0.0      0.0        0.0          0.0       0.0         0.0           0.0   0.0    0.0    0.0  0.0     0.0     0.0   0.0  0.0     0.0   0.0   \n",
      "...                           ...          ...      ...        ...       ...  ...         ...        ...         ...        ...        ...   ...         ...       ...       ...       ...           ...           ...    ...       ...     ...    ...          ...   ...  ...      ...         ...    ...    ...    ...     ...     ...         ...       ...      ...         ...     ...          ...      ...     ...      ...       ...    ...  ...   ...     ...    ...     ...     ...   ...   ...     ...      ...   ...         ...       ...     ...     ...       ...       ...      ...        ...        ...    ...       ...        ...      ...       ...    ...      ...        ...           ...       ...        ...       ...        ...          ...           ...    ...     ...       ...         ...     ...      ...    ...     ...      ...        ...          ...      ...        ...          ...       ...         ...           ...   ...    ...    ...  ...     ...     ...   ...  ...     ...   ...   \n",
      "5890                          0.0          0.0      1.0        0.0       1.0  0.0         0.0        1.0         0.0        0.0        0.0   0.0         0.0       0.0       0.0       0.0           0.0           0.0    0.0       1.0     1.0    0.0          0.0   0.0  0.0      0.0         0.0    0.0    1.0    0.0     1.0     0.0         0.0       1.0      0.0         0.0     0.0          0.0      0.0     0.0      0.0       1.0    1.0  0.0   1.0     0.0    1.0     0.0     0.0   0.0   0.0     0.0      0.0   0.0         0.0       0.0     0.0     0.0       0.0       1.0      0.0        0.0        0.0    1.0       1.0        0.0      0.0       0.0    1.0      0.0        0.0           0.0       0.0        0.0       0.0        0.0          0.0           0.0    0.0     0.0       0.0         0.0     0.0      0.0    1.0     1.0      0.0        0.0          0.0      0.0        0.0          1.0       0.0         0.0           1.0   1.0    1.0    0.0  0.0     0.0     0.0   0.0  1.0     1.0   1.0   \n",
      "5891                          0.0          0.0      0.0        0.0       0.0  0.0         0.0        0.0         0.0        1.0        0.0   0.0         0.0       0.0       0.0       0.0           0.0           0.0    0.0       0.0     0.0    1.0          0.0   0.0  0.0      0.0         0.0    0.0    1.0    1.0     1.0     0.0         0.0       0.0      0.0         0.0     0.0          0.0      0.0     0.0      0.0       1.0    1.0  0.0   1.0     0.0    1.0     0.0     0.0   0.0   0.0     0.0      0.0   0.0         0.0       0.0     0.0     0.0       0.0       0.0      0.0        0.0        0.0    1.0       0.0        0.0      0.0       0.0    1.0      0.0        0.0           0.0       0.0        1.0       0.0        0.0          0.0           0.0    1.0     0.0       0.0         0.0     0.0      0.0    1.0     1.0      0.0        0.0          0.0      0.0        0.0          0.0       0.0         0.0           0.0   1.0    1.0    0.0  0.0     0.0     0.0   0.0  0.0     0.0   0.0   \n",
      "5892                          1.0          0.0      0.0        0.0       1.0  0.0         0.0        0.0         0.0        1.0        1.0   0.0         0.0       0.0       1.0       0.0           0.0           0.0    0.0       0.0     0.0    0.0          0.0   0.0  0.0      0.0         0.0    1.0    0.0    0.0     0.0     1.0         0.0       0.0      0.0         0.0     0.0          0.0      0.0     0.0      1.0       1.0    1.0  1.0   1.0     0.0    1.0     0.0     0.0   0.0   0.0     0.0      0.0   0.0         0.0       0.0     0.0     0.0       0.0       0.0      0.0        0.0        0.0    0.0       0.0        0.0      0.0       0.0    1.0      0.0        0.0           0.0       0.0        1.0       1.0        0.0          0.0           0.0    0.0     0.0       0.0         0.0     0.0      0.0    1.0     1.0      0.0        0.0          0.0      0.0        0.0          1.0       0.0         0.0           0.0   1.0    1.0    0.0  0.0     0.0     0.0   0.0  0.0     0.0   0.0   \n",
      "5893                          0.0          0.0      1.0        0.0       1.0  0.0         0.0        0.0         0.0        0.0        0.0   0.0         0.0       0.0       0.0       0.0           0.0           0.0    0.0       0.0     1.0    0.0          0.0   0.0  0.0      0.0         0.0    0.0    1.0    0.0     0.0     0.0         0.0       1.0      1.0         1.0     0.0          0.0      0.0     0.0      1.0       0.0    0.0  0.0   0.0     0.0    0.0     0.0     0.0   0.0   0.0     0.0      0.0   0.0         0.0       0.0     0.0     0.0       0.0       0.0      0.0        0.0        0.0    0.0       0.0        0.0      0.0       0.0    0.0      1.0        0.0           0.0       0.0        0.0       0.0        0.0          0.0           0.0    0.0     0.0       0.0         0.0     0.0      0.0    1.0     0.0      0.0        1.0          0.0      0.0        0.0          0.0       0.0         0.0           0.0   1.0    1.0    0.0  1.0     0.0     0.0   0.0  1.0     1.0   1.0   \n",
      "5894                          1.0          1.0      0.0        0.0       1.0  0.0         0.0        1.0         0.0        1.0        0.0   0.0         0.0       1.0       0.0       0.0           0.0           0.0    1.0       0.0     1.0    0.0          1.0   1.0  0.0      0.0         0.0    0.0    1.0    0.0     0.0     0.0         0.0       1.0      1.0         1.0     0.0          0.0      0.0     0.0      0.0       0.0    1.0  1.0   1.0     0.0    1.0     0.0     1.0   0.0   0.0     0.0      0.0   0.0         0.0       0.0     0.0     0.0       0.0       0.0      0.0        0.0        0.0    0.0       1.0        0.0      0.0       0.0    1.0      1.0        1.0           1.0       0.0        1.0       0.0        0.0          0.0           0.0    0.0     0.0       0.0         0.0     0.0      0.0    1.0     1.0      1.0        0.0          0.0      0.0        0.0          1.0       0.0         1.0           0.0   0.0    1.0    0.0  0.0     1.0     0.0   1.0  1.0     1.0   1.0   \n",
      "\n",
      "remove_duplicate_words  kill  killer  killing  knuckle  laugh  laughable  laughed  laughing  laughs  laughter  lean  lessons  life  light  likable  likeable  lively  logic  lovable  love  lovely  ludicrous  lurid  macabre  magic  magical  mayhem  menace  menacing  message  monster  moody  murder  murderous  murky  musical  mystery  nail  nasty  natured  nerve  nightmare  nightmarish  noir  observations  observed  older  ominous  paranoia  paranoid  paranormal  parents  payoff  pixar  pleasant  plot  poignant  police  popcorn  potboiler  pounding  pratfalls  preposterous  procedural  provocative  psycho  psychological  pulp  pulpy  puzzle  questions  quirky  raucous  raunchy  red  revenge  ride  risible  riveting  rom  romance  romantic  romcom  romp  saccharine  sadism  sadistic  sappy  scare  scared  scares  scarier  scariest  scary  schlock  schlocky  schmaltz  sci  science  screwball  seat  sentiment  sentimental  sentimentality  serial  shivers  shock  shocker  shocking  shocks  \\\n",
      "0                        0.0     0.0      0.0      0.0    0.0        0.0      0.0       0.0     1.0       0.0   0.0      0.0   0.0    0.0      1.0       1.0     0.0    0.0      0.0   1.0     0.0        1.0    0.0      0.0    1.0      0.0     0.0     0.0       0.0      0.0      0.0    0.0     0.0        0.0    0.0      0.0      0.0   0.0    0.0      0.0    0.0        0.0          0.0   0.0           0.0       0.0    1.0      0.0       0.0       0.0         0.0      1.0     0.0    0.0       1.0   1.0       0.0     0.0      0.0        0.0       0.0        0.0           0.0         0.0          0.0     0.0            0.0   0.0    0.0     0.0        0.0     0.0      0.0      0.0  0.0      0.0   1.0      0.0       0.0  0.0      0.0       0.0     0.0   1.0         0.0     0.0       0.0    0.0    0.0     0.0     0.0      0.0       0.0    1.0      0.0       0.0       0.0  0.0      0.0        0.0   1.0        0.0          0.0             0.0     0.0      0.0    0.0      0.0       0.0     0.0   \n",
      "1                        0.0     0.0      0.0      0.0    1.0        0.0      0.0       1.0     1.0       1.0   0.0      0.0   1.0    1.0      1.0       1.0     1.0    1.0      0.0   1.0     1.0        0.0    0.0      0.0    0.0      0.0     0.0     0.0       0.0      0.0      0.0    0.0     0.0        0.0    0.0      0.0      0.0   0.0    0.0      0.0    0.0        0.0          0.0   0.0           1.0       1.0    0.0      0.0       0.0       0.0         0.0      0.0     1.0    0.0       0.0   1.0       1.0     0.0      0.0        0.0       0.0        0.0           0.0         0.0          0.0     0.0            0.0   0.0    0.0     0.0        0.0     0.0      0.0      0.0  0.0      0.0   0.0      0.0       0.0  0.0      1.0       1.0     0.0   0.0         0.0     0.0       0.0    0.0    0.0     0.0     0.0      0.0       0.0    0.0      0.0       0.0       0.0  0.0      0.0        0.0   0.0        0.0          0.0             0.0     0.0      0.0    0.0      0.0       0.0     0.0   \n",
      "2                        0.0     0.0      0.0      0.0    0.0        0.0      0.0       0.0     1.0       0.0   0.0      0.0   0.0    0.0      0.0       0.0     0.0    0.0      0.0   0.0     0.0        0.0    0.0      0.0    0.0      0.0     0.0     0.0       0.0      0.0      0.0    0.0     0.0        0.0    0.0      0.0      0.0   0.0    0.0      0.0    0.0        0.0          0.0   0.0           0.0       0.0    0.0      0.0       0.0       0.0         0.0      0.0     0.0    0.0       0.0   0.0       0.0     0.0      0.0        0.0       0.0        0.0           0.0         0.0          0.0     0.0            0.0   0.0    0.0     0.0        0.0     0.0      0.0      0.0  0.0      0.0   0.0      0.0       0.0  0.0      0.0       1.0     0.0   0.0         0.0     0.0       0.0    0.0    0.0     0.0     0.0      0.0       0.0    0.0      0.0       0.0       0.0  0.0      0.0        0.0   0.0        0.0          0.0             0.0     0.0      0.0    0.0      0.0       0.0     0.0   \n",
      "3                        0.0     0.0      0.0      0.0    0.0        0.0      0.0       0.0     0.0       0.0   0.0      0.0   0.0    0.0      0.0       0.0     0.0    0.0      0.0   0.0     0.0        0.0    0.0      0.0    0.0      0.0     0.0     0.0       0.0      0.0      0.0    0.0     0.0        0.0    0.0      0.0      0.0   0.0    0.0      0.0    0.0        0.0          0.0   0.0           0.0       0.0    1.0      0.0       0.0       0.0         0.0      0.0     0.0    0.0       0.0   0.0       0.0     0.0      0.0        0.0       0.0        0.0           0.0         0.0          0.0     0.0            0.0   0.0    0.0     0.0        0.0     0.0      0.0      0.0  0.0      0.0   1.0      0.0       0.0  0.0      0.0       0.0     0.0   0.0         0.0     0.0       0.0    0.0    0.0     0.0     0.0      0.0       0.0    0.0      0.0       0.0       0.0  0.0      0.0        0.0   0.0        0.0          0.0             0.0     0.0      0.0    0.0      0.0       0.0     0.0   \n",
      "4                        0.0     0.0      0.0      0.0    0.0        0.0      0.0       0.0     0.0       0.0   0.0      0.0   0.0    1.0      0.0       0.0     0.0    0.0      0.0   1.0     0.0        0.0    0.0      0.0    0.0      0.0     0.0     0.0       0.0      0.0      0.0    0.0     0.0        0.0    0.0      0.0      1.0   0.0    0.0      0.0    0.0        0.0          0.0   0.0           0.0       0.0    0.0      0.0       0.0       0.0         0.0      0.0     0.0    0.0       0.0   0.0       0.0     0.0      0.0        0.0       0.0        0.0           0.0         0.0          0.0     0.0            0.0   0.0    0.0     0.0        0.0     0.0      0.0      0.0  0.0      0.0   0.0      0.0       0.0  0.0      1.0       1.0     0.0   0.0         0.0     0.0       0.0    0.0    0.0     0.0     0.0      0.0       0.0    0.0      0.0       0.0       0.0  0.0      0.0        0.0   0.0        0.0          0.0             0.0     0.0      0.0    0.0      0.0       0.0     0.0   \n",
      "...                      ...     ...      ...      ...    ...        ...      ...       ...     ...       ...   ...      ...   ...    ...      ...       ...     ...    ...      ...   ...     ...        ...    ...      ...    ...      ...     ...     ...       ...      ...      ...    ...     ...        ...    ...      ...      ...   ...    ...      ...    ...        ...          ...   ...           ...       ...    ...      ...       ...       ...         ...      ...     ...    ...       ...   ...       ...     ...      ...        ...       ...        ...           ...         ...          ...     ...            ...   ...    ...     ...        ...     ...      ...      ...  ...      ...   ...      ...       ...  ...      ...       ...     ...   ...         ...     ...       ...    ...    ...     ...     ...      ...       ...    ...      ...       ...       ...  ...      ...        ...   ...        ...          ...             ...     ...      ...    ...      ...       ...     ...   \n",
      "5890                     0.0     0.0      0.0      0.0    1.0        0.0      0.0       0.0     1.0       0.0   0.0      0.0   1.0    0.0      0.0       0.0     0.0    0.0      1.0   1.0     0.0        0.0    0.0      0.0    1.0      0.0     0.0     0.0       0.0      0.0      0.0    0.0     0.0        0.0    0.0      0.0      0.0   0.0    0.0      0.0    0.0        0.0          0.0   0.0           0.0       0.0    0.0      0.0       0.0       0.0         0.0      1.0     0.0    0.0       1.0   1.0       0.0     0.0      0.0        0.0       0.0        1.0           0.0         0.0          0.0     0.0            0.0   0.0    0.0     0.0        0.0     1.0      0.0      0.0  0.0      0.0   0.0      0.0       0.0  1.0      1.0       1.0     0.0   0.0         0.0     0.0       0.0    0.0    0.0     0.0     0.0      0.0       0.0    0.0      0.0       0.0       0.0  0.0      0.0        0.0   0.0        0.0          0.0             0.0     0.0      0.0    0.0      0.0       1.0     0.0   \n",
      "5891                     0.0     0.0      0.0      0.0    1.0        0.0      1.0       1.0     1.0       1.0   0.0      0.0   1.0    1.0      0.0       0.0     0.0    0.0      0.0   1.0     0.0        0.0    0.0      0.0    0.0      0.0     0.0     0.0       0.0      0.0      0.0    0.0     0.0        0.0    0.0      0.0      0.0   0.0    0.0      0.0    0.0        0.0          0.0   0.0           0.0       0.0    0.0      0.0       0.0       0.0         0.0      0.0     0.0    0.0       0.0   1.0       0.0     0.0      0.0        0.0       0.0        0.0           0.0         0.0          0.0     0.0            0.0   0.0    0.0     0.0        0.0     0.0      0.0      0.0  0.0      0.0   0.0      0.0       0.0  0.0      0.0       0.0     0.0   0.0         0.0     0.0       0.0    0.0    0.0     0.0     0.0      0.0       0.0    0.0      0.0       0.0       0.0  0.0      0.0        0.0   0.0        1.0          0.0             0.0     0.0      0.0    0.0      0.0       0.0     0.0   \n",
      "5892                     0.0     0.0      0.0      0.0    1.0        0.0      1.0       0.0     1.0       1.0   0.0      0.0   1.0    1.0      1.0       0.0     0.0    0.0      0.0   0.0     0.0        0.0    0.0      0.0    1.0      0.0     0.0     0.0       0.0      0.0      0.0    0.0     0.0        0.0    0.0      1.0      0.0   0.0    0.0      0.0    0.0        0.0          0.0   0.0           0.0       0.0    0.0      0.0       0.0       0.0         0.0      1.0     0.0    0.0       0.0   1.0       0.0     0.0      0.0        0.0       0.0        0.0           0.0         0.0          0.0     0.0            0.0   0.0    0.0     0.0        0.0     0.0      0.0      0.0  0.0      0.0   0.0      0.0       0.0  0.0      0.0       0.0     0.0   1.0         0.0     0.0       0.0    0.0    0.0     0.0     0.0      0.0       0.0    0.0      0.0       0.0       0.0  0.0      0.0        0.0   0.0        0.0          0.0             0.0     0.0      0.0    0.0      0.0       0.0     0.0   \n",
      "5893                     0.0     0.0      0.0      0.0    1.0        0.0      0.0       0.0     1.0       0.0   0.0      1.0   0.0    1.0      0.0       0.0     0.0    0.0      0.0   1.0     0.0        0.0    0.0      0.0    0.0      0.0     0.0     0.0       0.0      0.0      0.0    0.0     0.0        0.0    0.0      0.0      0.0   0.0    0.0      0.0    0.0        0.0          0.0   0.0           0.0       0.0    0.0      0.0       0.0       0.0         0.0      0.0     0.0    0.0       0.0   0.0       0.0     0.0      0.0        0.0       0.0        0.0           0.0         0.0          0.0     0.0            0.0   0.0    0.0     0.0        0.0     0.0      0.0      0.0  0.0      0.0   0.0      0.0       0.0  0.0      0.0       0.0     0.0   0.0         0.0     0.0       0.0    1.0    0.0     0.0     0.0      0.0       0.0    0.0      0.0       0.0       0.0  0.0      0.0        0.0   0.0        0.0          0.0             0.0     0.0      0.0    0.0      0.0       1.0     0.0   \n",
      "5894                     0.0     0.0      0.0      0.0    1.0        0.0      0.0       1.0     1.0       0.0   0.0      1.0   1.0    1.0      0.0       0.0     1.0    0.0      1.0   1.0     0.0        0.0    0.0      0.0    1.0      1.0     0.0     0.0       0.0      1.0      0.0    0.0     0.0        0.0    0.0      1.0      1.0   0.0    0.0      0.0    0.0        0.0          0.0   1.0           0.0       0.0    1.0      0.0       0.0       0.0         0.0      1.0     0.0    1.0       0.0   1.0       1.0     1.0      0.0        0.0       0.0        0.0           0.0         1.0          0.0     0.0            0.0   0.0    0.0     1.0        1.0     0.0      0.0      0.0  0.0      0.0   1.0      0.0       0.0  0.0      0.0       0.0     0.0   1.0         0.0     0.0       0.0    0.0    0.0     0.0     0.0      0.0       0.0    1.0      0.0       0.0       0.0  0.0      0.0        0.0   1.0        1.0          0.0             1.0     0.0      0.0    0.0      0.0       0.0     0.0   \n",
      "\n",
      "remove_duplicate_words  shtick  sincerity  singing  sinister  sitcom  skin  slapstick  slasher  sleek  slick  slight  slow  smile  songs  sparkling  spine  spirit  spirited  splatter  spook  spooky  stars  stylish  stylishly  sugar  supernatural  suspense  suspenseful  sweet  sweetly  sweetness  taut  tears  tender  tense  tension  terrifying  terror  thrill  thriller  thrillers  thrilling  thrills  tight  timing  touching  tropes  twist  twisted  twists  twisty  unease  unfunny  unintentional  unnerving  unsettling  upbeat  uplifting  victims  villain  violence  violent  visceral  viscerally  vocal  wacky  warm  warmth  whimsical  whimsy  whodunit  winning  wisdom  wit  witty  wonderful  yarn  young  younger  youngsters  zany  zombie             genres  \n",
      "0                          0.0        0.0      0.0       0.0     0.0   0.0        0.0      0.0    0.0    0.0     0.0   1.0    0.0    0.0        0.0    0.0     1.0       0.0       0.0    0.0     0.0    1.0      0.0        0.0    0.0           0.0       0.0          1.0    0.0      0.0        0.0   1.0    0.0     0.0    0.0      0.0         0.0     0.0     1.0       0.0        0.0        0.0      1.0    0.0     0.0       0.0     1.0    0.0      0.0     0.0     0.0     0.0      0.0            0.0        0.0         0.0     0.0        0.0      0.0      0.0       0.0      0.0       0.0         0.0    0.0    0.0   0.0     0.0        0.0     1.0       0.0      1.0     0.0  1.0    1.0        0.0   0.0    1.0      1.0         1.0   0.0     0.0       Family Movie  \n",
      "1                          0.0        0.0      0.0       0.0     0.0   0.0        0.0      0.0    0.0    0.0     0.0   0.0    0.0    0.0        0.0    0.0     1.0       0.0       0.0    0.0     0.0    0.0      0.0        0.0    0.0           0.0       0.0          0.0    0.0      0.0        0.0   0.0    0.0     1.0    0.0      0.0         0.0     0.0     0.0       0.0        0.0        0.0      0.0    0.0     0.0       1.0     0.0    0.0      0.0     0.0     0.0     0.0      0.0            0.0        0.0         0.0     0.0        0.0      0.0      0.0       0.0      0.0       0.0         0.0    0.0    0.0   1.0     1.0        0.0     1.0       0.0      0.0     0.0  1.0    1.0        1.0   0.0    0.0      0.0         0.0   0.0     0.0       Family Movie  \n",
      "2                          0.0        0.0      0.0       0.0     0.0   0.0        0.0      0.0    0.0    0.0     0.0   0.0    0.0    0.0        0.0    0.0     0.0       0.0       0.0    0.0     0.0    0.0      0.0        0.0    0.0           0.0       0.0          0.0    0.0      0.0        0.0   0.0    0.0     0.0    0.0      0.0         0.0     0.0     0.0       0.0        0.0        0.0      0.0    0.0     0.0       0.0     0.0    0.0      0.0     0.0     0.0     0.0      0.0            0.0        0.0         0.0     0.0        0.0      0.0      0.0       0.0      0.0       0.0         0.0    0.0    0.0   0.0     0.0        0.0     0.0       0.0      0.0     0.0  0.0    0.0        0.0   0.0    0.0      0.0         0.0   0.0     0.0       Family Movie  \n",
      "3                          0.0        0.0      0.0       0.0     0.0   0.0        0.0      0.0    0.0    0.0     0.0   0.0    0.0    0.0        0.0    0.0     0.0       0.0       0.0    0.0     0.0    0.0      0.0        0.0    0.0           0.0       0.0          0.0    0.0      0.0        0.0   0.0    0.0     0.0    0.0      0.0         0.0     0.0     1.0       0.0        0.0        0.0      0.0    0.0     0.0       0.0     0.0    0.0      0.0     0.0     0.0     0.0      0.0            0.0        0.0         0.0     0.0        0.0      0.0      0.0       1.0      0.0       0.0         0.0    0.0    0.0   0.0     0.0        0.0     0.0       0.0      0.0     0.0  0.0    0.0        0.0   0.0    0.0      0.0         0.0   0.0     0.0       Family Movie  \n",
      "4                          0.0        0.0      0.0       0.0     0.0   0.0        0.0      0.0    0.0    0.0     0.0   0.0    0.0    0.0        0.0    0.0     0.0       0.0       0.0    0.0     0.0    0.0      0.0        0.0    0.0           0.0       1.0          0.0    0.0      0.0        0.0   0.0    0.0     0.0    0.0      0.0         0.0     0.0     0.0       1.0        1.0        0.0      0.0    0.0     1.0       0.0     0.0    0.0      0.0     1.0     0.0     0.0      0.0            0.0        0.0         0.0     0.0        0.0      0.0      0.0       0.0      0.0       0.0         0.0    0.0    0.0   0.0     0.0        0.0     0.0       0.0      0.0     0.0  1.0    0.0        1.0   0.0    0.0      0.0         0.0   0.0     0.0  Horror & Suspense  \n",
      "...                        ...        ...      ...       ...     ...   ...        ...      ...    ...    ...     ...   ...    ...    ...        ...    ...     ...       ...       ...    ...     ...    ...      ...        ...    ...           ...       ...          ...    ...      ...        ...   ...    ...     ...    ...      ...         ...     ...     ...       ...        ...        ...      ...    ...     ...       ...     ...    ...      ...     ...     ...     ...      ...            ...        ...         ...     ...        ...      ...      ...       ...      ...       ...         ...    ...    ...   ...     ...        ...     ...       ...      ...     ...  ...    ...        ...   ...    ...      ...         ...   ...     ...                ...  \n",
      "5890                       1.0        1.0      0.0       0.0     0.0   0.0        1.0      0.0    0.0    0.0     0.0   0.0    0.0    1.0        0.0    0.0     0.0       0.0       0.0    0.0     0.0    1.0      0.0        0.0    0.0           0.0       0.0          0.0    1.0      0.0        0.0   0.0    0.0     0.0    0.0      0.0         0.0     0.0     0.0       0.0        0.0        0.0      0.0    0.0     0.0       0.0     0.0    0.0      0.0     0.0     0.0     0.0      1.0            0.0        0.0         0.0     0.0        0.0      0.0      0.0       0.0      0.0       0.0         0.0    1.0    1.0   0.0     1.0        0.0     0.0       0.0      1.0     0.0  0.0    0.0        0.0   0.0    1.0      0.0         0.0   0.0     0.0       Family Movie  \n",
      "5891                       0.0        0.0      0.0       0.0     0.0   0.0        1.0      0.0    0.0    0.0     1.0   0.0    1.0    0.0        0.0    0.0     1.0       1.0       0.0    0.0     0.0    0.0      0.0        0.0    0.0           0.0       0.0          0.0    0.0      0.0        0.0   0.0    0.0     0.0    0.0      0.0         0.0     0.0     0.0       0.0        0.0        0.0      0.0    0.0     0.0       0.0     0.0    0.0      0.0     0.0     0.0     0.0      1.0            0.0        0.0         0.0     0.0        0.0      0.0      0.0       0.0      0.0       0.0         0.0    0.0    0.0   0.0     0.0        0.0     0.0       0.0      0.0     0.0  1.0    0.0        0.0   0.0    0.0      0.0         0.0   0.0     0.0       Family Movie  \n",
      "5892                       0.0        0.0      0.0       0.0     0.0   0.0        1.0      0.0    0.0    0.0     0.0   0.0    0.0    1.0        0.0    0.0     1.0       0.0       0.0    0.0     0.0    1.0      0.0        0.0    0.0           0.0       1.0          0.0    1.0      0.0        0.0   0.0    0.0     0.0    0.0      0.0         0.0     0.0     0.0       1.0        0.0        0.0      0.0    0.0     0.0       0.0     0.0    0.0      1.0     0.0     0.0     0.0      1.0            1.0        0.0         0.0     0.0        0.0      0.0      0.0       1.0      0.0       0.0         0.0    0.0    1.0   0.0     1.0        0.0     0.0       0.0      0.0     0.0  1.0    1.0        1.0   0.0    0.0      0.0         0.0   0.0     0.0       Family Movie  \n",
      "5893                       0.0        0.0      0.0       0.0     0.0   0.0        1.0      0.0    0.0    0.0     0.0   0.0    0.0    1.0        0.0    0.0     0.0       0.0       0.0    0.0     0.0    1.0      0.0        0.0    0.0           0.0       0.0          0.0    0.0      0.0        1.0   0.0    0.0     0.0    0.0      0.0         0.0     0.0     0.0       0.0        0.0        0.0      0.0    0.0     0.0       0.0     0.0    0.0      0.0     0.0     0.0     0.0      1.0            0.0        0.0         0.0     0.0        0.0      0.0      0.0       0.0      0.0       0.0         0.0    0.0    0.0   0.0     0.0        0.0     0.0       0.0      0.0     0.0  1.0    0.0        0.0   0.0    1.0      0.0         0.0   0.0     0.0       Family Movie  \n",
      "5894                       0.0        0.0      1.0       0.0     0.0   0.0        1.0      0.0    0.0    1.0     0.0   1.0    0.0    1.0        0.0    0.0     1.0       0.0       0.0    0.0     0.0    0.0      0.0        0.0    1.0           0.0       1.0          1.0    1.0      0.0        0.0   0.0    0.0     0.0    0.0      0.0         0.0     0.0     0.0       1.0        0.0        0.0      1.0    0.0     0.0       1.0     1.0    1.0      0.0     1.0     0.0     0.0      0.0            0.0        0.0         0.0     1.0        0.0      0.0      0.0       1.0      0.0       0.0         0.0    0.0    0.0   1.0     0.0        1.0     0.0       1.0      1.0     0.0  1.0    1.0        1.0   0.0    1.0      1.0         0.0   0.0     0.0       Family Movie  \n",
      "\n",
      "[5895 rows x 402 columns]\n"
     ]
    }
   ],
   "source": [
    "mapping6 = dict(horror_family1[['rotten_tomatoes_link', 'genres']].values)\n",
    "hor_fam_four['genres'] = hor_fam_four.rotten_tomatoes_link.map(mapping5)\n",
    "print(hor_fam_four)"
   ]
  },
  {
   "cell_type": "code",
   "execution_count": 858,
   "id": "64163699",
   "metadata": {},
   "outputs": [],
   "source": [
    "hor_fam_two['index1'] = hor_fam_two.index\n",
    "hor_fam_four['index1'] = hor_fam_four.index"
   ]
  },
  {
   "cell_type": "code",
   "execution_count": 859,
   "id": "08e597aa",
   "metadata": {},
   "outputs": [
    {
     "name": "stdout",
     "output_type": "stream",
     "text": [
      "0                                   m/0814255\n",
      "1                                   m/0878835\n",
      "2                                        m/10\n",
      "3       m/1000079-20000_leagues_under_the_sea\n",
      "4                          m/1000121-39_steps\n",
      "                        ...                  \n",
      "5889                              m/zookeeper\n",
      "5890                              m/zoolander\n",
      "5891                            m/zoolander_2\n",
      "5892                              m/zoom_2006\n",
      "5893                               m/zootopia\n",
      "Name: rotten_tomatoes_link, Length: 5894, dtype: object\n"
     ]
    }
   ],
   "source": [
    "print(hor_fam_two['rotten_tomatoes_link'])"
   ]
  },
  {
   "cell_type": "code",
   "execution_count": 861,
   "id": "57c75ec3",
   "metadata": {},
   "outputs": [],
   "source": [
    "hor_fam_two1 = hor_fam_two.copy()\n",
    "hor_fam_two1 = hor_fam_two1.drop(['rotten_tomatoes_link'], axis=1)\n",
    "hor_fam_four1 = hor_fam_four.copy()\n",
    "hor_fam_four1 = hor_fam_four1.drop(['rotten_tomatoes_link'], axis=1)"
   ]
  },
  {
   "cell_type": "code",
   "execution_count": 862,
   "id": "eed71def",
   "metadata": {},
   "outputs": [
    {
     "name": "stdout",
     "output_type": "stream",
     "text": [
      "RangeIndex(start=0, stop=5894, step=1)\n",
      "RangeIndex(start=0, stop=5895, step=1)\n"
     ]
    }
   ],
   "source": [
    "print(hor_fam_two1.index)\n",
    "print(hor_fam_four1.index)"
   ]
  },
  {
   "cell_type": "code",
   "execution_count": 863,
   "id": "53b53d5a",
   "metadata": {},
   "outputs": [
    {
     "data": {
      "text/html": [
       "<div>\n",
       "<style scoped>\n",
       "    .dataframe tbody tr th:only-of-type {\n",
       "        vertical-align: middle;\n",
       "    }\n",
       "\n",
       "    .dataframe tbody tr th {\n",
       "        vertical-align: top;\n",
       "    }\n",
       "\n",
       "    .dataframe thead th {\n",
       "        text-align: right;\n",
       "    }\n",
       "</style>\n",
       "<table border=\"1\" class=\"dataframe\">\n",
       "  <thead>\n",
       "    <tr style=\"text-align: right;\">\n",
       "      <th>remove_duplicate_words</th>\n",
       "      <th>absorbing</th>\n",
       "      <th>action</th>\n",
       "      <th>actioner</th>\n",
       "      <th>adorable</th>\n",
       "      <th>adrenaline</th>\n",
       "      <th>adult</th>\n",
       "      <th>adults</th>\n",
       "      <th>affable</th>\n",
       "      <th>affection</th>\n",
       "      <th>affirming</th>\n",
       "      <th>age</th>\n",
       "      <th>ages</th>\n",
       "      <th>agreeable</th>\n",
       "      <th>aimed</th>\n",
       "      <th>alfred</th>\n",
       "      <th>ambiguity</th>\n",
       "      <th>amiable</th>\n",
       "      <th>amusing</th>\n",
       "      <th>animated</th>\n",
       "      <th>animation</th>\n",
       "      <th>antics</th>\n",
       "      <th>apocalyptic</th>\n",
       "      <th>appeal</th>\n",
       "      <th>appealing</th>\n",
       "      <th>atmosphere</th>\n",
       "      <th>atmospheric</th>\n",
       "      <th>atmospherics</th>\n",
       "      <th>b</th>\n",
       "      <th>bang</th>\n",
       "      <th>biter</th>\n",
       "      <th>bittersweet</th>\n",
       "      <th>blood</th>\n",
       "      <th>bloodbath</th>\n",
       "      <th>bloodshed</th>\n",
       "      <th>bloody</th>\n",
       "      <th>bourne</th>\n",
       "      <th>breezy</th>\n",
       "      <th>bright</th>\n",
       "      <th>broad</th>\n",
       "      <th>brooding</th>\n",
       "      <th>brutal</th>\n",
       "      <th>brutality</th>\n",
       "      <th>budget</th>\n",
       "      <th>build</th>\n",
       "      <th>building</th>\n",
       "      <th>builds</th>\n",
       "      <th>burn</th>\n",
       "      <th>camp</th>\n",
       "      <th>campy</th>\n",
       "      <th>carnage</th>\n",
       "      <th>cartoon</th>\n",
       "      <th>charm</th>\n",
       "      <th>charmer</th>\n",
       "      <th>charming</th>\n",
       "      <th>charms</th>\n",
       "      <th>chemistry</th>\n",
       "      <th>chick</th>\n",
       "      <th>children</th>\n",
       "      <th>children's</th>\n",
       "      <th>chiller</th>\n",
       "      <th>chilling</th>\n",
       "      <th>chillingly</th>\n",
       "      <th>chills</th>\n",
       "      <th>chuckle</th>\n",
       "      <th>chuckles</th>\n",
       "      <th>claustrophobic</th>\n",
       "      <th>climax</th>\n",
       "      <th>cloying</th>\n",
       "      <th>cold</th>\n",
       "      <th>com</th>\n",
       "      <th>comedian</th>\n",
       "      <th>comedic</th>\n",
       "      <th>comedies</th>\n",
       "      <th>comedy</th>\n",
       "      <th>comic</th>\n",
       "      <th>compelling</th>\n",
       "      <th>conspiracy</th>\n",
       "      <th>convoluted</th>\n",
       "      <th>crass</th>\n",
       "      <th>creep</th>\n",
       "      <th>creepiness</th>\n",
       "      <th>creepy</th>\n",
       "      <th>crime</th>\n",
       "      <th>crude</th>\n",
       "      <th>cult</th>\n",
       "      <th>cute</th>\n",
       "      <th>cuteness</th>\n",
       "      <th>cutesy</th>\n",
       "      <th>dancing</th>\n",
       "      <th>dark</th>\n",
       "      <th>deaths</th>\n",
       "      <th>delight</th>\n",
       "      <th>delightful</th>\n",
       "      <th>demon</th>\n",
       "      <th>demonic</th>\n",
       "      <th>detective</th>\n",
       "      <th>disney</th>\n",
       "      <th>disney's</th>\n",
       "      <th>disturbing</th>\n",
       "      <th>dramedy</th>\n",
       "      <th>dread</th>\n",
       "      <th>editing</th>\n",
       "      <th>eerie</th>\n",
       "      <th>effective</th>\n",
       "      <th>effectively</th>\n",
       "      <th>effects</th>\n",
       "      <th>efficient</th>\n",
       "      <th>elements</th>\n",
       "      <th>em</th>\n",
       "      <th>enchanting</th>\n",
       "      <th>endearing</th>\n",
       "      <th>engrossing</th>\n",
       "      <th>enjoyable</th>\n",
       "      <th>espionage</th>\n",
       "      <th>evil</th>\n",
       "      <th>excitement</th>\n",
       "      <th>exciting</th>\n",
       "      <th>exercise</th>\n",
       "      <th>exorcist</th>\n",
       "      <th>exploitation</th>\n",
       "      <th>exploitative</th>\n",
       "      <th>fairy</th>\n",
       "      <th>families</th>\n",
       "      <th>family</th>\n",
       "      <th>farce</th>\n",
       "      <th>fascinating</th>\n",
       "      <th>fear</th>\n",
       "      <th>fi</th>\n",
       "      <th>fiction</th>\n",
       "      <th>filmmaking</th>\n",
       "      <th>final</th>\n",
       "      <th>flick</th>\n",
       "      <th>fluff</th>\n",
       "      <th>fluffy</th>\n",
       "      <th>forced</th>\n",
       "      <th>foreboding</th>\n",
       "      <th>friendly</th>\n",
       "      <th>friends</th>\n",
       "      <th>friendship</th>\n",
       "      <th>fright</th>\n",
       "      <th>frightening</th>\n",
       "      <th>frights</th>\n",
       "      <th>frothy</th>\n",
       "      <th>funnier</th>\n",
       "      <th>funniest</th>\n",
       "      <th>funny</th>\n",
       "      <th>gag</th>\n",
       "      <th>gags</th>\n",
       "      <th>genial</th>\n",
       "      <th>genre</th>\n",
       "      <th>gentle</th>\n",
       "      <th>gently</th>\n",
       "      <th>gore</th>\n",
       "      <th>gory</th>\n",
       "      <th>gothic</th>\n",
       "      <th>graphic</th>\n",
       "      <th>grim</th>\n",
       "      <th>grindhouse</th>\n",
       "      <th>gripping</th>\n",
       "      <th>grisly</th>\n",
       "      <th>gritty</th>\n",
       "      <th>gruesome</th>\n",
       "      <th>guessing</th>\n",
       "      <th>guignol</th>\n",
       "      <th>halloween</th>\n",
       "      <th>happiness</th>\n",
       "      <th>happy</th>\n",
       "      <th>harmless</th>\n",
       "      <th>harrowing</th>\n",
       "      <th>haunted</th>\n",
       "      <th>haunting</th>\n",
       "      <th>heart</th>\n",
       "      <th>hearted</th>\n",
       "      <th>heartfelt</th>\n",
       "      <th>heartwarming</th>\n",
       "      <th>herrings</th>\n",
       "      <th>hilarious</th>\n",
       "      <th>hilarity</th>\n",
       "      <th>hitchcock</th>\n",
       "      <th>hitchcock's</th>\n",
       "      <th>hitchcockian</th>\n",
       "      <th>holes</th>\n",
       "      <th>honest</th>\n",
       "      <th>horrific</th>\n",
       "      <th>horrifying</th>\n",
       "      <th>horror</th>\n",
       "      <th>horrors</th>\n",
       "      <th>humor</th>\n",
       "      <th>humour</th>\n",
       "      <th>imagery</th>\n",
       "      <th>innocuous</th>\n",
       "      <th>inoffensive</th>\n",
       "      <th>intense</th>\n",
       "      <th>intensity</th>\n",
       "      <th>interesting</th>\n",
       "      <th>intrigue</th>\n",
       "      <th>intriguing</th>\n",
       "      <th>irresistible</th>\n",
       "      <th>joke</th>\n",
       "      <th>jokes</th>\n",
       "      <th>jolts</th>\n",
       "      <th>joy</th>\n",
       "      <th>joyful</th>\n",
       "      <th>joyous</th>\n",
       "      <th>jump</th>\n",
       "      <th>kid</th>\n",
       "      <th>kiddie</th>\n",
       "      <th>kids</th>\n",
       "      <th>kill</th>\n",
       "      <th>killer</th>\n",
       "      <th>killing</th>\n",
       "      <th>knuckle</th>\n",
       "      <th>laugh</th>\n",
       "      <th>laughable</th>\n",
       "      <th>laughed</th>\n",
       "      <th>laughing</th>\n",
       "      <th>laughs</th>\n",
       "      <th>laughter</th>\n",
       "      <th>lean</th>\n",
       "      <th>lessons</th>\n",
       "      <th>life</th>\n",
       "      <th>light</th>\n",
       "      <th>likable</th>\n",
       "      <th>likeable</th>\n",
       "      <th>lively</th>\n",
       "      <th>logic</th>\n",
       "      <th>lovable</th>\n",
       "      <th>love</th>\n",
       "      <th>lovely</th>\n",
       "      <th>ludicrous</th>\n",
       "      <th>lurid</th>\n",
       "      <th>macabre</th>\n",
       "      <th>magic</th>\n",
       "      <th>magical</th>\n",
       "      <th>mayhem</th>\n",
       "      <th>menace</th>\n",
       "      <th>menacing</th>\n",
       "      <th>message</th>\n",
       "      <th>monster</th>\n",
       "      <th>moody</th>\n",
       "      <th>murder</th>\n",
       "      <th>murderous</th>\n",
       "      <th>murky</th>\n",
       "      <th>musical</th>\n",
       "      <th>mystery</th>\n",
       "      <th>nail</th>\n",
       "      <th>nasty</th>\n",
       "      <th>natured</th>\n",
       "      <th>nerve</th>\n",
       "      <th>nightmare</th>\n",
       "      <th>nightmarish</th>\n",
       "      <th>noir</th>\n",
       "      <th>observations</th>\n",
       "      <th>observed</th>\n",
       "      <th>older</th>\n",
       "      <th>ominous</th>\n",
       "      <th>paranoia</th>\n",
       "      <th>paranoid</th>\n",
       "      <th>paranormal</th>\n",
       "      <th>parents</th>\n",
       "      <th>payoff</th>\n",
       "      <th>pixar</th>\n",
       "      <th>pleasant</th>\n",
       "      <th>plot</th>\n",
       "      <th>poignant</th>\n",
       "      <th>police</th>\n",
       "      <th>popcorn</th>\n",
       "      <th>potboiler</th>\n",
       "      <th>pounding</th>\n",
       "      <th>pratfalls</th>\n",
       "      <th>preposterous</th>\n",
       "      <th>procedural</th>\n",
       "      <th>provocative</th>\n",
       "      <th>psycho</th>\n",
       "      <th>psychological</th>\n",
       "      <th>pulp</th>\n",
       "      <th>pulpy</th>\n",
       "      <th>puzzle</th>\n",
       "      <th>questions</th>\n",
       "      <th>quirky</th>\n",
       "      <th>raucous</th>\n",
       "      <th>raunchy</th>\n",
       "      <th>red</th>\n",
       "      <th>revenge</th>\n",
       "      <th>ride</th>\n",
       "      <th>risible</th>\n",
       "      <th>riveting</th>\n",
       "      <th>rom</th>\n",
       "      <th>romance</th>\n",
       "      <th>romantic</th>\n",
       "      <th>romcom</th>\n",
       "      <th>romp</th>\n",
       "      <th>saccharine</th>\n",
       "      <th>sadism</th>\n",
       "      <th>sadistic</th>\n",
       "      <th>sappy</th>\n",
       "      <th>scare</th>\n",
       "      <th>scared</th>\n",
       "      <th>scares</th>\n",
       "      <th>scarier</th>\n",
       "      <th>scariest</th>\n",
       "      <th>scary</th>\n",
       "      <th>schlock</th>\n",
       "      <th>schlocky</th>\n",
       "      <th>schmaltz</th>\n",
       "      <th>sci</th>\n",
       "      <th>science</th>\n",
       "      <th>screwball</th>\n",
       "      <th>seat</th>\n",
       "      <th>sentiment</th>\n",
       "      <th>sentimental</th>\n",
       "      <th>sentimentality</th>\n",
       "      <th>serial</th>\n",
       "      <th>shivers</th>\n",
       "      <th>shock</th>\n",
       "      <th>shocker</th>\n",
       "      <th>shocking</th>\n",
       "      <th>shocks</th>\n",
       "      <th>shtick</th>\n",
       "      <th>sincerity</th>\n",
       "      <th>singing</th>\n",
       "      <th>sinister</th>\n",
       "      <th>sitcom</th>\n",
       "      <th>skin</th>\n",
       "      <th>slapstick</th>\n",
       "      <th>slasher</th>\n",
       "      <th>sleek</th>\n",
       "      <th>slick</th>\n",
       "      <th>slight</th>\n",
       "      <th>slow</th>\n",
       "      <th>smile</th>\n",
       "      <th>songs</th>\n",
       "      <th>sparkling</th>\n",
       "      <th>spine</th>\n",
       "      <th>spirit</th>\n",
       "      <th>spirited</th>\n",
       "      <th>splatter</th>\n",
       "      <th>spook</th>\n",
       "      <th>spooky</th>\n",
       "      <th>stars</th>\n",
       "      <th>stylish</th>\n",
       "      <th>stylishly</th>\n",
       "      <th>sugar</th>\n",
       "      <th>supernatural</th>\n",
       "      <th>suspense</th>\n",
       "      <th>suspenseful</th>\n",
       "      <th>sweet</th>\n",
       "      <th>sweetly</th>\n",
       "      <th>sweetness</th>\n",
       "      <th>taut</th>\n",
       "      <th>tears</th>\n",
       "      <th>tender</th>\n",
       "      <th>tense</th>\n",
       "      <th>tension</th>\n",
       "      <th>terrifying</th>\n",
       "      <th>terror</th>\n",
       "      <th>thrill</th>\n",
       "      <th>thriller</th>\n",
       "      <th>thrillers</th>\n",
       "      <th>thrilling</th>\n",
       "      <th>thrills</th>\n",
       "      <th>tight</th>\n",
       "      <th>timing</th>\n",
       "      <th>touching</th>\n",
       "      <th>tropes</th>\n",
       "      <th>twist</th>\n",
       "      <th>twisted</th>\n",
       "      <th>twists</th>\n",
       "      <th>twisty</th>\n",
       "      <th>unease</th>\n",
       "      <th>unfunny</th>\n",
       "      <th>unintentional</th>\n",
       "      <th>unnerving</th>\n",
       "      <th>unsettling</th>\n",
       "      <th>upbeat</th>\n",
       "      <th>uplifting</th>\n",
       "      <th>victims</th>\n",
       "      <th>villain</th>\n",
       "      <th>violence</th>\n",
       "      <th>violent</th>\n",
       "      <th>visceral</th>\n",
       "      <th>viscerally</th>\n",
       "      <th>vocal</th>\n",
       "      <th>wacky</th>\n",
       "      <th>warm</th>\n",
       "      <th>warmth</th>\n",
       "      <th>whimsical</th>\n",
       "      <th>whimsy</th>\n",
       "      <th>whodunit</th>\n",
       "      <th>winning</th>\n",
       "      <th>wisdom</th>\n",
       "      <th>wit</th>\n",
       "      <th>witty</th>\n",
       "      <th>wonderful</th>\n",
       "      <th>yarn</th>\n",
       "      <th>young</th>\n",
       "      <th>younger</th>\n",
       "      <th>youngsters</th>\n",
       "      <th>zany</th>\n",
       "      <th>zombie</th>\n",
       "      <th>genres</th>\n",
       "      <th>index1</th>\n",
       "    </tr>\n",
       "  </thead>\n",
       "  <tbody>\n",
       "  </tbody>\n",
       "</table>\n",
       "</div>"
      ],
      "text/plain": [
       "Empty DataFrame\n",
       "Columns: [absorbing, action, actioner, adorable, adrenaline, adult, adults, affable, affection, affirming, age, ages, agreeable, aimed, alfred, ambiguity, amiable, amusing, animated, animation, antics, apocalyptic, appeal, appealing, atmosphere, atmospheric, atmospherics, b, bang, biter, bittersweet, blood, bloodbath, bloodshed, bloody, bourne, breezy, bright, broad, brooding, brutal, brutality, budget, build, building, builds, burn, camp, campy, carnage, cartoon, charm, charmer, charming, charms, chemistry, chick, children, children's, chiller, chilling, chillingly, chills, chuckle, chuckles, claustrophobic, climax, cloying, cold, com, comedian, comedic, comedies, comedy, comic, compelling, conspiracy, convoluted, crass, creep, creepiness, creepy, crime, crude, cult, cute, cuteness, cutesy, dancing, dark, deaths, delight, delightful, demon, demonic, detective, disney, disney's, disturbing, dramedy, ...]\n",
       "Index: []"
      ]
     },
     "execution_count": 863,
     "metadata": {},
     "output_type": "execute_result"
    }
   ],
   "source": [
    "hor_fam_four1[hor_fam_four1.isna().any(axis=1)]"
   ]
  },
  {
   "cell_type": "code",
   "execution_count": 864,
   "id": "8013c2ae",
   "metadata": {},
   "outputs": [
    {
     "name": "stdout",
     "output_type": "stream",
     "text": [
      "0            Family Movie\n",
      "1            Family Movie\n",
      "2            Family Movie\n",
      "3            Family Movie\n",
      "4       Horror & Suspense\n",
      "              ...        \n",
      "5890         Family Movie\n",
      "5891         Family Movie\n",
      "5892         Family Movie\n",
      "5893         Family Movie\n",
      "5894         Family Movie\n",
      "Name: genres, Length: 5895, dtype: object\n"
     ]
    }
   ],
   "source": [
    "print(hor_fam_four1['genres'])"
   ]
  },
  {
   "cell_type": "markdown",
   "id": "d47daba1",
   "metadata": {},
   "source": [
    "## create models"
   ]
  },
  {
   "cell_type": "code",
   "execution_count": 865,
   "id": "c636c6fa",
   "metadata": {},
   "outputs": [],
   "source": [
    "from sklearn import tree\n",
    "import pandas as pd\n",
    "from sklearn.metrics import confusion_matrix\n",
    "from sklearn.metrics import precision_score, recall_score, f1_score, accuracy_score\n",
    "from sklearn.metrics import classification_report \n",
    "from sklearn.preprocessing import minmax_scale\n",
    "from sklearn.tree import DecisionTreeClassifier\n",
    "from sklearn.ensemble import RandomForestClassifier\n",
    "from sklearn.model_selection import GridSearchCV"
   ]
  },
  {
   "cell_type": "markdown",
   "id": "7831c375",
   "metadata": {},
   "source": [
    "### for the hor_fam_two1"
   ]
  },
  {
   "cell_type": "code",
   "execution_count": 866,
   "id": "180a1262",
   "metadata": {},
   "outputs": [],
   "source": [
    "import pandas as pd\n",
    "pd.set_option('display.max_rows', 500)\n",
    "pd.set_option('display.max_columns', 500)\n",
    "pd.set_option('display.width', 1000)"
   ]
  },
  {
   "cell_type": "code",
   "execution_count": 867,
   "id": "79889d96",
   "metadata": {},
   "outputs": [],
   "source": [
    "y = hor_fam_two1['genres']                 \n",
    "X = hor_fam_two1.drop(['genres'], axis=1)"
   ]
  },
  {
   "cell_type": "code",
   "execution_count": 868,
   "id": "e636a212",
   "metadata": {},
   "outputs": [],
   "source": [
    "from sklearn.model_selection import train_test_split\n",
    "X_train, X_test, y_train, y_test = train_test_split(X, y, random_state=1, test_size=0.2)"
   ]
  },
  {
   "cell_type": "code",
   "execution_count": 869,
   "id": "3fc80344",
   "metadata": {},
   "outputs": [],
   "source": [
    "X_train = minmax_scale(X_train)\n",
    "X_test = minmax_scale(X_test)"
   ]
  },
  {
   "cell_type": "code",
   "execution_count": 870,
   "id": "b22bdda1",
   "metadata": {},
   "outputs": [],
   "source": [
    "from sklearn.model_selection import RandomizedSearchCV"
   ]
  },
  {
   "cell_type": "code",
   "execution_count": 871,
   "id": "cd217878",
   "metadata": {},
   "outputs": [
    {
     "name": "stdout",
     "output_type": "stream",
     "text": [
      "Parameters current in use:\n",
      "\n",
      "{'bootstrap': True,\n",
      " 'ccp_alpha': 0.0,\n",
      " 'criterion': 'squared_error',\n",
      " 'max_depth': None,\n",
      " 'max_features': 'auto',\n",
      " 'max_leaf_nodes': None,\n",
      " 'max_samples': None,\n",
      " 'min_impurity_decrease': 0.0,\n",
      " 'min_samples_leaf': 1,\n",
      " 'min_samples_split': 2,\n",
      " 'min_weight_fraction_leaf': 0.0,\n",
      " 'n_estimators': 100,\n",
      " 'n_jobs': None,\n",
      " 'oob_score': False,\n",
      " 'random_state': 42,\n",
      " 'verbose': 0,\n",
      " 'warm_start': False}\n"
     ]
    }
   ],
   "source": [
    "from sklearn.ensemble import RandomForestRegressor\n",
    "rf = RandomForestRegressor(random_state = 42)\n",
    "from pprint import pprint\n",
    "\n",
    "print('Parameters current in use:\\n') \n",
    "pprint(rf.get_params())"
   ]
  },
  {
   "cell_type": "code",
   "execution_count": 872,
   "id": "ff6d361e",
   "metadata": {},
   "outputs": [
    {
     "name": "stdout",
     "output_type": "stream",
     "text": [
      "{'bootstrap': [True, False],\n",
      " 'max_depth': [10, 20, 30, 40, 50, 60, 70, 80, 90, 100, 110, None],\n",
      " 'max_features': ['auto', 'sqrt'],\n",
      " 'min_samples_leaf': [1, 2, 4],\n",
      " 'min_samples_split': [2, 5, 10],\n",
      " 'n_estimators': [200, 400, 600, 800, 1000, 1200, 1400, 1600, 1800, 2000]}\n"
     ]
    }
   ],
   "source": [
    "#reference: https://towardsdatascience.com/hyperparameter-tuning-the-random-forest-in-python-using-scikit-learn-28d2aa77dd74\n",
    "from sklearn.model_selection import RandomizedSearchCV\n",
    "# Number of trees in random forest\n",
    "n_estimators = [int(x) for x in np.linspace(start = 200, stop = 2000, num = 10)]\n",
    "# Number of features to consider at every split\n",
    "max_features = ['auto', 'sqrt']\n",
    "# Maximum number of levels in tree\n",
    "max_depth = [int(x) for x in np.linspace(10, 110, num = 11)]\n",
    "max_depth.append(None)\n",
    "# Minimum number of samples required to split a node\n",
    "min_samples_split = [2, 5, 10]\n",
    "# Minimum number of samples required at each leaf node\n",
    "min_samples_leaf = [1, 2, 4]\n",
    "# Method of selecting samples for training each tree\n",
    "bootstrap = [True, False]\n",
    "# Create the random grid\n",
    "random_grid = {'n_estimators': n_estimators,\n",
    "               'max_features': max_features,\n",
    "               'max_depth': max_depth,\n",
    "               'min_samples_split': min_samples_split,\n",
    "               'min_samples_leaf': min_samples_leaf,\n",
    "               'bootstrap': bootstrap}\n",
    "pprint(random_grid)"
   ]
  },
  {
   "cell_type": "code",
   "execution_count": 875,
   "id": "83b6267c",
   "metadata": {},
   "outputs": [
    {
     "data": {
      "text/plain": [
       "RandomForestClassifier(max_depth=46, max_features=70, min_samples_leaf=20,\n",
       "                       n_estimators=50, random_state=1)"
      ]
     },
     "execution_count": 875,
     "metadata": {},
     "output_type": "execute_result"
    }
   ],
   "source": [
    "RF = RandomForestClassifier(random_state = 1, max_depth = 46, \n",
    "                            max_features=70, min_samples_leaf = 20,\n",
    "                           n_estimators=50)\n",
    "RF.fit(X_train, y_train)"
   ]
  },
  {
   "cell_type": "code",
   "execution_count": 876,
   "id": "ad564381",
   "metadata": {},
   "outputs": [
    {
     "data": {
      "text/plain": [
       "DecisionTreeClassifier(max_depth=32, max_features=40, min_samples_leaf=5,\n",
       "                       random_state=1)"
      ]
     },
     "execution_count": 876,
     "metadata": {},
     "output_type": "execute_result"
    }
   ],
   "source": [
    "DT = DecisionTreeClassifier(random_state = 1, max_depth = 32, \n",
    "                            max_features=40, min_samples_leaf = 5)\n",
    "DT.fit(X_train, y_train)"
   ]
  },
  {
   "cell_type": "code",
   "execution_count": 879,
   "id": "2634b59b",
   "metadata": {},
   "outputs": [],
   "source": [
    "from sklearn.metrics import confusion_matrix\n",
    "from sklearn import metrics\n",
    "from sklearn.metrics import classification_report"
   ]
  },
  {
   "cell_type": "code",
   "execution_count": 880,
   "id": "6e813c46",
   "metadata": {},
   "outputs": [],
   "source": [
    "models = [RF, DT]\n",
    "names = ['RF', 'DT']\n",
    "evaluation = ['accuracy', 'precision', 'recall', 'f1']"
   ]
  },
  {
   "cell_type": "code",
   "execution_count": 881,
   "id": "3caa8b72",
   "metadata": {},
   "outputs": [
    {
     "name": "stdout",
     "output_type": "stream",
     "text": [
      "For the two hundred information gain dataset\n",
      "RF training_set: accuracy:0.924, precision:0.92, recall:0.891, f1:0.905\n",
      "RF test_set: accuracy:0.904, precision:0.898, recall:0.87, f1:0.884\n",
      "                   precision    recall  f1-score   support\n",
      "\n",
      "Horror & Suspense       0.91      0.93      0.92       685\n",
      "     Family Movie       0.90      0.87      0.88       494\n",
      "\n",
      "         accuracy                           0.90      1179\n",
      "        macro avg       0.90      0.90      0.90      1179\n",
      "     weighted avg       0.90      0.90      0.90      1179\n",
      "\n"
     ]
    },
    {
     "data": {
      "image/png": "[encoded data removed]",
      "text/plain": [
       "<Figure size 432x288 with 2 Axes>"
      ]
     },
     "metadata": {
      "needs_background": "light"
     },
     "output_type": "display_data"
    },
    {
     "name": "stdout",
     "output_type": "stream",
     "text": [
      "DT training_set: accuracy:0.93, precision:0.938, recall:0.887, f1:0.912\n",
      "DT test_set: accuracy:0.874, precision:0.871, recall:0.82, f1:0.845\n",
      "                   precision    recall  f1-score   support\n",
      "\n",
      "Horror & Suspense       0.88      0.91      0.89       685\n",
      "     Family Movie       0.87      0.82      0.84       494\n",
      "\n",
      "         accuracy                           0.87      1179\n",
      "        macro avg       0.87      0.87      0.87      1179\n",
      "     weighted avg       0.87      0.87      0.87      1179\n",
      "\n"
     ]
    },
    {
     "data": {
      "image/png": "[encoded data removed]",
      "text/plain": [
       "<Figure size 432x288 with 2 Axes>"
      ]
     },
     "metadata": {
      "needs_background": "light"
     },
     "output_type": "display_data"
    }
   ],
   "source": [
    "df_list = []\n",
    "print('For the two hundred information gain dataset')\n",
    "for name, model in zip(names, models):\n",
    "    y_train_pred = model.predict(X_train)\n",
    "    y_test_pred = model.predict(X_test)\n",
    "    \n",
    "    \n",
    "    #accuracy\n",
    "    #train_accuracy = model.score(X_train, y_train)\n",
    "    train_accuracy = accuracy_score(y_train, y_train_pred)\n",
    "    #test_accuracy = model.score(X_test, y_test)\n",
    "    test_accuracy = accuracy_score(y_test, y_test_pred)\n",
    "    \n",
    "    #precision\n",
    "    train_precision = precision_score(y_train, y_train_pred, pos_label=\"Horror & Suspense\")\n",
    "    test_precision = precision_score(y_test, y_test_pred, pos_label=\"Horror & Suspense\")\n",
    "    \n",
    "    #recall\n",
    "    train_recall = recall_score(y_train, y_train_pred, pos_label=\"Horror & Suspense\")\n",
    "    test_recall = recall_score(y_test, y_test_pred, pos_label=\"Horror & Suspense\")\n",
    "\n",
    "    #f1\n",
    "    train_f1 = f1_score(y_train, y_train_pred, pos_label=\"Horror & Suspense\")\n",
    "    test_f1 = f1_score(y_test, y_test_pred, pos_label=\"Horror & Suspense\")\n",
    "    \n",
    "    print('{} training_set: accuracy:{:.3}, precision:{:.3}, recall:{:.3}, f1:{:.3}'\n",
    "         .format(name, train_accuracy, train_precision, train_recall, train_f1))\n",
    "    print('{} test_set: accuracy:{:.3}, precision:{:.3}, recall:{:.3}, f1:{:.3}'\n",
    "         .format(name, test_accuracy, test_precision, test_recall, test_f1))\n",
    "    target_names = ['Horror & Suspense', 'Family Movie']\n",
    "    print(classification_report(y_test, y_test_pred, target_names = target_names))\n",
    "    confusion_matrix = metrics.confusion_matrix(y_test, y_test_pred)\n",
    "    cm_display = metrics.ConfusionMatrixDisplay(confusion_matrix = confusion_matrix, display_labels = [False, True])\n",
    "\n",
    "    cm_display.plot()\n",
    "    plt.show()"
   ]
  },
  {
   "cell_type": "code",
   "execution_count": 882,
   "id": "7d670e98",
   "metadata": {},
   "outputs": [],
   "source": [
    "y_test = y_test.to_frame()"
   ]
  },
  {
   "cell_type": "code",
   "execution_count": 883,
   "id": "345a3fad",
   "metadata": {},
   "outputs": [],
   "source": [
    "y_test['genres'] = y_test['genres'].astype(str)"
   ]
  },
  {
   "cell_type": "code",
   "execution_count": 884,
   "id": "d703dc89",
   "metadata": {},
   "outputs": [
    {
     "name": "stdout",
     "output_type": "stream",
     "text": [
      "0            Family Movie\n",
      "1            Family Movie\n",
      "2            Family Movie\n",
      "3            Family Movie\n",
      "4       Horror & Suspense\n",
      "              ...        \n",
      "5890         Family Movie\n",
      "5891         Family Movie\n",
      "5892         Family Movie\n",
      "5893         Family Movie\n",
      "5894         Family Movie\n",
      "Name: genres, Length: 5895, dtype: object\n"
     ]
    }
   ],
   "source": [
    "print(hor_fam_four1['genres'])"
   ]
  },
  {
   "cell_type": "markdown",
   "id": "12036558",
   "metadata": {},
   "source": [
    "### for the hor_fam_four1"
   ]
  },
  {
   "cell_type": "code",
   "execution_count": 885,
   "id": "a1b03038",
   "metadata": {},
   "outputs": [],
   "source": [
    "y = hor_fam_four1['genres']                 \n",
    "X = hor_fam_four1.drop(['genres'], axis=1)"
   ]
  },
  {
   "cell_type": "code",
   "execution_count": 886,
   "id": "dccb2818",
   "metadata": {},
   "outputs": [],
   "source": [
    "X_train, X_test, y_train, y_test = train_test_split(X, y, random_state=1, test_size=0.2)"
   ]
  },
  {
   "cell_type": "code",
   "execution_count": 887,
   "id": "ec4d1cf3",
   "metadata": {},
   "outputs": [
    {
     "name": "stdout",
     "output_type": "stream",
     "text": [
      "4594         Family Movie\n",
      "2632    Horror & Suspense\n",
      "3225    Horror & Suspense\n",
      "2146         Family Movie\n",
      "5560    Horror & Suspense\n",
      "              ...        \n",
      "2565    Horror & Suspense\n",
      "205     Horror & Suspense\n",
      "1006         Family Movie\n",
      "5079         Family Movie\n",
      "3066         Family Movie\n",
      "Name: genres, Length: 1179, dtype: object\n"
     ]
    }
   ],
   "source": [
    "print(y_test)"
   ]
  },
  {
   "cell_type": "code",
   "execution_count": 888,
   "id": "4a80a433",
   "metadata": {},
   "outputs": [],
   "source": [
    "X_train = minmax_scale(X_train)\n",
    "X_test = minmax_scale(X_test)"
   ]
  },
  {
   "cell_type": "code",
   "execution_count": 889,
   "id": "31e85e01",
   "metadata": {},
   "outputs": [
    {
     "data": {
      "text/plain": [
       "RandomForestClassifier(max_depth=46, max_features=70, min_samples_leaf=20,\n",
       "                       n_estimators=50, random_state=1)"
      ]
     },
     "execution_count": 889,
     "metadata": {},
     "output_type": "execute_result"
    }
   ],
   "source": [
    "RF = RandomForestClassifier(random_state = 1, max_depth = 46, \n",
    "                            max_features=70, min_samples_leaf = 20,\n",
    "                           n_estimators=50)\n",
    "RF.fit(X_train, y_train)"
   ]
  },
  {
   "cell_type": "code",
   "execution_count": 890,
   "id": "0fbce2d0",
   "metadata": {},
   "outputs": [
    {
     "data": {
      "text/plain": [
       "DecisionTreeClassifier(max_depth=32, max_features=40, min_samples_leaf=5,\n",
       "                       random_state=1)"
      ]
     },
     "execution_count": 890,
     "metadata": {},
     "output_type": "execute_result"
    }
   ],
   "source": [
    "DT = DecisionTreeClassifier(random_state = 1, max_depth = 32, \n",
    "                            max_features=40, min_samples_leaf = 5)\n",
    "DT.fit(X_train, y_train)"
   ]
  },
  {
   "cell_type": "code",
   "execution_count": 891,
   "id": "1d3fec82",
   "metadata": {},
   "outputs": [],
   "source": [
    "models = [RF, DT]\n",
    "names = ['RF', 'DT']\n",
    "evaluation = ['accuracy', 'precision', 'recall', 'f1']"
   ]
  },
  {
   "cell_type": "code",
   "execution_count": 892,
   "id": "6492c248",
   "metadata": {},
   "outputs": [
    {
     "name": "stdout",
     "output_type": "stream",
     "text": [
      "For the four hundred information gain dataset\n",
      "RF training_set: accuracy:0.92, precision:0.919, recall:0.882, f1:0.9\n",
      "RF test_set: accuracy:0.908, precision:0.91, recall:0.865, f1:0.887\n",
      "                   precision    recall  f1-score   support\n",
      "\n",
      "Horror & Suspense       0.91      0.94      0.92       689\n",
      "     Family Movie       0.91      0.87      0.89       490\n",
      "\n",
      "         accuracy                           0.91      1179\n",
      "        macro avg       0.91      0.90      0.90      1179\n",
      "     weighted avg       0.91      0.91      0.91      1179\n",
      "\n"
     ]
    },
    {
     "data": {
      "image/png": "[encoded data removed]",
      "text/plain": [
       "<Figure size 432x288 with 2 Axes>"
      ]
     },
     "metadata": {
      "needs_background": "light"
     },
     "output_type": "display_data"
    },
    {
     "name": "stdout",
     "output_type": "stream",
     "text": [
      "DT training_set: accuracy:0.919, precision:0.924, recall:0.874, f1:0.898\n",
      "DT test_set: accuracy:0.851, precision:0.838, recall:0.794, f1:0.816\n",
      "                   precision    recall  f1-score   support\n",
      "\n",
      "Horror & Suspense       0.86      0.89      0.87       689\n",
      "     Family Movie       0.84      0.79      0.82       490\n",
      "\n",
      "         accuracy                           0.85      1179\n",
      "        macro avg       0.85      0.84      0.85      1179\n",
      "     weighted avg       0.85      0.85      0.85      1179\n",
      "\n"
     ]
    },
    {
     "data": {
      "image/png": "[encoded data removed]",
      "text/plain": [
       "<Figure size 432x288 with 2 Axes>"
      ]
     },
     "metadata": {
      "needs_background": "light"
     },
     "output_type": "display_data"
    }
   ],
   "source": [
    "df_list = []\n",
    "print('For the four hundred information gain dataset')\n",
    "for name, model in zip(names, models):\n",
    "    y_train_pred = model.predict(X_train)\n",
    "    y_test_pred = model.predict(X_test)\n",
    "    \n",
    "    \n",
    "    #accuracy\n",
    "    #train_accuracy = model.score(X_train, y_train)\n",
    "    train_accuracy = accuracy_score(y_train, y_train_pred)\n",
    "    #test_accuracy = model.score(X_test, y_test)\n",
    "    test_accuracy = accuracy_score(y_test, y_test_pred)\n",
    "    \n",
    "    #precision\n",
    "    train_precision = precision_score(y_train, y_train_pred, pos_label=\"Horror & Suspense\")\n",
    "    test_precision = precision_score(y_test, y_test_pred, pos_label=\"Horror & Suspense\")\n",
    "    \n",
    "    #recall\n",
    "    train_recall = recall_score(y_train, y_train_pred, pos_label=\"Horror & Suspense\")\n",
    "    test_recall = recall_score(y_test, y_test_pred, pos_label=\"Horror & Suspense\")\n",
    "\n",
    "    #f1\n",
    "    train_f1 = f1_score(y_train, y_train_pred, pos_label=\"Horror & Suspense\")\n",
    "    test_f1 = f1_score(y_test, y_test_pred, pos_label=\"Horror & Suspense\")\n",
    "    \n",
    "    print('{} training_set: accuracy:{:.3}, precision:{:.3}, recall:{:.3}, f1:{:.3}'\n",
    "         .format(name, train_accuracy, train_precision, train_recall, train_f1))\n",
    "    print('{} test_set: accuracy:{:.3}, precision:{:.3}, recall:{:.3}, f1:{:.3}'\n",
    "         .format(name, test_accuracy, test_precision, test_recall, test_f1))\n",
    "    target_names = ['Horror & Suspense', 'Family Movie']\n",
    "    print(classification_report(y_test, y_test_pred, target_names = target_names))\n",
    "    confusion_matrix = metrics.confusion_matrix(y_test, y_test_pred)\n",
    "    cm_display = metrics.ConfusionMatrixDisplay(confusion_matrix = confusion_matrix, display_labels = [False, True])\n",
    "\n",
    "    cm_display.plot()\n",
    "    plt.show()"
   ]
  },
  {
   "cell_type": "code",
   "execution_count": 893,
   "id": "6e514e39",
   "metadata": {},
   "outputs": [],
   "source": [
    "predict_result = DT.predict(X_test)"
   ]
  },
  {
   "cell_type": "code",
   "execution_count": 894,
   "id": "b0042dc7",
   "metadata": {},
   "outputs": [
    {
     "name": "stdout",
     "output_type": "stream",
     "text": [
      "4594         Family Movie\n",
      "2632    Horror & Suspense\n",
      "3225    Horror & Suspense\n",
      "2146         Family Movie\n",
      "5560    Horror & Suspense\n",
      "              ...        \n",
      "2565    Horror & Suspense\n",
      "205     Horror & Suspense\n",
      "1006         Family Movie\n",
      "5079         Family Movie\n",
      "3066         Family Movie\n",
      "Name: genres, Length: 1179, dtype: object\n",
      "['Family Movie' 'Horror & Suspense' 'Family Movie' ... 'Family Movie'\n",
      " 'Family Movie' 'Family Movie']\n"
     ]
    }
   ],
   "source": [
    "predict_df = pd.DataFrame()\n",
    "predict_df['genre'] = predict_result\n",
    "print(y_test)\n",
    "#print(predict_df.head(10))\n",
    "print(predict_result)"
   ]
  },
  {
   "cell_type": "code",
   "execution_count": 895,
   "id": "33ad2e0e",
   "metadata": {},
   "outputs": [
    {
     "data": {
      "text/html": [
       "<div>\n",
       "<style scoped>\n",
       "    .dataframe tbody tr th:only-of-type {\n",
       "        vertical-align: middle;\n",
       "    }\n",
       "\n",
       "    .dataframe tbody tr th {\n",
       "        vertical-align: top;\n",
       "    }\n",
       "\n",
       "    .dataframe thead th {\n",
       "        text-align: right;\n",
       "    }\n",
       "</style>\n",
       "<table border=\"1\" class=\"dataframe\">\n",
       "  <thead>\n",
       "    <tr style=\"text-align: right;\">\n",
       "      <th>remove_duplicate_words</th>\n",
       "      <th>rotten_tomatoes_link</th>\n",
       "      <th>adorable</th>\n",
       "      <th>adults</th>\n",
       "      <th>amiable</th>\n",
       "      <th>amusing</th>\n",
       "      <th>animated</th>\n",
       "      <th>animation</th>\n",
       "      <th>antics</th>\n",
       "      <th>appealing</th>\n",
       "      <th>atmosphere</th>\n",
       "      <th>atmospheric</th>\n",
       "      <th>b</th>\n",
       "      <th>bittersweet</th>\n",
       "      <th>blood</th>\n",
       "      <th>bloody</th>\n",
       "      <th>breezy</th>\n",
       "      <th>bright</th>\n",
       "      <th>broad</th>\n",
       "      <th>brutal</th>\n",
       "      <th>campy</th>\n",
       "      <th>charm</th>\n",
       "      <th>charmer</th>\n",
       "      <th>charming</th>\n",
       "      <th>charms</th>\n",
       "      <th>chemistry</th>\n",
       "      <th>children</th>\n",
       "      <th>children's</th>\n",
       "      <th>chiller</th>\n",
       "      <th>chilling</th>\n",
       "      <th>chills</th>\n",
       "      <th>climax</th>\n",
       "      <th>comedic</th>\n",
       "      <th>comedies</th>\n",
       "      <th>comedy</th>\n",
       "      <th>comic</th>\n",
       "      <th>compelling</th>\n",
       "      <th>creepy</th>\n",
       "      <th>crime</th>\n",
       "      <th>cute</th>\n",
       "      <th>dark</th>\n",
       "      <th>delight</th>\n",
       "      <th>delightful</th>\n",
       "      <th>disney</th>\n",
       "      <th>disturbing</th>\n",
       "      <th>dramedy</th>\n",
       "      <th>dread</th>\n",
       "      <th>eerie</th>\n",
       "      <th>effective</th>\n",
       "      <th>effects</th>\n",
       "      <th>efficient</th>\n",
       "      <th>endearing</th>\n",
       "      <th>engrossing</th>\n",
       "      <th>evil</th>\n",
       "      <th>exercise</th>\n",
       "      <th>exploitation</th>\n",
       "      <th>family</th>\n",
       "      <th>farce</th>\n",
       "      <th>fear</th>\n",
       "      <th>friendship</th>\n",
       "      <th>fright</th>\n",
       "      <th>frightening</th>\n",
       "      <th>frights</th>\n",
       "      <th>funnier</th>\n",
       "      <th>funniest</th>\n",
       "      <th>funny</th>\n",
       "      <th>gag</th>\n",
       "      <th>gags</th>\n",
       "      <th>genre</th>\n",
       "      <th>gentle</th>\n",
       "      <th>gore</th>\n",
       "      <th>gory</th>\n",
       "      <th>gothic</th>\n",
       "      <th>gripping</th>\n",
       "      <th>grisly</th>\n",
       "      <th>gruesome</th>\n",
       "      <th>guessing</th>\n",
       "      <th>happy</th>\n",
       "      <th>harmless</th>\n",
       "      <th>harrowing</th>\n",
       "      <th>haunted</th>\n",
       "      <th>haunting</th>\n",
       "      <th>hearted</th>\n",
       "      <th>heartfelt</th>\n",
       "      <th>heartwarming</th>\n",
       "      <th>hilarious</th>\n",
       "      <th>hitchcock</th>\n",
       "      <th>hitchcockian</th>\n",
       "      <th>holes</th>\n",
       "      <th>horrific</th>\n",
       "      <th>horrifying</th>\n",
       "      <th>horror</th>\n",
       "      <th>horrors</th>\n",
       "      <th>humor</th>\n",
       "      <th>intense</th>\n",
       "      <th>intensity</th>\n",
       "      <th>intrigue</th>\n",
       "      <th>intriguing</th>\n",
       "      <th>joke</th>\n",
       "      <th>jokes</th>\n",
       "      <th>jolts</th>\n",
       "      <th>joy</th>\n",
       "      <th>jump</th>\n",
       "      <th>kids</th>\n",
       "      <th>killer</th>\n",
       "      <th>killing</th>\n",
       "      <th>laugh</th>\n",
       "      <th>laughable</th>\n",
       "      <th>laughs</th>\n",
       "      <th>lessons</th>\n",
       "      <th>light</th>\n",
       "      <th>likable</th>\n",
       "      <th>likeable</th>\n",
       "      <th>love</th>\n",
       "      <th>lovely</th>\n",
       "      <th>lurid</th>\n",
       "      <th>macabre</th>\n",
       "      <th>menace</th>\n",
       "      <th>monster</th>\n",
       "      <th>moody</th>\n",
       "      <th>murder</th>\n",
       "      <th>murky</th>\n",
       "      <th>mystery</th>\n",
       "      <th>nail</th>\n",
       "      <th>natured</th>\n",
       "      <th>nightmare</th>\n",
       "      <th>noir</th>\n",
       "      <th>paranoia</th>\n",
       "      <th>pleasant</th>\n",
       "      <th>poignant</th>\n",
       "      <th>psycho</th>\n",
       "      <th>psychological</th>\n",
       "      <th>pulp</th>\n",
       "      <th>pulpy</th>\n",
       "      <th>puzzle</th>\n",
       "      <th>raunchy</th>\n",
       "      <th>revenge</th>\n",
       "      <th>riveting</th>\n",
       "      <th>rom</th>\n",
       "      <th>romance</th>\n",
       "      <th>romantic</th>\n",
       "      <th>romcom</th>\n",
       "      <th>saccharine</th>\n",
       "      <th>scare</th>\n",
       "      <th>scares</th>\n",
       "      <th>scariest</th>\n",
       "      <th>scary</th>\n",
       "      <th>schlock</th>\n",
       "      <th>screwball</th>\n",
       "      <th>seat</th>\n",
       "      <th>sentiment</th>\n",
       "      <th>sentimental</th>\n",
       "      <th>sentimentality</th>\n",
       "      <th>shocker</th>\n",
       "      <th>shocks</th>\n",
       "      <th>sinister</th>\n",
       "      <th>sitcom</th>\n",
       "      <th>slapstick</th>\n",
       "      <th>slasher</th>\n",
       "      <th>smile</th>\n",
       "      <th>songs</th>\n",
       "      <th>spirited</th>\n",
       "      <th>spooky</th>\n",
       "      <th>stylish</th>\n",
       "      <th>supernatural</th>\n",
       "      <th>suspense</th>\n",
       "      <th>suspenseful</th>\n",
       "      <th>sweet</th>\n",
       "      <th>sweetly</th>\n",
       "      <th>sweetness</th>\n",
       "      <th>taut</th>\n",
       "      <th>tender</th>\n",
       "      <th>tense</th>\n",
       "      <th>tension</th>\n",
       "      <th>terrifying</th>\n",
       "      <th>terror</th>\n",
       "      <th>thrill</th>\n",
       "      <th>thriller</th>\n",
       "      <th>thrillers</th>\n",
       "      <th>thrilling</th>\n",
       "      <th>thrills</th>\n",
       "      <th>touching</th>\n",
       "      <th>twist</th>\n",
       "      <th>twists</th>\n",
       "      <th>twisty</th>\n",
       "      <th>unfunny</th>\n",
       "      <th>unnerving</th>\n",
       "      <th>unsettling</th>\n",
       "      <th>uplifting</th>\n",
       "      <th>victims</th>\n",
       "      <th>violence</th>\n",
       "      <th>violent</th>\n",
       "      <th>visceral</th>\n",
       "      <th>warm</th>\n",
       "      <th>warmth</th>\n",
       "      <th>whimsical</th>\n",
       "      <th>whimsy</th>\n",
       "      <th>whodunit</th>\n",
       "      <th>winning</th>\n",
       "      <th>wit</th>\n",
       "      <th>witty</th>\n",
       "      <th>wonderful</th>\n",
       "      <th>genres</th>\n",
       "      <th>index1</th>\n",
       "    </tr>\n",
       "  </thead>\n",
       "  <tbody>\n",
       "    <tr>\n",
       "      <th>3225</th>\n",
       "      <td>m/living_in_oblivion</td>\n",
       "      <td>0.0</td>\n",
       "      <td>0.0</td>\n",
       "      <td>0.0</td>\n",
       "      <td>1.0</td>\n",
       "      <td>0.0</td>\n",
       "      <td>0.0</td>\n",
       "      <td>0.0</td>\n",
       "      <td>0.0</td>\n",
       "      <td>0.0</td>\n",
       "      <td>0.0</td>\n",
       "      <td>0.0</td>\n",
       "      <td>0.0</td>\n",
       "      <td>0.0</td>\n",
       "      <td>0.0</td>\n",
       "      <td>0.0</td>\n",
       "      <td>1.0</td>\n",
       "      <td>0.0</td>\n",
       "      <td>0.0</td>\n",
       "      <td>0.0</td>\n",
       "      <td>0.0</td>\n",
       "      <td>0.0</td>\n",
       "      <td>0.0</td>\n",
       "      <td>0.0</td>\n",
       "      <td>0.0</td>\n",
       "      <td>0.0</td>\n",
       "      <td>0.0</td>\n",
       "      <td>0.0</td>\n",
       "      <td>0.0</td>\n",
       "      <td>0.0</td>\n",
       "      <td>0.0</td>\n",
       "      <td>0.0</td>\n",
       "      <td>0.0</td>\n",
       "      <td>1.0</td>\n",
       "      <td>0.0</td>\n",
       "      <td>0.0</td>\n",
       "      <td>0.0</td>\n",
       "      <td>0.0</td>\n",
       "      <td>0.0</td>\n",
       "      <td>0.0</td>\n",
       "      <td>0.0</td>\n",
       "      <td>0.0</td>\n",
       "      <td>0.0</td>\n",
       "      <td>0.0</td>\n",
       "      <td>0.0</td>\n",
       "      <td>0.0</td>\n",
       "      <td>0.0</td>\n",
       "      <td>1.0</td>\n",
       "      <td>0.0</td>\n",
       "      <td>0.0</td>\n",
       "      <td>0.0</td>\n",
       "      <td>0.0</td>\n",
       "      <td>0.0</td>\n",
       "      <td>0.0</td>\n",
       "      <td>0.0</td>\n",
       "      <td>0.0</td>\n",
       "      <td>1.0</td>\n",
       "      <td>0.0</td>\n",
       "      <td>0.0</td>\n",
       "      <td>0.0</td>\n",
       "      <td>0.0</td>\n",
       "      <td>0.0</td>\n",
       "      <td>0.0</td>\n",
       "      <td>1.0</td>\n",
       "      <td>1.0</td>\n",
       "      <td>0.0</td>\n",
       "      <td>0.0</td>\n",
       "      <td>0.0</td>\n",
       "      <td>0.0</td>\n",
       "      <td>0.0</td>\n",
       "      <td>0.0</td>\n",
       "      <td>0.0</td>\n",
       "      <td>0.0</td>\n",
       "      <td>0.0</td>\n",
       "      <td>0.0</td>\n",
       "      <td>0.0</td>\n",
       "      <td>0.0</td>\n",
       "      <td>0.0</td>\n",
       "      <td>0.0</td>\n",
       "      <td>0.0</td>\n",
       "      <td>0.0</td>\n",
       "      <td>0.0</td>\n",
       "      <td>0.0</td>\n",
       "      <td>0.0</td>\n",
       "      <td>0.0</td>\n",
       "      <td>0.0</td>\n",
       "      <td>0.0</td>\n",
       "      <td>0.0</td>\n",
       "      <td>0.0</td>\n",
       "      <td>0.0</td>\n",
       "      <td>0.0</td>\n",
       "      <td>0.0</td>\n",
       "      <td>1.0</td>\n",
       "      <td>0.0</td>\n",
       "      <td>0.0</td>\n",
       "      <td>0.0</td>\n",
       "      <td>0.0</td>\n",
       "      <td>0.0</td>\n",
       "      <td>0.0</td>\n",
       "      <td>0.0</td>\n",
       "      <td>0.0</td>\n",
       "      <td>0.0</td>\n",
       "      <td>0.0</td>\n",
       "      <td>0.0</td>\n",
       "      <td>0.0</td>\n",
       "      <td>0.0</td>\n",
       "      <td>0.0</td>\n",
       "      <td>0.0</td>\n",
       "      <td>0.0</td>\n",
       "      <td>0.0</td>\n",
       "      <td>0.0</td>\n",
       "      <td>0.0</td>\n",
       "      <td>0.0</td>\n",
       "      <td>0.0</td>\n",
       "      <td>0.0</td>\n",
       "      <td>0.0</td>\n",
       "      <td>0.0</td>\n",
       "      <td>0.0</td>\n",
       "      <td>0.0</td>\n",
       "      <td>0.0</td>\n",
       "      <td>0.0</td>\n",
       "      <td>0.0</td>\n",
       "      <td>0.0</td>\n",
       "      <td>0.0</td>\n",
       "      <td>1.0</td>\n",
       "      <td>0.0</td>\n",
       "      <td>0.0</td>\n",
       "      <td>0.0</td>\n",
       "      <td>0.0</td>\n",
       "      <td>0.0</td>\n",
       "      <td>0.0</td>\n",
       "      <td>0.0</td>\n",
       "      <td>0.0</td>\n",
       "      <td>0.0</td>\n",
       "      <td>0.0</td>\n",
       "      <td>0.0</td>\n",
       "      <td>0.0</td>\n",
       "      <td>0.0</td>\n",
       "      <td>0.0</td>\n",
       "      <td>0.0</td>\n",
       "      <td>0.0</td>\n",
       "      <td>0.0</td>\n",
       "      <td>0.0</td>\n",
       "      <td>0.0</td>\n",
       "      <td>0.0</td>\n",
       "      <td>0.0</td>\n",
       "      <td>0.0</td>\n",
       "      <td>0.0</td>\n",
       "      <td>0.0</td>\n",
       "      <td>0.0</td>\n",
       "      <td>0.0</td>\n",
       "      <td>0.0</td>\n",
       "      <td>0.0</td>\n",
       "      <td>0.0</td>\n",
       "      <td>0.0</td>\n",
       "      <td>0.0</td>\n",
       "      <td>0.0</td>\n",
       "      <td>0.0</td>\n",
       "      <td>0.0</td>\n",
       "      <td>0.0</td>\n",
       "      <td>0.0</td>\n",
       "      <td>0.0</td>\n",
       "      <td>0.0</td>\n",
       "      <td>0.0</td>\n",
       "      <td>0.0</td>\n",
       "      <td>0.0</td>\n",
       "      <td>0.0</td>\n",
       "      <td>0.0</td>\n",
       "      <td>0.0</td>\n",
       "      <td>0.0</td>\n",
       "      <td>0.0</td>\n",
       "      <td>0.0</td>\n",
       "      <td>0.0</td>\n",
       "      <td>0.0</td>\n",
       "      <td>0.0</td>\n",
       "      <td>0.0</td>\n",
       "      <td>0.0</td>\n",
       "      <td>0.0</td>\n",
       "      <td>0.0</td>\n",
       "      <td>0.0</td>\n",
       "      <td>0.0</td>\n",
       "      <td>0.0</td>\n",
       "      <td>0.0</td>\n",
       "      <td>0.0</td>\n",
       "      <td>0.0</td>\n",
       "      <td>0.0</td>\n",
       "      <td>0.0</td>\n",
       "      <td>0.0</td>\n",
       "      <td>0.0</td>\n",
       "      <td>0.0</td>\n",
       "      <td>0.0</td>\n",
       "      <td>0.0</td>\n",
       "      <td>0.0</td>\n",
       "      <td>0.0</td>\n",
       "      <td>0.0</td>\n",
       "      <td>0.0</td>\n",
       "      <td>0.0</td>\n",
       "      <td>0.0</td>\n",
       "      <td>0.0</td>\n",
       "      <td>1.0</td>\n",
       "      <td>0.0</td>\n",
       "      <td>Family Movie</td>\n",
       "      <td>3225</td>\n",
       "    </tr>\n",
       "  </tbody>\n",
       "</table>\n",
       "</div>"
      ],
      "text/plain": [
       "remove_duplicate_words  rotten_tomatoes_link  adorable  adults  amiable  amusing  animated  animation  antics  appealing  atmosphere  atmospheric    b  bittersweet  blood  bloody  breezy  bright  broad  brutal  campy  charm  charmer  charming  charms  chemistry  children  children's  chiller  chilling  chills  climax  comedic  comedies  comedy  comic  compelling  creepy  crime  cute  dark  delight  delightful  disney  disturbing  dramedy  dread  eerie  effective  effects  efficient  endearing  engrossing  evil  exercise  exploitation  family  farce  fear  friendship  fright  frightening  frights  funnier  funniest  funny  gag  gags  genre  gentle  gore  gory  gothic  gripping  grisly  gruesome  guessing  happy  harmless  harrowing  haunted  haunting  hearted  heartfelt  heartwarming  hilarious  hitchcock  hitchcockian  holes  horrific  horrifying  horror  horrors  humor  intense  intensity  intrigue  intriguing  joke  jokes  jolts  joy  jump  kids  killer  killing  laugh  laughable  \\\n",
       "3225                    m/living_in_oblivion       0.0     0.0      0.0      1.0       0.0        0.0     0.0        0.0         0.0          0.0  0.0          0.0    0.0     0.0     0.0     1.0    0.0     0.0    0.0    0.0      0.0       0.0     0.0        0.0       0.0         0.0      0.0       0.0     0.0     0.0      0.0       0.0     1.0    0.0         0.0     0.0    0.0   0.0   0.0      0.0         0.0     0.0         0.0      0.0    0.0    0.0        1.0      0.0        0.0        0.0         0.0   0.0       0.0           0.0     0.0    1.0   0.0         0.0     0.0          0.0      0.0      0.0       1.0    1.0  0.0   0.0    0.0     0.0   0.0   0.0     0.0       0.0     0.0       0.0       0.0    0.0       0.0        0.0      0.0       0.0      0.0        0.0           0.0        0.0        0.0           0.0    0.0       0.0         0.0     0.0      0.0    1.0      0.0        0.0       0.0         0.0   0.0    0.0    0.0  0.0   0.0   0.0     0.0      0.0    0.0        0.0   \n",
       "\n",
       "remove_duplicate_words  laughs  lessons  light  likable  likeable  love  lovely  lurid  macabre  menace  monster  moody  murder  murky  mystery  nail  natured  nightmare  noir  paranoia  pleasant  poignant  psycho  psychological  pulp  pulpy  puzzle  raunchy  revenge  riveting  rom  romance  romantic  romcom  saccharine  scare  scares  scariest  scary  schlock  screwball  seat  sentiment  sentimental  sentimentality  shocker  shocks  sinister  sitcom  slapstick  slasher  smile  songs  spirited  spooky  stylish  supernatural  suspense  suspenseful  sweet  sweetly  sweetness  taut  tender  tense  tension  terrifying  terror  thrill  thriller  thrillers  thrilling  thrills  touching  twist  twists  twisty  unfunny  unnerving  unsettling  uplifting  victims  violence  violent  visceral  warm  warmth  whimsical  whimsy  whodunit  winning  wit  witty  wonderful        genres  index1  \n",
       "3225                       0.0      0.0    0.0      0.0       0.0   0.0     0.0    0.0      0.0     0.0      0.0    0.0     0.0    0.0      0.0   0.0      0.0        1.0   0.0       0.0       0.0       0.0     0.0            0.0   0.0    0.0     0.0      0.0      0.0       0.0  0.0      0.0       0.0     0.0         0.0    0.0     0.0       0.0    0.0      0.0        0.0   0.0        0.0          0.0             0.0      0.0     0.0       0.0     0.0        0.0      0.0    0.0    0.0       0.0     0.0      0.0           0.0       0.0          0.0    0.0      0.0        0.0   0.0     0.0    0.0      0.0         0.0     0.0     0.0       0.0        0.0        0.0      0.0       0.0    0.0     0.0     0.0      0.0        0.0         0.0        0.0      0.0       0.0      0.0       0.0   0.0     0.0        0.0     0.0       0.0      0.0  0.0    1.0        0.0  Family Movie    3225  "
      ]
     },
     "execution_count": 895,
     "metadata": {},
     "output_type": "execute_result"
    }
   ],
   "source": [
    "hor_fam_two[hor_fam_two['rotten_tomatoes_link'] == 'm/living_in_oblivion']"
   ]
  },
  {
   "cell_type": "markdown",
   "id": "6762773d",
   "metadata": {},
   "source": [
    "## For predicting audience rating\n",
    "### two hundred information gain for predicting audience ratings"
   ]
  },
  {
   "cell_type": "code",
   "execution_count": 977,
   "id": "343482e7",
   "metadata": {},
   "outputs": [
    {
     "name": "stdout",
     "output_type": "stream",
     "text": [
      "                    rotten_tomatoes_link                                        movie_title                                  critics_consensus                                             genres  tomatometer_rating  audience_rating tomato_binary_rating audience_binary_rating\n",
      "0                              m/0814255  Percy Jackson & the Olympians: The Lightning T...  Though it may seem like just another Harry Pot...  Action & Adventure, Comedy, Drama, Science Fic...                49.0             53.0                    0                      0\n",
      "1                              m/0878835                                        Please Give  Nicole Holofcener's newest might seem slight i...                                             Comedy                87.0             64.0                    1                      1\n",
      "2                                   m/10                                                 10  Blake Edwards' bawdy comedy may not score a pe...                                    Comedy, Romance                67.0             53.0                    1                      0\n",
      "3                 m/1000013-12_angry_men                    12 Angry Men (Twelve Angry Men)  Sidney Lumet's feature debut is a superbly wri...                                    Classics, Drama               100.0             97.0                    1                      1\n",
      "4  m/1000079-20000_leagues_under_the_sea                       20,000 Leagues Under The Sea  One of Disney's finest live-action adventures,...           Action & Adventure, Drama, Kids & Family                89.0             74.0                    1                      1\n"
     ]
    }
   ],
   "source": [
    "print(movie1.head())\n",
    "mapping = dict(word_frequency[['words', 'has_freq']].values)\n",
    "word_frequency_genres['has_freq'] = word_frequency_genres.remove_duplicate_words.map(mapping)"
   ]
  },
  {
   "cell_type": "code",
   "execution_count": 978,
   "id": "cfd464df",
   "metadata": {},
   "outputs": [],
   "source": [
    "#print(hor_fam_four.head())\n",
    "\n",
    "mapping_torating = dict(movie1[['rotten_tomatoes_link', 'tomato_binary_rating']].values)\n",
    "hor_fam_two['tomato_binary_rating'] = hor_fam_two.rotten_tomatoes_link.map(mapping_torating)\n",
    "mapping_aurating = dict(movie1[['rotten_tomatoes_link', 'audience_binary_rating']].values)\n",
    "hor_fam_two['audience_binary_rating'] = hor_fam_two.rotten_tomatoes_link.map(mapping_aurating)\n",
    "#print(hor_fam_two1.head())"
   ]
  },
  {
   "cell_type": "code",
   "execution_count": 979,
   "id": "40d9c581",
   "metadata": {},
   "outputs": [
    {
     "name": "stdout",
     "output_type": "stream",
     "text": [
      "remove_duplicate_words                   rotten_tomatoes_link  absorbing  action  actioner  adorable  adrenaline  adult  adults  affable  affection  affirming  age  ages  agreeable  aimed  alfred  ambiguity  amiable  amusing  animated  animation  antics  apocalyptic  appeal  appealing  atmosphere  atmospheric  atmospherics    b  bang  biter  bittersweet  blood  bloodbath  bloodshed  bloody  bourne  breezy  bright  broad  brooding  brutal  brutality  budget  build  building  builds  burn  camp  campy  carnage  cartoon  charm  charmer  charming  charms  chemistry  chick  children  children's  chiller  chilling  chillingly  chills  chuckle  chuckles  claustrophobic  climax  cloying  cold  com  comedian  comedic  comedies  comedy  comic  compelling  conspiracy  convoluted  crass  creep  creepiness  creepy  crime  crude  cult  cute  cuteness  cutesy  dancing  dark  deaths  delight  delightful  demon  demonic  detective  disney  disney's  disturbing  dramedy  dread  editing  eerie  \\\n",
      "0                                                   m/0814255        0.0     1.0       0.0       0.0         0.0    1.0     1.0      0.0        1.0        0.0  1.0   0.0        1.0    1.0     0.0        0.0      0.0      1.0       0.0        0.0     0.0          0.0     1.0        0.0         0.0          0.0           0.0  0.0   0.0    0.0          0.0    0.0        0.0        0.0     0.0     0.0     0.0     1.0    0.0       0.0     0.0        0.0     1.0    0.0       0.0     1.0   0.0   1.0    0.0      0.0      0.0    1.0      0.0       0.0     0.0        0.0    0.0       1.0         0.0      0.0       0.0         0.0     0.0      0.0       0.0             0.0     0.0      0.0   0.0  0.0       0.0      0.0       0.0     0.0    0.0         1.0         0.0         0.0    1.0    0.0         0.0     0.0    0.0    0.0   0.0   0.0       0.0     0.0      0.0   1.0     0.0      0.0         0.0    0.0      0.0        0.0     1.0       0.0         0.0      0.0    0.0      0.0    0.0   \n",
      "1                                                   m/0878835        1.0     0.0       0.0       0.0         0.0    1.0     1.0      0.0        0.0        0.0  1.0   0.0        0.0    0.0     0.0        0.0      0.0      1.0       0.0        0.0     0.0          0.0     0.0        0.0         0.0          0.0           0.0  0.0   0.0    0.0          0.0    0.0        0.0        0.0     0.0     0.0     1.0     0.0    0.0       0.0     0.0        0.0     0.0    0.0       0.0     0.0   0.0   0.0    0.0      0.0      1.0    1.0      0.0       1.0     0.0        0.0    1.0       0.0         0.0      0.0       0.0         0.0     0.0      0.0       0.0             0.0     0.0      1.0   0.0  0.0       0.0      0.0       0.0     1.0    1.0         0.0         0.0         0.0    0.0    0.0         0.0     0.0    0.0    0.0   0.0   0.0       0.0     0.0      0.0   1.0     0.0      0.0         0.0    0.0      0.0        0.0     0.0       0.0         0.0      1.0    1.0      0.0    0.0   \n",
      "2                                                        m/10        0.0     0.0       0.0       0.0         0.0    0.0     1.0      0.0        0.0        0.0  0.0   0.0        0.0    0.0     0.0        0.0      0.0      0.0       0.0        0.0     0.0          0.0     0.0        0.0         0.0          0.0           0.0  0.0   0.0    0.0          1.0    0.0        0.0        0.0     0.0     0.0     0.0     0.0    0.0       0.0     0.0        0.0     0.0    0.0       0.0     0.0   0.0   0.0    0.0      0.0      0.0    0.0      0.0       1.0     0.0        0.0    0.0       0.0         0.0      0.0       0.0         0.0     0.0      0.0       0.0             0.0     0.0      0.0   0.0  0.0       0.0      0.0       1.0     1.0    0.0         0.0         0.0         0.0    0.0    0.0         0.0     0.0    0.0    0.0   0.0   0.0       0.0     0.0      0.0   0.0     0.0      0.0         0.0    0.0      0.0        0.0     0.0       0.0         0.0      0.0    0.0      0.0    0.0   \n",
      "3                       m/1000079-20000_leagues_under_the_sea        0.0     1.0       0.0       0.0         0.0    0.0     0.0      0.0        0.0        0.0  0.0   0.0        0.0    0.0     0.0        0.0      0.0      0.0       0.0        0.0     0.0          0.0     0.0        0.0         0.0          0.0           0.0  0.0   0.0    0.0          0.0    0.0        0.0        0.0     0.0     0.0     0.0     0.0    0.0       0.0     0.0        0.0     0.0    0.0       0.0     0.0   0.0   0.0    0.0      0.0      0.0    0.0      0.0       0.0     0.0        0.0    0.0       0.0         0.0      0.0       0.0         0.0     0.0      0.0       0.0             0.0     0.0      0.0   0.0  0.0       0.0      0.0       0.0     0.0    0.0         0.0         0.0         0.0    0.0    0.0         0.0     0.0    0.0    0.0   0.0   0.0       0.0     0.0      0.0   0.0     0.0      0.0         0.0    0.0      0.0        0.0     1.0       1.0         0.0      0.0    0.0      0.0    0.0   \n",
      "4                                          m/1000121-39_steps        0.0     0.0       0.0       0.0         0.0    0.0     0.0      0.0        0.0        0.0  0.0   0.0        0.0    0.0     1.0        0.0      0.0      0.0       0.0        0.0     0.0          0.0     0.0        0.0         1.0          0.0           0.0  0.0   0.0    0.0          0.0    0.0        0.0        0.0     0.0     0.0     0.0     0.0    0.0       0.0     0.0        0.0     0.0    0.0       0.0     0.0   1.0   0.0    0.0      0.0      0.0    0.0      0.0       0.0     0.0        1.0    0.0       0.0         0.0      0.0       0.0         0.0     0.0      0.0       0.0             0.0     0.0      0.0   0.0  0.0       0.0      1.0       0.0     1.0    1.0         0.0         0.0         0.0    0.0    0.0         0.0     0.0    0.0    0.0   0.0   0.0       0.0     0.0      0.0   0.0     0.0      0.0         0.0    0.0      0.0        1.0     0.0       0.0         0.0      0.0    0.0      0.0    0.0   \n",
      "\n",
      "remove_duplicate_words  effective  effectively  effects  efficient  elements   em  enchanting  endearing  engrossing  enjoyable  espionage  evil  excitement  exciting  exercise  exorcist  exploitation  exploitative  fairy  families  family  farce  fascinating  fear   fi  fiction  filmmaking  final  flick  fluff  fluffy  forced  foreboding  friendly  friends  friendship  fright  frightening  frights  frothy  funnier  funniest  funny  gag  gags  genial  genre  gentle  gently  gore  gory  gothic  graphic  grim  grindhouse  gripping  grisly  gritty  gruesome  guessing  guignol  halloween  happiness  happy  harmless  harrowing  haunted  haunting  heart  hearted  heartfelt  heartwarming  herrings  hilarious  hilarity  hitchcock  hitchcock's  hitchcockian  holes  honest  horrific  horrifying  horror  horrors  humor  humour  imagery  innocuous  inoffensive  intense  intensity  interesting  intrigue  intriguing  irresistible  joke  jokes  jolts  joy  joyful  joyous  jump  kid  kiddie  kids  \\\n",
      "0                             0.0          0.0      1.0        0.0       0.0  0.0         0.0        0.0         0.0        1.0        0.0   0.0         0.0       1.0       0.0       0.0           0.0           0.0    0.0       0.0     1.0    0.0          0.0   0.0  0.0      0.0         1.0    0.0    1.0    0.0     0.0     0.0         0.0       1.0      0.0         1.0     0.0          0.0      0.0     0.0      0.0       0.0    0.0  0.0   0.0     1.0    1.0     0.0     0.0   0.0   0.0     0.0      0.0   0.0         0.0       0.0     0.0     0.0       0.0       0.0      0.0        0.0        0.0    1.0       0.0        0.0      0.0       0.0    1.0      0.0        0.0           0.0       0.0        0.0       0.0        0.0          0.0           0.0    1.0     1.0       0.0         0.0     0.0      0.0    1.0     1.0      0.0        1.0          1.0      0.0        0.0          1.0       0.0         0.0           0.0   0.0    1.0    0.0  0.0     1.0     0.0   0.0  1.0     0.0   1.0   \n",
      "1                             0.0          0.0      0.0        0.0       0.0  0.0         0.0        0.0         0.0        1.0        0.0   0.0         0.0       0.0       0.0       0.0           0.0           0.0    0.0       0.0     1.0    0.0          1.0   0.0  0.0      0.0         0.0    0.0    1.0    0.0     0.0     1.0         0.0       0.0      1.0         0.0     0.0          0.0      0.0     0.0      0.0       0.0    1.0  0.0   0.0     0.0    1.0     0.0     0.0   0.0   0.0     0.0      0.0   0.0         0.0       1.0     0.0     0.0       0.0       0.0      0.0        0.0        0.0    0.0       1.0        0.0      0.0       1.0    0.0      1.0        0.0           1.0       0.0        0.0       0.0        0.0          0.0           0.0    0.0     1.0       0.0         0.0     0.0      0.0    1.0     1.0      0.0        0.0          0.0      0.0        0.0          1.0       0.0         0.0           0.0   0.0    0.0    0.0  1.0     0.0     0.0   0.0  0.0     0.0   0.0   \n",
      "2                             0.0          0.0      0.0        0.0       0.0  0.0         0.0        0.0         0.0        0.0        0.0   0.0         0.0       0.0       0.0       0.0           0.0           0.0    0.0       0.0     0.0    0.0          1.0   0.0  0.0      0.0         0.0    0.0    0.0    0.0     0.0     0.0         0.0       0.0      0.0         0.0     0.0          0.0      0.0     0.0      0.0       0.0    1.0  0.0   1.0     0.0    0.0     0.0     0.0   0.0   0.0     0.0      0.0   0.0         0.0       0.0     0.0     0.0       0.0       0.0      0.0        0.0        0.0    0.0       0.0        0.0      0.0       0.0    0.0      0.0        0.0           0.0       0.0        1.0       0.0        0.0          0.0           0.0    0.0     0.0       0.0         0.0     0.0      0.0    0.0     0.0      0.0        0.0          0.0      0.0        0.0          1.0       0.0         0.0           0.0   0.0    0.0    0.0  0.0     0.0     0.0   0.0  0.0     0.0   0.0   \n",
      "3                             0.0          0.0      1.0        0.0       0.0  0.0         0.0        0.0         0.0        0.0        0.0   0.0         1.0       1.0       0.0       0.0           0.0           0.0    0.0       0.0     1.0    0.0          0.0   0.0  0.0      0.0         0.0    0.0    1.0    0.0     0.0     0.0         0.0       0.0      0.0         0.0     0.0          0.0      0.0     0.0      0.0       0.0    0.0  0.0   0.0     0.0    1.0     0.0     0.0   0.0   0.0     0.0      0.0   0.0         0.0       0.0     0.0     0.0       0.0       0.0      0.0        0.0        0.0    0.0       0.0        0.0      0.0       0.0    0.0      0.0        0.0           0.0       0.0        0.0       0.0        0.0          0.0           0.0    0.0     0.0       0.0         0.0     0.0      0.0    0.0     0.0      0.0        0.0          0.0      0.0        0.0          0.0       0.0         0.0           0.0   0.0    0.0    0.0  0.0     0.0     0.0   0.0  0.0     0.0   1.0   \n",
      "4                             0.0          0.0      0.0        0.0       0.0  0.0         0.0        0.0         0.0        1.0        1.0   0.0         0.0       1.0       0.0       0.0           0.0           0.0    0.0       0.0     0.0    0.0          0.0   0.0  0.0      0.0         1.0    1.0    0.0    0.0     0.0     1.0         0.0       0.0      0.0         0.0     0.0          0.0      0.0     0.0      0.0       0.0    0.0  0.0   0.0     0.0    0.0     0.0     0.0   0.0   0.0     0.0      0.0   0.0         0.0       1.0     0.0     0.0       0.0       0.0      0.0        0.0        0.0    0.0       0.0        1.0      0.0       0.0    0.0      0.0        0.0           0.0       0.0        0.0       0.0        1.0          1.0           0.0    0.0     0.0       0.0         0.0     0.0      0.0    1.0     0.0      0.0        0.0          0.0      0.0        0.0          0.0       0.0         0.0           0.0   0.0    0.0    0.0  0.0     0.0     0.0   0.0  0.0     0.0   0.0   \n",
      "\n",
      "remove_duplicate_words  kill  killer  killing  knuckle  laugh  laughable  laughed  laughing  laughs  laughter  lean  lessons  life  light  likable  likeable  lively  logic  lovable  love  lovely  ludicrous  lurid  macabre  magic  magical  mayhem  menace  menacing  message  monster  moody  murder  murderous  murky  musical  mystery  nail  nasty  natured  nerve  nightmare  nightmarish  noir  observations  observed  older  ominous  paranoia  paranoid  paranormal  parents  payoff  pixar  pleasant  plot  poignant  police  popcorn  potboiler  pounding  pratfalls  preposterous  procedural  provocative  psycho  psychological  pulp  pulpy  puzzle  questions  quirky  raucous  raunchy  red  revenge  ride  risible  riveting  rom  romance  romantic  romcom  romp  saccharine  sadism  sadistic  sappy  scare  scared  scares  scarier  scariest  scary  schlock  schlocky  schmaltz  sci  science  screwball  seat  sentiment  sentimental  sentimentality  serial  shivers  shock  shocker  shocking  shocks  \\\n",
      "0                        0.0     0.0      0.0      0.0    0.0        0.0      0.0       0.0     1.0       0.0   0.0      0.0   0.0    0.0      1.0       1.0     0.0    0.0      0.0   1.0     0.0        1.0    0.0      0.0    1.0      0.0     0.0     0.0       0.0      0.0      0.0    0.0     0.0        0.0    0.0      0.0      0.0   0.0    0.0      0.0    0.0        0.0          0.0   0.0           0.0       0.0    1.0      0.0       0.0       0.0         0.0      1.0     0.0    0.0       1.0   1.0       0.0     0.0      0.0        0.0       0.0        0.0           0.0         0.0          0.0     0.0            0.0   0.0    0.0     0.0        0.0     0.0      0.0      0.0  0.0      0.0   1.0      0.0       0.0  0.0      0.0       0.0     0.0   1.0         0.0     0.0       0.0    0.0    0.0     0.0     0.0      0.0       0.0    1.0      0.0       0.0       0.0  0.0      0.0        0.0   1.0        0.0          0.0             0.0     0.0      0.0    0.0      0.0       0.0     0.0   \n",
      "1                        0.0     0.0      0.0      0.0    1.0        0.0      0.0       1.0     1.0       1.0   0.0      0.0   1.0    1.0      1.0       1.0     1.0    1.0      0.0   1.0     1.0        0.0    0.0      0.0    0.0      0.0     0.0     0.0       0.0      0.0      0.0    0.0     0.0        0.0    0.0      0.0      0.0   0.0    0.0      0.0    0.0        0.0          0.0   0.0           1.0       1.0    0.0      0.0       0.0       0.0         0.0      0.0     1.0    0.0       0.0   1.0       1.0     0.0      0.0        0.0       0.0        0.0           0.0         0.0          0.0     0.0            0.0   0.0    0.0     0.0        0.0     0.0      0.0      0.0  0.0      0.0   0.0      0.0       0.0  0.0      1.0       1.0     0.0   0.0         0.0     0.0       0.0    0.0    0.0     0.0     0.0      0.0       0.0    0.0      0.0       0.0       0.0  0.0      0.0        0.0   0.0        0.0          0.0             0.0     0.0      0.0    0.0      0.0       0.0     0.0   \n",
      "2                        0.0     0.0      0.0      0.0    0.0        0.0      0.0       0.0     1.0       0.0   0.0      0.0   0.0    0.0      0.0       0.0     0.0    0.0      0.0   0.0     0.0        0.0    0.0      0.0    0.0      0.0     0.0     0.0       0.0      0.0      0.0    0.0     0.0        0.0    0.0      0.0      0.0   0.0    0.0      0.0    0.0        0.0          0.0   0.0           0.0       0.0    0.0      0.0       0.0       0.0         0.0      0.0     0.0    0.0       0.0   0.0       0.0     0.0      0.0        0.0       0.0        0.0           0.0         0.0          0.0     0.0            0.0   0.0    0.0     0.0        0.0     0.0      0.0      0.0  0.0      0.0   0.0      0.0       0.0  0.0      0.0       1.0     0.0   0.0         0.0     0.0       0.0    0.0    0.0     0.0     0.0      0.0       0.0    0.0      0.0       0.0       0.0  0.0      0.0        0.0   0.0        0.0          0.0             0.0     0.0      0.0    0.0      0.0       0.0     0.0   \n",
      "3                        0.0     0.0      0.0      0.0    0.0        0.0      0.0       0.0     0.0       0.0   0.0      0.0   0.0    0.0      0.0       0.0     0.0    0.0      0.0   0.0     0.0        0.0    0.0      0.0    0.0      0.0     0.0     0.0       0.0      0.0      0.0    0.0     0.0        0.0    0.0      0.0      0.0   0.0    0.0      0.0    0.0        0.0          0.0   0.0           0.0       0.0    1.0      0.0       0.0       0.0         0.0      0.0     0.0    0.0       0.0   0.0       0.0     0.0      0.0        0.0       0.0        0.0           0.0         0.0          0.0     0.0            0.0   0.0    0.0     0.0        0.0     0.0      0.0      0.0  0.0      0.0   1.0      0.0       0.0  0.0      0.0       0.0     0.0   0.0         0.0     0.0       0.0    0.0    0.0     0.0     0.0      0.0       0.0    0.0      0.0       0.0       0.0  0.0      0.0        0.0   0.0        0.0          0.0             0.0     0.0      0.0    0.0      0.0       0.0     0.0   \n",
      "4                        0.0     0.0      0.0      0.0    0.0        0.0      0.0       0.0     0.0       0.0   0.0      0.0   0.0    1.0      0.0       0.0     0.0    0.0      0.0   1.0     0.0        0.0    0.0      0.0    0.0      0.0     0.0     0.0       0.0      0.0      0.0    0.0     0.0        0.0    0.0      0.0      1.0   0.0    0.0      0.0    0.0        0.0          0.0   0.0           0.0       0.0    0.0      0.0       0.0       0.0         0.0      0.0     0.0    0.0       0.0   0.0       0.0     0.0      0.0        0.0       0.0        0.0           0.0         0.0          0.0     0.0            0.0   0.0    0.0     0.0        0.0     0.0      0.0      0.0  0.0      0.0   0.0      0.0       0.0  0.0      1.0       1.0     0.0   0.0         0.0     0.0       0.0    0.0    0.0     0.0     0.0      0.0       0.0    0.0      0.0       0.0       0.0  0.0      0.0        0.0   0.0        0.0          0.0             0.0     0.0      0.0    0.0      0.0       0.0     0.0   \n",
      "\n",
      "remove_duplicate_words  shtick  sincerity  singing  sinister  sitcom  skin  slapstick  slasher  sleek  slick  slight  slow  smile  songs  sparkling  spine  spirit  spirited  splatter  spook  spooky  stars  stylish  stylishly  sugar  supernatural  suspense  suspenseful  sweet  sweetly  sweetness  taut  tears  tender  tense  tension  terrifying  terror  thrill  thriller  thrillers  thrilling  thrills  tight  timing  touching  tropes  twist  twisted  twists  twisty  unease  unfunny  unintentional  unnerving  unsettling  upbeat  uplifting  victims  villain  violence  violent  visceral  viscerally  vocal  wacky  warm  warmth  whimsical  whimsy  whodunit  winning  wisdom  wit  witty  wonderful  yarn  young  younger  youngsters  zany  zombie             genres  index1 tomato_binary_rating audience_binary_rating  \n",
      "0                          0.0        0.0      0.0       0.0     0.0   0.0        0.0      0.0    0.0    0.0     0.0   1.0    0.0    0.0        0.0    0.0     1.0       0.0       0.0    0.0     0.0    1.0      0.0        0.0    0.0           0.0       0.0          1.0    0.0      0.0        0.0   1.0    0.0     0.0    0.0      0.0         0.0     0.0     1.0       0.0        0.0        0.0      1.0    0.0     0.0       0.0     1.0    0.0      0.0     0.0     0.0     0.0      0.0            0.0        0.0         0.0     0.0        0.0      0.0      0.0       0.0      0.0       0.0         0.0    0.0    0.0   0.0     0.0        0.0     1.0       0.0      1.0     0.0  1.0    1.0        0.0   0.0    1.0      1.0         1.0   0.0     0.0       Family Movie       0                    0                      0  \n",
      "1                          0.0        0.0      0.0       0.0     0.0   0.0        0.0      0.0    0.0    0.0     0.0   0.0    0.0    0.0        0.0    0.0     1.0       0.0       0.0    0.0     0.0    0.0      0.0        0.0    0.0           0.0       0.0          0.0    0.0      0.0        0.0   0.0    0.0     1.0    0.0      0.0         0.0     0.0     0.0       0.0        0.0        0.0      0.0    0.0     0.0       1.0     0.0    0.0      0.0     0.0     0.0     0.0      0.0            0.0        0.0         0.0     0.0        0.0      0.0      0.0       0.0      0.0       0.0         0.0    0.0    0.0   1.0     1.0        0.0     1.0       0.0      0.0     0.0  1.0    1.0        1.0   0.0    0.0      0.0         0.0   0.0     0.0       Family Movie       1                    1                      1  \n",
      "2                          0.0        0.0      0.0       0.0     0.0   0.0        0.0      0.0    0.0    0.0     0.0   0.0    0.0    0.0        0.0    0.0     0.0       0.0       0.0    0.0     0.0    0.0      0.0        0.0    0.0           0.0       0.0          0.0    0.0      0.0        0.0   0.0    0.0     0.0    0.0      0.0         0.0     0.0     0.0       0.0        0.0        0.0      0.0    0.0     0.0       0.0     0.0    0.0      0.0     0.0     0.0     0.0      0.0            0.0        0.0         0.0     0.0        0.0      0.0      0.0       0.0      0.0       0.0         0.0    0.0    0.0   0.0     0.0        0.0     0.0       0.0      0.0     0.0  0.0    0.0        0.0   0.0    0.0      0.0         0.0   0.0     0.0       Family Movie       2                    1                      0  \n",
      "3                          0.0        0.0      0.0       0.0     0.0   0.0        0.0      0.0    0.0    0.0     0.0   0.0    0.0    0.0        0.0    0.0     0.0       0.0       0.0    0.0     0.0    0.0      0.0        0.0    0.0           0.0       0.0          0.0    0.0      0.0        0.0   0.0    0.0     0.0    0.0      0.0         0.0     0.0     1.0       0.0        0.0        0.0      0.0    0.0     0.0       0.0     0.0    0.0      0.0     0.0     0.0     0.0      0.0            0.0        0.0         0.0     0.0        0.0      0.0      0.0       1.0      0.0       0.0         0.0    0.0    0.0   0.0     0.0        0.0     0.0       0.0      0.0     0.0  0.0    0.0        0.0   0.0    0.0      0.0         0.0   0.0     0.0       Family Movie       3                    1                      1  \n",
      "4                          0.0        0.0      0.0       0.0     0.0   0.0        0.0      0.0    0.0    0.0     0.0   0.0    0.0    0.0        0.0    0.0     0.0       0.0       0.0    0.0     0.0    0.0      0.0        0.0    0.0           0.0       1.0          0.0    0.0      0.0        0.0   0.0    0.0     0.0    0.0      0.0         0.0     0.0     0.0       1.0        1.0        0.0      0.0    0.0     1.0       0.0     0.0    0.0      0.0     1.0     0.0     0.0      0.0            0.0        0.0         0.0     0.0        0.0      0.0      0.0       0.0      0.0       0.0         0.0    0.0    0.0   0.0     0.0        0.0     0.0       0.0      0.0     0.0  1.0    0.0        1.0   0.0    0.0      0.0         0.0   0.0     0.0  Horror & Suspense       4                    1                      1  \n"
     ]
    }
   ],
   "source": [
    "mapping_torating = dict(movie1[['rotten_tomatoes_link', 'tomato_binary_rating']].values)\n",
    "hor_fam_four['tomato_binary_rating'] = hor_fam_four.rotten_tomatoes_link.map(mapping_torating)\n",
    "mapping_aurating = dict(movie1[['rotten_tomatoes_link', 'audience_binary_rating']].values)\n",
    "hor_fam_four['audience_binary_rating'] = hor_fam_four.rotten_tomatoes_link.map(mapping_aurating)\n",
    "print(hor_fam_four.head())"
   ]
  },
  {
   "cell_type": "code",
   "execution_count": 980,
   "id": "0e4a202d",
   "metadata": {},
   "outputs": [],
   "source": [
    "hor_fam_two2 = hor_fam_two.copy()\n",
    "hor_fam_two2 = hor_fam_two2.drop(['rotten_tomatoes_link', 'genres'], axis=1)\n",
    "hor_fam_four2 = hor_fam_four.copy()\n",
    "hor_fam_four2 = hor_fam_four2.drop(['rotten_tomatoes_link', 'genres'], axis=1)"
   ]
  },
  {
   "cell_type": "code",
   "execution_count": 981,
   "id": "d85a74f8",
   "metadata": {},
   "outputs": [],
   "source": [
    "y = hor_fam_two2['audience_binary_rating']                 \n",
    "X = hor_fam_two2.drop(['audience_binary_rating'], axis=1)"
   ]
  },
  {
   "cell_type": "code",
   "execution_count": 982,
   "id": "20e084d4",
   "metadata": {},
   "outputs": [],
   "source": [
    "from sklearn.model_selection import train_test_split\n",
    "X_train, X_test, y_train, y_test = train_test_split(X, y, random_state=1, test_size=0.2)"
   ]
  },
  {
   "cell_type": "code",
   "execution_count": 983,
   "id": "2fdb4952",
   "metadata": {},
   "outputs": [],
   "source": [
    "X_train = minmax_scale(X_train)\n",
    "X_test = minmax_scale(X_test)"
   ]
  },
  {
   "cell_type": "code",
   "execution_count": 984,
   "id": "258546d6",
   "metadata": {},
   "outputs": [],
   "source": [
    "from sklearn.model_selection import RandomizedSearchCV"
   ]
  },
  {
   "cell_type": "code",
   "execution_count": 985,
   "id": "186eb10d",
   "metadata": {},
   "outputs": [],
   "source": [
    "from sklearn.ensemble import RandomForestRegressor\n",
    "rf = RandomForestRegressor(random_state = 42)\n",
    "from pprint import pprint\n"
   ]
  },
  {
   "cell_type": "code",
   "execution_count": 986,
   "id": "c690b79c",
   "metadata": {},
   "outputs": [
    {
     "data": {
      "text/plain": [
       "RandomForestClassifier(max_depth=46, max_features=70, min_samples_leaf=20,\n",
       "                       n_estimators=50, random_state=1)"
      ]
     },
     "execution_count": 986,
     "metadata": {},
     "output_type": "execute_result"
    }
   ],
   "source": [
    "RF = RandomForestClassifier(random_state = 1, max_depth = 46, \n",
    "                            max_features=70, min_samples_leaf = 20,\n",
    "                           n_estimators=50)\n",
    "RF.fit(X_train, y_train)"
   ]
  },
  {
   "cell_type": "code",
   "execution_count": 987,
   "id": "cca025fe",
   "metadata": {},
   "outputs": [],
   "source": [
    "hyper_params = {'max_depth': range(3, 50),\n",
    "                'max_features': range(3, 50),\n",
    "                'min_samples_leaf': range(20, 400, 50)\n",
    "                }"
   ]
  },
  {
   "cell_type": "code",
   "execution_count": 988,
   "id": "70428dab",
   "metadata": {},
   "outputs": [
    {
     "data": {
      "text/plain": [
       "DecisionTreeClassifier(max_depth=32, max_features=40, min_samples_leaf=5,\n",
       "                       random_state=1)"
      ]
     },
     "execution_count": 988,
     "metadata": {},
     "output_type": "execute_result"
    }
   ],
   "source": [
    "DT = DecisionTreeClassifier(random_state = 1, max_depth = 32, \n",
    "                            max_features=40, min_samples_leaf = 5)\n",
    "DT.fit(X_train, y_train)"
   ]
  },
  {
   "cell_type": "code",
   "execution_count": 989,
   "id": "59012047",
   "metadata": {},
   "outputs": [],
   "source": [
    "models = [DT, RF]\n",
    "names = ['DT', 'RF']\n",
    "evaluation = ['accuracy', 'precision', 'recall', 'f1']"
   ]
  },
  {
   "cell_type": "code",
   "execution_count": 990,
   "id": "97282111",
   "metadata": {},
   "outputs": [],
   "source": [
    "from sklearn.metrics import confusion_matrix"
   ]
  },
  {
   "cell_type": "code",
   "execution_count": 991,
   "id": "05c9083c",
   "metadata": {},
   "outputs": [
    {
     "name": "stdout",
     "output_type": "stream",
     "text": [
      "The two hundred information gain dataset predicts the audience ratings\n",
      "DT training_set: accuracy:0.845, precision:0.859, recall:0.833, f1:0.846\n",
      "DT test_set: accuracy:0.683, precision:0.695, recall:0.677, f1:0.686\n",
      "                   precision    recall  f1-score   support\n",
      "\n",
      "Horror & Suspense       0.67      0.69      0.68       576\n",
      "     Family Movie       0.70      0.68      0.69       603\n",
      "\n",
      "         accuracy                           0.68      1179\n",
      "        macro avg       0.68      0.68      0.68      1179\n",
      "     weighted avg       0.68      0.68      0.68      1179\n",
      "\n"
     ]
    },
    {
     "data": {
      "image/png": "[encoded data removed]",
      "text/plain": [
       "<Figure size 432x288 with 2 Axes>"
      ]
     },
     "metadata": {
      "needs_background": "light"
     },
     "output_type": "display_data"
    },
    {
     "name": "stdout",
     "output_type": "stream",
     "text": [
      "RF training_set: accuracy:0.787, precision:0.79, recall:0.793, f1:0.791\n",
      "RF test_set: accuracy:0.776, precision:0.777, recall:0.789, f1:0.783\n",
      "                   precision    recall  f1-score   support\n",
      "\n",
      "Horror & Suspense       0.78      0.76      0.77       576\n",
      "     Family Movie       0.78      0.79      0.78       603\n",
      "\n",
      "         accuracy                           0.78      1179\n",
      "        macro avg       0.78      0.78      0.78      1179\n",
      "     weighted avg       0.78      0.78      0.78      1179\n",
      "\n"
     ]
    },
    {
     "data": {
      "image/png": "[encoded data removed]",
      "text/plain": [
       "<Figure size 432x288 with 2 Axes>"
      ]
     },
     "metadata": {
      "needs_background": "light"
     },
     "output_type": "display_data"
    }
   ],
   "source": [
    "df_list = []\n",
    "print('The two hundred information gain dataset predicts the audience ratings')\n",
    "for name, model in zip(names, models):\n",
    "    y_train_pred = model.predict(X_train)\n",
    "    y_test_pred = model.predict(X_test)\n",
    "    \n",
    "    \n",
    "    #accuracy\n",
    "    #train_accuracy = model.score(X_train, y_train)\n",
    "    train_accuracy = accuracy_score(y_train, y_train_pred)\n",
    "    #test_accuracy = model.score(X_test, y_test)\n",
    "    test_accuracy = accuracy_score(y_test, y_test_pred)\n",
    "    \n",
    "    #precision\n",
    "    train_precision = precision_score(y_train, y_train_pred, pos_label='1')\n",
    "    test_precision = precision_score(y_test, y_test_pred, pos_label='1')\n",
    "    \n",
    "    #recall\n",
    "    train_recall = recall_score(y_train, y_train_pred, pos_label='1')\n",
    "    test_recall = recall_score(y_test, y_test_pred, pos_label='1')\n",
    "\n",
    "    #f1\n",
    "    train_f1 = f1_score(y_train, y_train_pred, pos_label='1')\n",
    "    test_f1 = f1_score(y_test, y_test_pred, pos_label='1')\n",
    "    \n",
    "    print('{} training_set: accuracy:{:.3}, precision:{:.3}, recall:{:.3}, f1:{:.3}'\n",
    "         .format(name, train_accuracy, train_precision, train_recall, train_f1))\n",
    "    print('{} test_set: accuracy:{:.3}, precision:{:.3}, recall:{:.3}, f1:{:.3}'\n",
    "         .format(name, test_accuracy, test_precision, test_recall, test_f1))\n",
    "    target_names = ['Horror & Suspense', 'Family Movie']\n",
    "    print(classification_report(y_test, y_test_pred, target_names = target_names))\n",
    "    confusion_matrix = metrics.confusion_matrix(y_test, y_test_pred)\n",
    "    cm_display = metrics.ConfusionMatrixDisplay(confusion_matrix = confusion_matrix, display_labels = [False, True])\n",
    "\n",
    "    cm_display.plot()\n",
    "    plt.show()"
   ]
  },
  {
   "cell_type": "code",
   "execution_count": 992,
   "id": "80fe1a43",
   "metadata": {},
   "outputs": [],
   "source": [
    "from xgboost import XGBClassifier\n",
    "import xgboost as xgb"
   ]
  },
  {
   "cell_type": "code",
   "execution_count": 993,
   "id": "561478e1",
   "metadata": {},
   "outputs": [],
   "source": [
    "xgbc = XGBClassifier()"
   ]
  },
  {
   "cell_type": "code",
   "execution_count": 994,
   "id": "182c7f1f",
   "metadata": {},
   "outputs": [],
   "source": [
    "X_train, X_test, y_train, y_test = train_test_split(X, y, random_state=1, test_size=0.2, stratify = y)"
   ]
  },
  {
   "cell_type": "code",
   "execution_count": 995,
   "id": "86803bcb",
   "metadata": {},
   "outputs": [],
   "source": [
    "y_train = y_train.astype(int)\n",
    "X_train = X_train.astype(int)\n",
    "y_test = y_test.astype(int)\n",
    "X_test = X_test.astype(int)"
   ]
  },
  {
   "cell_type": "code",
   "execution_count": 996,
   "id": "cb7a800e",
   "metadata": {},
   "outputs": [
    {
     "data": {
      "text/plain": [
       "XGBClassifier(base_score=0.5, booster='gbtree', callbacks=None,\n",
       "              colsample_bylevel=1, colsample_bynode=1, colsample_bytree=1,\n",
       "              early_stopping_rounds=None, enable_categorical=False,\n",
       "              eval_metric=None, feature_types=None, gamma=0, gpu_id=-1,\n",
       "              grow_policy='depthwise', importance_type=None,\n",
       "              interaction_constraints='', learning_rate=0.300000012,\n",
       "              max_bin=256, max_cat_threshold=64, max_cat_to_onehot=4,\n",
       "              max_delta_step=0, max_depth=6, max_leaves=0, min_child_weight=1,\n",
       "              missing=nan, monotone_constraints='()', n_estimators=100,\n",
       "              n_jobs=0, num_parallel_tree=1, predictor='auto', random_state=0, ...)"
      ]
     },
     "execution_count": 996,
     "metadata": {},
     "output_type": "execute_result"
    }
   ],
   "source": [
    "xgbc.fit(X_train, y_train)"
   ]
  },
  {
   "cell_type": "code",
   "execution_count": 997,
   "id": "9ebebe97",
   "metadata": {},
   "outputs": [
    {
     "name": "stdout",
     "output_type": "stream",
     "text": [
      "[0]\ttrain-mlogloss:1.02446\ttest-mlogloss:1.02928\n",
      "[1]\ttrain-mlogloss:0.96111\ttest-mlogloss:0.96927\n",
      "[2]\ttrain-mlogloss:0.91415\ttest-mlogloss:0.92634\n",
      "[3]\ttrain-mlogloss:0.87257\ttest-mlogloss:0.88860\n",
      "[4]\ttrain-mlogloss:0.83045\ttest-mlogloss:0.84921\n",
      "[5]\ttrain-mlogloss:0.79874\ttest-mlogloss:0.82035\n",
      "[6]\ttrain-mlogloss:0.76915\ttest-mlogloss:0.79417\n"
     ]
    },
    {
     "name": "stderr",
     "output_type": "stream",
     "text": [
      "/opt/anaconda3/lib/python3.9/site-packages/xgboost/core.py:617: FutureWarning: Pass `evals` as keyword args.\n",
      "  warnings.warn(msg, FutureWarning)\n"
     ]
    },
    {
     "name": "stdout",
     "output_type": "stream",
     "text": [
      "[7]\ttrain-mlogloss:0.74195\ttest-mlogloss:0.77066\n",
      "[8]\ttrain-mlogloss:0.71415\ttest-mlogloss:0.74519\n",
      "[9]\ttrain-mlogloss:0.69003\ttest-mlogloss:0.72353\n",
      "[10]\ttrain-mlogloss:0.67066\ttest-mlogloss:0.70686\n",
      "[11]\ttrain-mlogloss:0.65056\ttest-mlogloss:0.68961\n",
      "[12]\ttrain-mlogloss:0.63455\ttest-mlogloss:0.67541\n",
      "[13]\ttrain-mlogloss:0.62086\ttest-mlogloss:0.66343\n",
      "[14]\ttrain-mlogloss:0.60515\ttest-mlogloss:0.65074\n",
      "[15]\ttrain-mlogloss:0.59075\ttest-mlogloss:0.63848\n",
      "[16]\ttrain-mlogloss:0.57813\ttest-mlogloss:0.62855\n",
      "[17]\ttrain-mlogloss:0.56667\ttest-mlogloss:0.62010\n",
      "[18]\ttrain-mlogloss:0.55662\ttest-mlogloss:0.61225\n",
      "[19]\ttrain-mlogloss:0.54647\ttest-mlogloss:0.60413\n",
      "[20]\ttrain-mlogloss:0.53828\ttest-mlogloss:0.59816\n",
      "[21]\ttrain-mlogloss:0.53007\ttest-mlogloss:0.59183\n",
      "[22]\ttrain-mlogloss:0.52233\ttest-mlogloss:0.58643\n",
      "[23]\ttrain-mlogloss:0.51459\ttest-mlogloss:0.58059\n",
      "[24]\ttrain-mlogloss:0.50812\ttest-mlogloss:0.57582\n",
      "[25]\ttrain-mlogloss:0.50170\ttest-mlogloss:0.57111\n",
      "[26]\ttrain-mlogloss:0.49532\ttest-mlogloss:0.56667\n",
      "[27]\ttrain-mlogloss:0.48982\ttest-mlogloss:0.56295\n",
      "[28]\ttrain-mlogloss:0.48410\ttest-mlogloss:0.55943\n",
      "[29]\ttrain-mlogloss:0.47921\ttest-mlogloss:0.55630\n",
      "[30]\ttrain-mlogloss:0.47442\ttest-mlogloss:0.55319\n",
      "[31]\ttrain-mlogloss:0.47012\ttest-mlogloss:0.55025\n",
      "[32]\ttrain-mlogloss:0.46587\ttest-mlogloss:0.54756\n",
      "[33]\ttrain-mlogloss:0.46163\ttest-mlogloss:0.54538\n",
      "[34]\ttrain-mlogloss:0.45769\ttest-mlogloss:0.54293\n",
      "[35]\ttrain-mlogloss:0.45383\ttest-mlogloss:0.54110\n",
      "[36]\ttrain-mlogloss:0.44937\ttest-mlogloss:0.53939\n",
      "[37]\ttrain-mlogloss:0.44552\ttest-mlogloss:0.53832\n",
      "[38]\ttrain-mlogloss:0.44236\ttest-mlogloss:0.53707\n",
      "[39]\ttrain-mlogloss:0.43917\ttest-mlogloss:0.53547\n",
      "[40]\ttrain-mlogloss:0.43551\ttest-mlogloss:0.53426\n",
      "[41]\ttrain-mlogloss:0.43267\ttest-mlogloss:0.53284\n",
      "[42]\ttrain-mlogloss:0.42926\ttest-mlogloss:0.53151\n",
      "[43]\ttrain-mlogloss:0.42647\ttest-mlogloss:0.52997\n",
      "[44]\ttrain-mlogloss:0.42396\ttest-mlogloss:0.52861\n",
      "[45]\ttrain-mlogloss:0.42128\ttest-mlogloss:0.52699\n",
      "[46]\ttrain-mlogloss:0.41834\ttest-mlogloss:0.52563\n",
      "[47]\ttrain-mlogloss:0.41554\ttest-mlogloss:0.52504\n",
      "[48]\ttrain-mlogloss:0.41299\ttest-mlogloss:0.52451\n",
      "[49]\ttrain-mlogloss:0.41044\ttest-mlogloss:0.52367\n",
      "[0. 1. 1. ... 1. 1. 1.]\n",
      "0.23070398642917728\n"
     ]
    }
   ],
   "source": [
    "train_data = xgb.DMatrix(X_train, y_train)\n",
    "test_data = xgb.DMatrix(X_test,y_test)\n",
    "\n",
    "#set parameters\n",
    "params = {'objective':'multi:softmax','num_class':3,'booster':'gbtree','max_depth':5, 'eta':0.1, 'subsample':0.7, 'colsample_bytree':0.7}\n",
    "\n",
    "#training\n",
    "num_round=50\n",
    "watchlist = [(train_data,'train'), (test_data,'test')]  \n",
    "model = xgb.train(params, train_data, num_round, watchlist)\n",
    "\n",
    "#predict\n",
    "pred = model.predict(test_data)\n",
    "print(pred)\n",
    "\n",
    "#error rate\n",
    "error_rate=np.sum(pred!=y_test)/y_test.shape[0]\n",
    "print(error_rate)\n"
   ]
  },
  {
   "cell_type": "code",
   "execution_count": 998,
   "id": "e8c7e57f",
   "metadata": {},
   "outputs": [
    {
     "name": "stdout",
     "output_type": "stream",
     "text": [
      "The two hundred information gain dataset predicts the audience ratings\n",
      "xgbc training_set: accuracy:0.979, precision:0.98, recall:0.98, f1:0.98\n",
      "xgbc test_set: accuracy:0.754, precision:0.749, recall:0.779, f1:0.764\n",
      "                 precision    recall  f1-score   support\n",
      "\n",
      "Audience_rating       0.76      0.73      0.74       577\n",
      "  Tomato_rating       0.75      0.78      0.76       602\n",
      "\n",
      "       accuracy                           0.75      1179\n",
      "      macro avg       0.75      0.75      0.75      1179\n",
      "   weighted avg       0.75      0.75      0.75      1179\n",
      "\n"
     ]
    },
    {
     "data": {
      "image/png": "[encoded data removed]",
      "text/plain": [
       "<Figure size 432x288 with 2 Axes>"
      ]
     },
     "metadata": {
      "needs_background": "light"
     },
     "output_type": "display_data"
    }
   ],
   "source": [
    "print('The two hundred information gain dataset predicts the audience ratings')\n",
    "y_train_pred = xgbc.predict(X_train)\n",
    "y_test_pred = xgbc.predict(X_test)\n",
    "    \n",
    "    \n",
    "#accuracy\n",
    "#train_accuracy = model.score(X_train, y_train)\n",
    "train_accuracy = accuracy_score(y_train, y_train_pred)\n",
    "#test_accuracy = model.score(X_test, y_test)\n",
    "test_accuracy = accuracy_score(y_test, y_test_pred)\n",
    "    \n",
    "#precision\n",
    "train_precision = precision_score(y_train, y_train_pred, pos_label=1)\n",
    "test_precision = precision_score(y_test, y_test_pred, pos_label=1)\n",
    "    \n",
    "#recall\n",
    "train_recall = recall_score(y_train, y_train_pred, pos_label=1)\n",
    "test_recall = recall_score(y_test, y_test_pred, pos_label=1)\n",
    "\n",
    "#f1\n",
    "train_f1 = f1_score(y_train, y_train_pred, pos_label=1)\n",
    "test_f1 = f1_score(y_test, y_test_pred, pos_label=1)\n",
    "    \n",
    "print('{} training_set: accuracy:{:.3}, precision:{:.3}, recall:{:.3}, f1:{:.3}'\n",
    "    .format('xgbc', train_accuracy, train_precision, train_recall, train_f1))\n",
    "print('{} test_set: accuracy:{:.3}, precision:{:.3}, recall:{:.3}, f1:{:.3}'\n",
    "    .format('xgbc', test_accuracy, test_precision, test_recall, test_f1))\n",
    "target_names = ['Audience_rating', 'Tomato_rating']\n",
    "print(classification_report(y_test, y_test_pred, target_names = target_names))\n",
    "confusion_matrix = metrics.confusion_matrix(y_test, y_test_pred)\n",
    "cm_display = metrics.ConfusionMatrixDisplay(confusion_matrix = confusion_matrix, display_labels = [False, True])\n",
    "\n",
    "cm_display.plot()\n",
    "plt.show()"
   ]
  },
  {
   "cell_type": "code",
   "execution_count": 999,
   "id": "9c8340e5",
   "metadata": {},
   "outputs": [],
   "source": [
    "from sklearn.linear_model import LogisticRegression"
   ]
  },
  {
   "cell_type": "code",
   "execution_count": 1000,
   "id": "8ea6c51f",
   "metadata": {},
   "outputs": [
    {
     "name": "stderr",
     "output_type": "stream",
     "text": [
      "/opt/anaconda3/lib/python3.9/site-packages/sklearn/linear_model/_logistic.py:814: ConvergenceWarning: lbfgs failed to converge (status=1):\n",
      "STOP: TOTAL NO. of ITERATIONS REACHED LIMIT.\n",
      "\n",
      "Increase the number of iterations (max_iter) or scale the data as shown in:\n",
      "    https://scikit-learn.org/stable/modules/preprocessing.html\n",
      "Please also refer to the documentation for alternative solver options:\n",
      "    https://scikit-learn.org/stable/modules/linear_model.html#logistic-regression\n",
      "  n_iter_i = _check_optimize_result(\n"
     ]
    },
    {
     "data": {
      "text/plain": [
       "LogisticRegression()"
      ]
     },
     "execution_count": 1000,
     "metadata": {},
     "output_type": "execute_result"
    }
   ],
   "source": [
    "#instantiate the model\n",
    "log_regression = LogisticRegression()\n",
    "\n",
    "#fit the model using the training data\n",
    "log_regression.fit(X_train,y_train)"
   ]
  },
  {
   "cell_type": "code",
   "execution_count": 1001,
   "id": "65c89313",
   "metadata": {},
   "outputs": [
    {
     "data": {
      "image/png": "[encoded data removed]",
      "text/plain": [
       "<Figure size 432x288 with 1 Axes>"
      ]
     },
     "metadata": {
      "needs_background": "light"
     },
     "output_type": "display_data"
    }
   ],
   "source": [
    "#define metrics\n",
    "y_pred_proba = log_regression.predict_proba(X_test)[::,1]\n",
    "fpr, tpr, _ = metrics.roc_curve(y_test,  y_pred_proba)\n",
    "auc = metrics.roc_auc_score(y_test, y_pred_proba)\n",
    "\n",
    "#create ROC curve\n",
    "plt.plot(fpr,tpr,label=\"AUC=\"+str(auc))\n",
    "plt.ylabel('True Positive Rate')\n",
    "plt.xlabel('False Positive Rate')\n",
    "plt.legend(loc=4)\n",
    "plt.show()"
   ]
  },
  {
   "cell_type": "markdown",
   "id": "b1dc54d4",
   "metadata": {},
   "source": [
    "### Four hundred information gain for predicting audience ratings"
   ]
  },
  {
   "cell_type": "code",
   "execution_count": 1002,
   "id": "abefc25c",
   "metadata": {},
   "outputs": [],
   "source": [
    "y = hor_fam_four2['audience_binary_rating']                 \n",
    "X = hor_fam_four2.drop(['audience_binary_rating'], axis=1)"
   ]
  },
  {
   "cell_type": "code",
   "execution_count": 1003,
   "id": "398d18d0",
   "metadata": {},
   "outputs": [],
   "source": [
    "from sklearn.model_selection import train_test_split\n",
    "X_train, X_test, y_train, y_test = train_test_split(X, y, random_state=1, test_size=0.2)\n",
    "from sklearn.model_selection import RandomizedSearchCV\n",
    "from sklearn.ensemble import RandomForestRegressor\n",
    "rf = RandomForestRegressor(random_state = 42)\n",
    "from pprint import pprint"
   ]
  },
  {
   "cell_type": "code",
   "execution_count": 1004,
   "id": "8ccf4359",
   "metadata": {},
   "outputs": [],
   "source": [
    "X_train = minmax_scale(X_train)\n",
    "X_test = minmax_scale(X_test)"
   ]
  },
  {
   "cell_type": "code",
   "execution_count": 1005,
   "id": "0810cfc1",
   "metadata": {},
   "outputs": [
    {
     "data": {
      "text/plain": [
       "RandomForestClassifier(max_depth=46, max_features=70, min_samples_leaf=20,\n",
       "                       n_estimators=50, random_state=1)"
      ]
     },
     "execution_count": 1005,
     "metadata": {},
     "output_type": "execute_result"
    }
   ],
   "source": [
    "RF = RandomForestClassifier(random_state = 1, max_depth = 46, \n",
    "                            max_features=70, min_samples_leaf = 20,\n",
    "                           n_estimators=50)\n",
    "RF.fit(X_train, y_train)"
   ]
  },
  {
   "cell_type": "code",
   "execution_count": 1006,
   "id": "9b99bac3",
   "metadata": {},
   "outputs": [],
   "source": [
    "hyper_params = {'max_depth': range(3, 50),\n",
    "                'max_features': range(3, 50),\n",
    "                'min_samples_leaf': range(20, 400, 50)\n",
    "                }"
   ]
  },
  {
   "cell_type": "code",
   "execution_count": 1007,
   "id": "d7d9a0e1",
   "metadata": {},
   "outputs": [
    {
     "data": {
      "text/plain": [
       "DecisionTreeClassifier(max_depth=32, max_features=40, min_samples_leaf=5,\n",
       "                       random_state=1)"
      ]
     },
     "execution_count": 1007,
     "metadata": {},
     "output_type": "execute_result"
    }
   ],
   "source": [
    "DT = DecisionTreeClassifier(random_state = 1, max_depth = 32, \n",
    "                            max_features=40, min_samples_leaf = 5)\n",
    "DT.fit(X_train, y_train)"
   ]
  },
  {
   "cell_type": "code",
   "execution_count": 1008,
   "id": "91048580",
   "metadata": {},
   "outputs": [],
   "source": [
    "models = [DT, RF]\n",
    "names = ['DT', 'RF']\n",
    "evaluation = ['accuracy', 'precision', 'recall', 'f1']"
   ]
  },
  {
   "cell_type": "code",
   "execution_count": 1009,
   "id": "b5ef344e",
   "metadata": {},
   "outputs": [],
   "source": [
    "from sklearn.metrics import confusion_matrix"
   ]
  },
  {
   "cell_type": "code",
   "execution_count": 1010,
   "id": "a1139ee5",
   "metadata": {},
   "outputs": [
    {
     "name": "stdout",
     "output_type": "stream",
     "text": [
      "The four hundred information gain dataset predicts the audience ratings\n",
      "DT training_set: accuracy:0.834, precision:0.855, recall:0.811, f1:0.832\n",
      "DT test_set: accuracy:0.693, precision:0.729, recall:0.645, f1:0.685\n",
      "                   precision    recall  f1-score   support\n",
      "\n",
      "Horror & Suspense       0.66      0.74      0.70       570\n",
      "     Family Movie       0.73      0.65      0.68       609\n",
      "\n",
      "         accuracy                           0.69      1179\n",
      "        macro avg       0.70      0.69      0.69      1179\n",
      "     weighted avg       0.70      0.69      0.69      1179\n",
      "\n"
     ]
    },
    {
     "data": {
      "image/png": "[encoded data removed]",
      "text/plain": [
       "<Figure size 432x288 with 2 Axes>"
      ]
     },
     "metadata": {
      "needs_background": "light"
     },
     "output_type": "display_data"
    },
    {
     "name": "stdout",
     "output_type": "stream",
     "text": [
      "RF training_set: accuracy:0.787, precision:0.787, recall:0.797, f1:0.792\n",
      "RF test_set: accuracy:0.803, precision:0.813, recall:0.805, f1:0.809\n",
      "                   precision    recall  f1-score   support\n",
      "\n",
      "Horror & Suspense       0.79      0.80      0.80       570\n",
      "     Family Movie       0.81      0.80      0.81       609\n",
      "\n",
      "         accuracy                           0.80      1179\n",
      "        macro avg       0.80      0.80      0.80      1179\n",
      "     weighted avg       0.80      0.80      0.80      1179\n",
      "\n"
     ]
    },
    {
     "data": {
      "image/png": "[encoded data removed]",
      "text/plain": [
       "<Figure size 432x288 with 2 Axes>"
      ]
     },
     "metadata": {
      "needs_background": "light"
     },
     "output_type": "display_data"
    }
   ],
   "source": [
    "df_list = []\n",
    "print('The four hundred information gain dataset predicts the audience ratings')\n",
    "for name, model in zip(names, models):\n",
    "    y_train_pred = model.predict(X_train)\n",
    "    y_test_pred = model.predict(X_test)\n",
    "    \n",
    "    \n",
    "    #accuracy\n",
    "    #train_accuracy = model.score(X_train, y_train)\n",
    "    train_accuracy = accuracy_score(y_train, y_train_pred)\n",
    "    #test_accuracy = model.score(X_test, y_test)\n",
    "    test_accuracy = accuracy_score(y_test, y_test_pred)\n",
    "    \n",
    "    #precision\n",
    "    train_precision = precision_score(y_train, y_train_pred, pos_label='1')\n",
    "    test_precision = precision_score(y_test, y_test_pred, pos_label='1')\n",
    "    \n",
    "    #recall\n",
    "    train_recall = recall_score(y_train, y_train_pred, pos_label='1')\n",
    "    test_recall = recall_score(y_test, y_test_pred, pos_label='1')\n",
    "\n",
    "    #f1\n",
    "    train_f1 = f1_score(y_train, y_train_pred, pos_label='1')\n",
    "    test_f1 = f1_score(y_test, y_test_pred, pos_label='1')\n",
    "    \n",
    "    print('{} training_set: accuracy:{:.3}, precision:{:.3}, recall:{:.3}, f1:{:.3}'\n",
    "         .format(name, train_accuracy, train_precision, train_recall, train_f1))\n",
    "    print('{} test_set: accuracy:{:.3}, precision:{:.3}, recall:{:.3}, f1:{:.3}'\n",
    "         .format(name, test_accuracy, test_precision, test_recall, test_f1))\n",
    "    target_names = ['Horror & Suspense', 'Family Movie']\n",
    "    print(classification_report(y_test, y_test_pred, target_names = target_names))\n",
    "    confusion_matrix = metrics.confusion_matrix(y_test, y_test_pred)\n",
    "    cm_display = metrics.ConfusionMatrixDisplay(confusion_matrix = confusion_matrix, display_labels = [False, True])\n",
    "\n",
    "    cm_display.plot()\n",
    "    plt.show()"
   ]
  },
  {
   "cell_type": "code",
   "execution_count": 1058,
   "id": "575b29a8",
   "metadata": {},
   "outputs": [],
   "source": [
    "xgbc = XGBClassifier()"
   ]
  },
  {
   "cell_type": "code",
   "execution_count": 1059,
   "id": "6618c8f7",
   "metadata": {},
   "outputs": [
    {
     "data": {
      "text/plain": [
       "XGBClassifier(base_score=0.5, booster='gbtree', callbacks=None,\n",
       "              colsample_bylevel=1, colsample_bynode=1, colsample_bytree=1,\n",
       "              early_stopping_rounds=None, enable_categorical=False,\n",
       "              eval_metric=None, feature_types=None, gamma=0, gpu_id=-1,\n",
       "              grow_policy='depthwise', importance_type=None,\n",
       "              interaction_constraints='', learning_rate=0.300000012,\n",
       "              max_bin=256, max_cat_threshold=64, max_cat_to_onehot=4,\n",
       "              max_delta_step=0, max_depth=6, max_leaves=0, min_child_weight=1,\n",
       "              missing=nan, monotone_constraints='()', n_estimators=100,\n",
       "              n_jobs=0, num_parallel_tree=1, predictor='auto', random_state=0, ...)"
      ]
     },
     "execution_count": 1059,
     "metadata": {},
     "output_type": "execute_result"
    }
   ],
   "source": [
    "X_train, X_test, y_train, y_test = train_test_split(X, y, random_state=1, test_size=0.2, stratify = y)\n",
    "y_train = y_train.astype(int)\n",
    "X_train = X_train.astype(int)\n",
    "y_test = y_test.astype(int)\n",
    "X_test = X_test.astype(int)\n",
    "xgbc.fit(X_train, y_train)"
   ]
  },
  {
   "cell_type": "code",
   "execution_count": 1060,
   "id": "7d72c300",
   "metadata": {},
   "outputs": [
    {
     "name": "stdout",
     "output_type": "stream",
     "text": [
      "The four hundred information gain dataset predicts the audience ratings\n",
      "xgbc training_set: accuracy:0.982, precision:0.984, recall:0.981, f1:0.982\n",
      "xgbc test_set: accuracy:0.774, precision:0.771, recall:0.792, f1:0.782\n",
      "                 precision    recall  f1-score   support\n",
      "\n",
      "Audience_rating       0.78      0.76      0.77       578\n",
      "  Tomato_rating       0.77      0.79      0.78       601\n",
      "\n",
      "       accuracy                           0.77      1179\n",
      "      macro avg       0.77      0.77      0.77      1179\n",
      "   weighted avg       0.77      0.77      0.77      1179\n",
      "\n"
     ]
    },
    {
     "data": {
      "image/png": "[encoded data removed]",
      "text/plain": [
       "<Figure size 432x288 with 2 Axes>"
      ]
     },
     "metadata": {
      "needs_background": "light"
     },
     "output_type": "display_data"
    }
   ],
   "source": [
    "print('The four hundred information gain dataset predicts the audience ratings')\n",
    "y_train_pred = xgbc.predict(X_train)\n",
    "y_test_pred = xgbc.predict(X_test)\n",
    "    \n",
    "    \n",
    "#accuracy\n",
    "#train_accuracy = model.score(X_train, y_train)\n",
    "train_accuracy = accuracy_score(y_train, y_train_pred)\n",
    "#test_accuracy = model.score(X_test, y_test)\n",
    "test_accuracy = accuracy_score(y_test, y_test_pred)\n",
    "    \n",
    "#precision\n",
    "train_precision = precision_score(y_train, y_train_pred, pos_label=1)\n",
    "test_precision = precision_score(y_test, y_test_pred, pos_label=1)\n",
    "    \n",
    "#recall\n",
    "train_recall = recall_score(y_train, y_train_pred, pos_label=1)\n",
    "test_recall = recall_score(y_test, y_test_pred, pos_label=1)\n",
    "\n",
    "#f1\n",
    "train_f1 = f1_score(y_train, y_train_pred, pos_label=1)\n",
    "test_f1 = f1_score(y_test, y_test_pred, pos_label=1)\n",
    "    \n",
    "print('{} training_set: accuracy:{:.3}, precision:{:.3}, recall:{:.3}, f1:{:.3}'\n",
    "    .format('xgbc', train_accuracy, train_precision, train_recall, train_f1))\n",
    "print('{} test_set: accuracy:{:.3}, precision:{:.3}, recall:{:.3}, f1:{:.3}'\n",
    "    .format('xgbc', test_accuracy, test_precision, test_recall, test_f1))\n",
    "target_names = ['Audience_rating', 'Tomato_rating']\n",
    "print(classification_report(y_test, y_test_pred, target_names = target_names))\n",
    "confusion_matrix = metrics.confusion_matrix(y_test, y_test_pred)\n",
    "cm_display = metrics.ConfusionMatrixDisplay(confusion_matrix = confusion_matrix, display_labels = [False, True])\n",
    "\n",
    "cm_display.plot()\n",
    "plt.show()"
   ]
  },
  {
   "cell_type": "code",
   "execution_count": 1061,
   "id": "0dc5fcdb",
   "metadata": {},
   "outputs": [],
   "source": [
    "from sklearn.linear_model import LogisticRegression"
   ]
  },
  {
   "cell_type": "code",
   "execution_count": 971,
   "id": "92917f6f",
   "metadata": {},
   "outputs": [
    {
     "name": "stderr",
     "output_type": "stream",
     "text": [
      "/opt/anaconda3/lib/python3.9/site-packages/sklearn/linear_model/_logistic.py:814: ConvergenceWarning: lbfgs failed to converge (status=1):\n",
      "STOP: TOTAL NO. of ITERATIONS REACHED LIMIT.\n",
      "\n",
      "Increase the number of iterations (max_iter) or scale the data as shown in:\n",
      "    https://scikit-learn.org/stable/modules/preprocessing.html\n",
      "Please also refer to the documentation for alternative solver options:\n",
      "    https://scikit-learn.org/stable/modules/linear_model.html#logistic-regression\n",
      "  n_iter_i = _check_optimize_result(\n"
     ]
    },
    {
     "data": {
      "text/plain": [
       "LogisticRegression()"
      ]
     },
     "execution_count": 971,
     "metadata": {},
     "output_type": "execute_result"
    }
   ],
   "source": [
    "#instantiate the model\n",
    "log_regression = LogisticRegression()\n",
    "\n",
    "#fit the model using the training data\n",
    "log_regression.fit(X_train,y_train)"
   ]
  },
  {
   "cell_type": "code",
   "execution_count": 973,
   "id": "f1ad6c77",
   "metadata": {},
   "outputs": [
    {
     "data": {
      "image/png": "[encoded data removed]",
      "text/plain": [
       "<Figure size 432x288 with 1 Axes>"
      ]
     },
     "metadata": {
      "needs_background": "light"
     },
     "output_type": "display_data"
    }
   ],
   "source": [
    "#define metrics\n",
    "y_pred_proba = log_regression.predict_proba(X_test)[::,1]\n",
    "fpr, tpr, _ = metrics.roc_curve(y_test,  y_pred_proba)\n",
    "auc = metrics.roc_auc_score(y_test, y_pred_proba)\n",
    "\n",
    "#create ROC curve\n",
    "plt.plot(fpr,tpr,label=\"AUC=\"+str(auc))\n",
    "plt.ylabel('True Positive Rate')\n",
    "plt.xlabel('False Positive Rate')\n",
    "plt.legend(loc=4)\n",
    "plt.show()"
   ]
  },
  {
   "cell_type": "code",
   "execution_count": null,
   "id": "69bb8609",
   "metadata": {},
   "outputs": [],
   "source": []
  }
 ],
 "metadata": {
  "kernelspec": {
   "display_name": "Python 3 (ipykernel)",
   "language": "python",
   "name": "python3"
  },
  "language_info": {
   "codemirror_mode": {
    "name": "ipython",
    "version": 3
   },
   "file_extension": ".py",
   "mimetype": "text/x-python",
   "name": "python",
   "nbconvert_exporter": "python",
   "pygments_lexer": "ipython3",
   "version": "3.9.7"
  }
 },
 "nbformat": 4,
 "nbformat_minor": 5
}
